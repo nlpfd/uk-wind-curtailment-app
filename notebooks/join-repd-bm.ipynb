{
 "cells": [
  {
   "cell_type": "markdown",
   "id": "7b4314ae",
   "metadata": {},
   "source": [
    "Attempts to join the REPD with BM unit data, in order to find the locations of BM units."
   ]
  },
  {
   "cell_type": "code",
   "execution_count": null,
   "id": "058fb4e7",
   "metadata": {},
   "outputs": [],
   "source": [
    "import pandas as pd\n",
    "from pathlib import Path\n",
    "\n",
    "%load_ext nb_black\n",
    "\n",
    "DATA_PATH = Path(\"../data/locations\")"
   ]
  },
  {
   "cell_type": "markdown",
   "id": "38b4a7ed",
   "metadata": {},
   "source": [
    "# REPD\n",
    "This contains wind farm locations"
   ]
  },
  {
   "cell_type": "code",
   "execution_count": null,
   "id": "52b2a992",
   "metadata": {},
   "outputs": [],
   "source": [
    "repd = pd.read_csv(DATA_PATH / \"repd-october-2022.csv\", encoding=\"ISO-8859-1\")"
   ]
  },
  {
   "cell_type": "code",
   "execution_count": null,
   "id": "8d77eb0f",
   "metadata": {},
   "outputs": [],
   "source": [
    "repd"
   ]
  },
  {
   "cell_type": "code",
   "execution_count": null,
   "id": "70c2e355",
   "metadata": {},
   "outputs": [],
   "source": [
    "df_repd_wind = repd[repd[\"Technology Type\"].str.contains(\"Wind\")].sort_values(\n",
    "    by=\"Installed Capacity (MWelec)\", ascending=False\n",
    ")\n",
    "df_repd_wind"
   ]
  },
  {
   "cell_type": "markdown",
   "id": "6064bc47",
   "metadata": {},
   "source": [
    "# BM data\n",
    "Need to merge one sheet which has nice capacity information, and another which has nice party information - between them these should give us enough to map to the REPD"
   ]
  },
  {
   "cell_type": "code",
   "execution_count": null,
   "id": "7548687a",
   "metadata": {},
   "outputs": [],
   "source": [
    "b1420 = pd.read_csv(DATA_PATH / \"B1420.csv\", header=1)\n",
    "b1420.head()"
   ]
  },
  {
   "cell_type": "code",
   "execution_count": null,
   "id": "57b643ab",
   "metadata": {},
   "outputs": [],
   "source": [
    "b1420 = b1420.set_index(\"BM Unit ID\")"
   ]
  },
  {
   "cell_type": "code",
   "execution_count": null,
   "id": "3ce4b8dc",
   "metadata": {},
   "outputs": [],
   "source": [
    "reg_units = pd.read_csv(DATA_PATH / \"reg_bm_units.csv\", header=1)\n",
    "\n",
    "reg_units = reg_units.set_index(\"BM Unit ID\")"
   ]
  },
  {
   "cell_type": "code",
   "execution_count": null,
   "id": "2a383448",
   "metadata": {},
   "outputs": [],
   "source": [
    "df_bm = pd.merge(reg_units, b1420, left_index=True, right_index=True, how=\"left\")\n",
    "df_bm[\"PSR Type\"] = df_bm[\"PSR Type\"].str.strip(\"&ldquo;\")"
   ]
  },
  {
   "cell_type": "code",
   "execution_count": null,
   "id": "d08d9858",
   "metadata": {},
   "outputs": [],
   "source": [
    "df_bm.groupby(\"PSR Type\").count()"
   ]
  },
  {
   "cell_type": "code",
   "execution_count": null,
   "id": "e6d5dee1",
   "metadata": {},
   "outputs": [],
   "source": [
    "df_bm_wind = df_bm[df_bm[\"PSR Type\"].fillna(\"unknown\").str.contains(\"Wind\")]"
   ]
  },
  {
   "cell_type": "code",
   "execution_count": null,
   "id": "031f00aa",
   "metadata": {},
   "outputs": [],
   "source": [
    "df_bm_wind.columns\n",
    "df_bm_wind = df_bm_wind.sort_values(\n",
    "    by=\"Installed Capacity (Nominal Power) (MW)\", ascending=False\n",
    ")"
   ]
  },
  {
   "cell_type": "code",
   "execution_count": null,
   "id": "22b6c345",
   "metadata": {},
   "outputs": [],
   "source": [
    "len(df_bm_wind)"
   ]
  },
  {
   "cell_type": "markdown",
   "id": "a2000d18",
   "metadata": {},
   "source": [
    "Not enough wind assets here. Turns out this is because many are mistagged as \"generation\""
   ]
  },
  {
   "cell_type": "code",
   "execution_count": null,
   "id": "5093b926",
   "metadata": {},
   "outputs": [],
   "source": [
    "df_bm[df_bm[\"PSR Type\"] == \"Generation\"]"
   ]
  },
  {
   "cell_type": "markdown",
   "id": "cddf6be6",
   "metadata": {},
   "source": [
    "Merge in the BM Fuel Units sheet for a clearer picture of fuel type"
   ]
  },
  {
   "cell_type": "code",
   "execution_count": null,
   "id": "1c7d87b1",
   "metadata": {},
   "outputs": [],
   "source": [
    "df_bm_fuel = pd.read_excel(DATA_PATH / \"BMUFuelType.xls\", header=0)\n",
    "df_bm = pd.merge( df_bm,df_bm_fuel.set_index(\"SETT_BMU_ID\"), left_index=True, right_index=True)\n"
   ]
  },
  {
   "cell_type": "markdown",
   "id": "026cdb7f",
   "metadata": {},
   "source": [
    "Much better"
   ]
  },
  {
   "cell_type": "code",
   "execution_count": null,
   "id": "86160ef2",
   "metadata": {},
   "outputs": [],
   "source": [
    "df_bm[\"FUEL TYPE\"].value_counts()"
   ]
  },
  {
   "cell_type": "markdown",
   "id": "0d09e02d",
   "metadata": {},
   "source": [
    "# Dump data for a manual join"
   ]
  },
  {
   "cell_type": "code",
   "execution_count": null,
   "id": "9790faa6",
   "metadata": {},
   "outputs": [],
   "source": [
    "df_bm[df_bm[\"FUEL TYPE\"] == \"WIND\"].sort_values(\n",
    "    by=\"Installed Capacity (Nominal Power) (MW)\", ascending=False\n",
    ").to_excel(DATA_PATH / \"bm_units_combined.xlsx\")"
   ]
  },
  {
   "cell_type": "code",
   "execution_count": null,
   "id": "9e8de35b",
   "metadata": {},
   "outputs": [],
   "source": [
    "df_repd_wind.to_excel(DATA_PATH / \"repd_wind_units.xlsx\")"
   ]
  },
  {
   "cell_type": "markdown",
   "id": "3c78d6ad",
   "metadata": {},
   "source": [
    "# After mapping\n",
    "Read back in and graph"
   ]
  },
  {
   "cell_type": "code",
   "execution_count": null,
   "id": "30e282b9",
   "metadata": {},
   "outputs": [],
   "source": [
    "from OSGridConverter import grid2latlong, OSGridReference\n",
    "import httpx\n",
    "from functools import cache\n",
    "from typing import Tuple"
   ]
  },
  {
   "cell_type": "code",
   "execution_count": null,
   "id": "90ca48c8",
   "metadata": {},
   "outputs": [],
   "source": [
    "@cache\n",
    "def convert_bng_to_lat_lng(x: float, y: float) -> Tuple[float, float]:\n",
    "    \"\"\"Convert British National Grid xy coords to lat/lng\"\"\"\n",
    "\n",
    "    if not (isinstance(x, float) and abs(x) != 0):\n",
    "        return None, None\n",
    "\n",
    "    r = httpx.get(\n",
    "        f\"https://webapps.bgs.ac.uk/data/webservices/CoordConvert_LL_BNG.cfc?method=BNGtoLatLng&easting={x}&northing={y}\"\n",
    "    )\n",
    "    if r.status_code == 200:\n",
    "        values = r.json()\n",
    "        return values.get(\"LATITUDE\"), values.get(\"LONGITUDE\")\n",
    "    else:\n",
    "        return None, None"
   ]
  },
  {
   "cell_type": "code",
   "execution_count": null,
   "id": "c74535dc",
   "metadata": {},
   "outputs": [],
   "source": [
    "df = pd.read_excel(DATA_PATH / \"bm_units_combined.xlsx\", sheet_name=\"Match\").set_index(\n",
    "    0\n",
    ")"
   ]
  },
  {
   "cell_type": "code",
   "execution_count": null,
   "id": "80662f75",
   "metadata": {},
   "outputs": [],
   "source": [
    "df[[\"lat\", \"lng\"]] = df.apply(\n",
    "    lambda row: convert_bng_to_lat_lng(row[\"x\"], row[\"y\"]), axis=1, result_type=\"expand\"\n",
    ")"
   ]
  },
  {
   "cell_type": "code",
   "execution_count": null,
   "id": "9061a6da",
   "metadata": {},
   "outputs": [],
   "source": [
    "df.columns"
   ]
  },
  {
   "cell_type": "code",
   "execution_count": null,
   "id": "745642e9",
   "metadata": {},
   "outputs": [],
   "source": [
    "df[\n",
    "    [\n",
    "        \"BMU Name\",\n",
    "        \"Installed Capacity (Nominal Power) (MW)\",\n",
    "        \"Match To Site Name\",\n",
    "        \"lat\",\n",
    "        \"lng\",\n",
    "    ]\n",
    "].to_excel(DATA_PATH / \"bm_units_with_locations.xlsx\")"
   ]
  },
  {
   "cell_type": "markdown",
   "id": "06398f82",
   "metadata": {},
   "source": [
    "# Map at last"
   ]
  },
  {
   "cell_type": "code",
   "execution_count": null,
   "id": "9d372e26",
   "metadata": {},
   "outputs": [],
   "source": [
    "df_bm[\"coordinates\"] = df_bm.apply(lambda row: [row[\"lng\"], row[\"lat\"]], axis=1)"
   ]
  },
  {
   "cell_type": "code",
   "execution_count": null,
   "id": "a9452851",
   "metadata": {},
   "outputs": [],
   "source": [
    "df_bm[\"coordinates\"]"
   ]
  },
  {
   "cell_type": "code",
   "execution_count": null,
   "id": "dfa2fbdd",
   "metadata": {},
   "outputs": [],
   "source": [
    "df_bm[[\"coordinates\", \"Installed Capacity (Nominal Power) (MW)\"]].dropna(how=\"any\")"
   ]
  },
  {
   "cell_type": "code",
   "execution_count": null,
   "id": "a81882e7",
   "metadata": {},
   "outputs": [],
   "source": [
    "df_bm[\"size\"]"
   ]
  },
  {
   "cell_type": "code",
   "execution_count": null,
   "id": "2097b2dd",
   "metadata": {},
   "outputs": [],
   "source": [
    "import pydeck as pdk\n",
    "\n",
    "df_bm[\"size\"] = df_bm[\"Installed Capacity (Nominal Power) (MW)\"] + 1\n",
    "# Define a layer to display on a map\n",
    "layer = pdk.Layer(\n",
    "    \"ScatterplotLayer\",\n",
    "    df_bm,\n",
    "    pickable=True,\n",
    "    opacity=0.6,\n",
    "    stroked=False,\n",
    "    filled=True,\n",
    "    radius_scale=20,\n",
    "    radius_min_pixels=1,\n",
    "    radius_max_pixels=200,\n",
    "    line_width_min_pixels=1,\n",
    "    get_position=\"coordinates\",\n",
    "    get_radius=\"size\",\n",
    "    get_fill_color=[255, 140, 0],\n",
    "    get_line_color=[0, 0, 0],\n",
    ")\n",
    "\n",
    "# Set the viewport location\n",
    "view_state = pdk.ViewState(latitude=54, longitude=0, zoom=5, bearing=0, pitch=0)\n",
    "\n",
    "# Render\n",
    "r = pdk.Deck(\n",
    "    layers=[layer],\n",
    "    initial_view_state=view_state,\n",
    ")"
   ]
  },
  {
   "cell_type": "code",
   "execution_count": null,
   "id": "83858d62",
   "metadata": {},
   "outputs": [],
   "source": [
    "r.to_html(\"scatterplot.html\")"
   ]
  },
  {
   "cell_type": "code",
   "execution_count": null,
   "id": "671905ce",
   "metadata": {},
   "outputs": [],
   "source": []
  },
  {
   "cell_type": "code",
   "execution_count": null,
   "id": "1608eea4",
   "metadata": {},
   "outputs": [],
   "source": [
    "import math\n",
    "\n",
    "SCATTERPLOT_LAYER_DATA = \"https://raw.githubusercontent.com/visgl/deck.gl-data/master/website/bart-stations.json\"\n",
    "df = pd.read_json(SCATTERPLOT_LAYER_DATA)\n",
    "\n",
    "# Use pandas to calculate additional data\n",
    "df[\"exits_radius\"] = df[\"exits\"].apply(lambda exits_count: math.sqrt(exits_count))\n",
    "\n",
    "# Define a layer to display on a map\n",
    "layer = pdk.Layer(\n",
    "    \"ScatterplotLayer\",\n",
    "    df,\n",
    "    pickable=True,\n",
    "    opacity=0.8,\n",
    "    stroked=True,\n",
    "    filled=True,\n",
    "    radius_scale=6,\n",
    "    radius_min_pixels=1,\n",
    "    radius_max_pixels=100,\n",
    "    line_width_min_pixels=1,\n",
    "    get_position=\"coordinates\",\n",
    "    get_radius=\"exits_radius\",\n",
    "    get_fill_color=[255, 140, 0],\n",
    "    get_line_color=[0, 0, 0],\n",
    ")\n",
    "\n",
    "# Set the viewport location\n",
    "view_state = pdk.ViewState(latitude=37.7749295, longitude=-122.4194155, zoom=10, bearing=0, pitch=0)\n",
    "\n",
    "# Render\n",
    "r = pdk.Deck(layers=[layer], initial_view_state=view_state, tooltip={\"text\": \"{name}\\n{address}\"})\n",
    "r.to_html(\"scatterplot_layer.html\")\n"
   ]
  },
  {
   "cell_type": "code",
   "execution_count": null,
   "id": "f6e06c79",
   "metadata": {},
   "outputs": [],
   "source": [
    "df"
   ]
  },
  {
   "cell_type": "code",
   "execution_count": null,
   "id": "27f3c0dd",
   "metadata": {},
   "outputs": [],
   "source": []
  }
 ],
 "metadata": {
  "kernelspec": {
   "display_name": "wind-env",
   "language": "python",
   "name": "wind-env"
  },
  "language_info": {
   "codemirror_mode": {
    "name": "ipython",
    "version": 3
   },
   "file_extension": ".py",
   "mimetype": "text/x-python",
   "name": "python",
   "nbconvert_exporter": "python",
   "pygments_lexer": "ipython3",
   "version": "3.9.2"
  }
 },
 "nbformat": 4,
 "nbformat_minor": 5
}
