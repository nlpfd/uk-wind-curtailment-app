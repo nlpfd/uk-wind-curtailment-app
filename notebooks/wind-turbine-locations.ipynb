{
 "cells": [
  {
   "cell_type": "code",
   "execution_count": null,
   "id": "a3ba77cb",
   "metadata": {},
   "outputs": [],
   "source": [
    "import pandas as pd\n",
    "import pydeck as pdk\n",
    "import folium\n",
    "import sys\n",
    "from pathlib import Path\n",
    "import json\n",
    "import plotly.express as px\n",
    "\n",
    "import os\n",
    "\n",
    "sys.path.append(str(Path(os.getcwd()).parent))\n",
    "\n",
    "from lib.constants import DATA_DIR"
   ]
  },
  {
   "cell_type": "code",
   "execution_count": null,
   "id": "dfbb1dab",
   "metadata": {},
   "outputs": [],
   "source": [
    "with open(DATA_DIR/'osuked/wind_farm_data.json') as f:\n",
    "    wind_farm_dict = json.load(f)"
   ]
  },
  {
   "cell_type": "code",
   "execution_count": null,
   "id": "6c262b9a",
   "metadata": {},
   "outputs": [],
   "source": [
    "wind_farm_dict.keys()"
   ]
  },
  {
   "cell_type": "code",
   "execution_count": null,
   "id": "b596ef29",
   "metadata": {},
   "outputs": [],
   "source": [
    "# wind_farm_dict[\"WindFarms\"] += wind_farm_dict[\"Winds\"]"
   ]
  },
  {
   "cell_type": "code",
   "execution_count": null,
   "id": "47e815ab",
   "metadata": {},
   "outputs": [],
   "source": [
    "wind_farm_dict[\"WindFarms\"]"
   ]
  },
  {
   "cell_type": "code",
   "execution_count": null,
   "id": "6ba52a88",
   "metadata": {},
   "outputs": [],
   "source": [
    "all_farms = {}\n",
    "for farm in wind_farm_dict[\"WindFarms\"]:\n",
    "    id_ = farm.get('Id', hash(( farm['Latitude'], farm['Longitude'])))\n",
    "    all_farms[id_] = {\"lat\": farm['Latitude'], \"lng\": farm['Longitude']}"
   ]
  },
  {
   "cell_type": "code",
   "execution_count": null,
   "id": "ea41a333",
   "metadata": {},
   "outputs": [],
   "source": [
    "len(all_farms)"
   ]
  },
  {
   "cell_type": "code",
   "execution_count": null,
   "id": "4f7950e5",
   "metadata": {},
   "outputs": [],
   "source": [
    "m = folium.Map(location=[54.763880, -0])\n",
    "for farm_id, coords in all_farms.items():\n",
    "    folium.Marker(\n",
    "    [coords['lat'], coords['lng']], popup=f\"<b>{farm_id}</b>\"\n",
    "    ).add_to(m)\n"
   ]
  },
  {
   "cell_type": "code",
   "execution_count": null,
   "id": "7a06e2a2",
   "metadata": {},
   "outputs": [],
   "source": [
    "m"
   ]
  },
  {
   "cell_type": "markdown",
   "id": "44a5432d",
   "metadata": {},
   "source": [
    "I think we may be missing a lot of onshore wind?"
   ]
  },
  {
   "cell_type": "markdown",
   "id": "fa04d5b7",
   "metadata": {},
   "source": [
    "# Square this with curtailment"
   ]
  },
  {
   "cell_type": "code",
   "execution_count": null,
   "id": "cec8d1c1",
   "metadata": {},
   "outputs": [],
   "source": [
    "df_curtailment = pd.read_feather(DATA_DIR/\"outputs/curtailment-2022-01-01-2022-02-01.fthr\")"
   ]
  },
  {
   "cell_type": "code",
   "execution_count": null,
   "id": "de3b1f24",
   "metadata": {},
   "outputs": [],
   "source": [
    "downsampled = []\n",
    "for unit, data in df_curtailment.groupby(\"unit\"):\n",
    "    data = data.set_index(\"Time\")\n",
    "    data = data.resample(\"H\").sum().reset_index()\n",
    "    data['unit'] = unit\n",
    "    downsampled.append(data)"
   ]
  },
  {
   "cell_type": "code",
   "execution_count": null,
   "id": "92b6f5c1",
   "metadata": {},
   "outputs": [],
   "source": [
    "px.line(pd.concat(downsampled), x='Time', y='delta', color='unit')"
   ]
  },
  {
   "cell_type": "code",
   "execution_count": null,
   "id": "04a57a69",
   "metadata": {},
   "outputs": [],
   "source": [
    "wind_farm_ids = [farm['Id'] for farm in wind_farm_dict[\"WindFarms\"]]\n",
    "sorted(wind_farm_ids)"
   ]
  },
  {
   "cell_type": "markdown",
   "id": "236e1573",
   "metadata": {},
   "source": [
    "These don't seem to be the same thing as the BM unit ids :) "
   ]
  },
  {
   "cell_type": "code",
   "execution_count": null,
   "id": "673985c2",
   "metadata": {},
   "outputs": [],
   "source": [
    "df_curtailment['unit'].unique()"
   ]
  },
  {
   "cell_type": "code",
   "execution_count": null,
   "id": "3432766d",
   "metadata": {},
   "outputs": [],
   "source": [
    "data_dict = pd.read_csv(DATA_DIR/\"osuked/dictionary_attributes.csv\")"
   ]
  },
  {
   "cell_type": "code",
   "execution_count": null,
   "id": "320dc0f3",
   "metadata": {},
   "outputs": [],
   "source": [
    "data_dict[data_dict[\"id_type\"]==\"ngc_bmu_id\"]\n"
   ]
  },
  {
   "cell_type": "code",
   "execution_count": null,
   "id": "feea55b5",
   "metadata": {},
   "outputs": [],
   "source": [
    "data_dict[data_dict[\"dictionary_id\"]==10000]\n"
   ]
  },
  {
   "cell_type": "markdown",
   "id": "64993886",
   "metadata": {},
   "source": [
    "Our unit ID's dont seem to be in this data dictionary thing either, I think because we're using `sett` not `ngc`"
   ]
  },
  {
   "cell_type": "code",
   "execution_count": null,
   "id": "6337f751",
   "metadata": {},
   "outputs": [],
   "source": [
    "for unit_id in df_curtailment['unit'].unique():\n",
    "    print(data_dict[data_dict[\"id\"]==unit_id])"
   ]
  },
  {
   "cell_type": "code",
   "execution_count": null,
   "id": "76eaf339",
   "metadata": {},
   "outputs": [],
   "source": [
    "def convert_sett_to_ngc_id(id_: str) -> str:\n",
    "    return id_.split(\"_\")[1]"
   ]
  },
  {
   "cell_type": "markdown",
   "id": "bf24b51b",
   "metadata": {},
   "source": [
    "Yep this works."
   ]
  },
  {
   "cell_type": "code",
   "execution_count": null,
   "id": "5f3f3072",
   "metadata": {},
   "outputs": [],
   "source": [
    "for unit_id in df_curtailment['unit'].unique():\n",
    "    is_present = len(data_dict[data_dict[\"id\"]==convert_sett_to_ngc_id(unit_id)]) > 0\n",
    "    print(unit_id, is_present)"
   ]
  },
  {
   "cell_type": "markdown",
   "id": "e2a721fc",
   "metadata": {},
   "source": [
    "And yet even after applying this conversion, only 3 of our IDs are present on the map"
   ]
  },
  {
   "cell_type": "code",
   "execution_count": null,
   "id": "282c032e",
   "metadata": {},
   "outputs": [],
   "source": [
    "set(wind_farm_ids).intersection(set([convert_sett_to_ngc_id(id_) for id_ in df_curtailment['unit'].unique()]))"
   ]
  },
  {
   "cell_type": "markdown",
   "id": "19ea5ec1",
   "metadata": {},
   "source": [
    "So it looks like we need to get coords from this data dict monstrosity"
   ]
  },
  {
   "cell_type": "code",
   "execution_count": null,
   "id": "a1434a19",
   "metadata": {},
   "outputs": [],
   "source": [
    "def get_coords_from_data_dict(sett_id: str) -> dict:\n",
    "    ngc_id = convert_sett_to_ngc_id(sett_id)\n",
    "    entries = data_dict[data_dict['id'] == ngc_id]\n",
    "    print(entries['attribute'].unique())\n",
    "    if len(entries) > 0:\n",
    "        return dict(lat=entries.loc[entries['attribute']=='Latitude', \"value\"],\n",
    "               lng = entries.loc[entries['attribute']=='Longitude', \"value\"])\n",
    "    return None\n",
    "    "
   ]
  },
  {
   "cell_type": "code",
   "execution_count": null,
   "id": "5381c652",
   "metadata": {},
   "outputs": [],
   "source": [
    "output = {}\n",
    "for unit in df_curtailment['unit'].unique():\n",
    "    output[unit]=get_coords_from_data_dict(unit)"
   ]
  },
  {
   "cell_type": "code",
   "execution_count": null,
   "id": "1683a923",
   "metadata": {},
   "outputs": [],
   "source": [
    "output"
   ]
  },
  {
   "cell_type": "markdown",
   "id": "e0e6f1ae",
   "metadata": {},
   "source": [
    "Unfortunately the lat/lng don't seem to be there either!"
   ]
  },
  {
   "cell_type": "markdown",
   "id": "44df8221",
   "metadata": {},
   "source": [
    "# Hacks\n",
    "If we have all the wind units, we expect there to be a bimodal distribution with the stuff north of B6 being curtailed and everything below not..."
   ]
  },
  {
   "cell_type": "code",
   "execution_count": null,
   "id": "28a9b747",
   "metadata": {},
   "outputs": [],
   "source": [
    "by_unit = df_curtailment.groupby('unit').sum().reset_index()\n",
    "px.histogram(by_unit, x='delta', nbins=100)\n"
   ]
  },
  {
   "cell_type": "code",
   "execution_count": null,
   "id": "13164578",
   "metadata": {},
   "outputs": [],
   "source": [
    "px.bar(by_unit, x='delta', y='unit')"
   ]
  },
  {
   "cell_type": "code",
   "execution_count": null,
   "id": "9f336658",
   "metadata": {},
   "outputs": [],
   "source": []
  }
 ],
 "metadata": {
  "kernelspec": {
   "display_name": "wind-env",
   "language": "python",
   "name": "wind-env"
  },
  "language_info": {
   "codemirror_mode": {
    "name": "ipython",
    "version": 3
   },
   "file_extension": ".py",
   "mimetype": "text/x-python",
   "name": "python",
   "nbconvert_exporter": "python",
   "pygments_lexer": "ipython3",
   "version": "3.9.2"
  }
 },
 "nbformat": 4,
 "nbformat_minor": 5
}