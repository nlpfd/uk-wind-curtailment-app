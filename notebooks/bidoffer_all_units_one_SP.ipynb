{
 "cells": [
  {
   "cell_type": "code",
   "execution_count": null,
   "metadata": {},
   "outputs": [],
   "source": []
  },
  {
   "cell_type": "code",
   "execution_count": null,
   "metadata": {},
   "outputs": [],
   "source": []
  },
  {
   "cell_type": "code",
   "execution_count": 1,
   "metadata": {},
   "outputs": [],
   "source": [
    "import pandas as pd\n",
    "import plotly.express as px\n",
    "import plotly.graph_objects as go\n",
    "import numpy as np\n",
    "\n",
    "from typing import Tuple\n",
    "\n",
    "MINUTES_TO_HOURS = 1 / 60"
   ]
  },
  {
   "cell_type": "code",
   "execution_count": null,
   "metadata": {},
   "outputs": [],
   "source": []
  },
  {
   "cell_type": "markdown",
   "metadata": {},
   "source": [
    "# Bid Offer Analysis\n",
    "This analysis focuses on March 19th 2022, based upon the analysis done in the other notebooks which identified this as a period of negative prices.\n",
    "\n",
    "It focuses upon accepted offers to reduce generation."
   ]
  },
  {
   "cell_type": "code",
   "execution_count": 2,
   "metadata": {},
   "outputs": [],
   "source": [
    "df_bm_units = pd.read_excel(\"../data/BMUFuelType.xls\", header=0)"
   ]
  },
  {
   "cell_type": "code",
   "execution_count": 3,
   "metadata": {},
   "outputs": [],
   "source": [
    "df_fpn = pd.read_csv(\n",
    "    \"../data/PhysicalData_20220319_27.csv\",\n",
    "    skiprows=lambda x: x > 1541 or x == 0,\n",
    "    names=[\n",
    "        \"Notification Type\",\n",
    "        \"Unit ID\",\n",
    "        \"Settlement Period\",\n",
    "        \"From Time\",\n",
    "        \"From Level\",\n",
    "        \"To Time\",\n",
    "        \"To Level\",\n",
    "    ],\n",
    "    parse_dates=[\"From Time\", \"To Time\"],\n",
    "    date_parser=lambda x: pd.to_datetime(x, format=\"%Y%m%d%H%M%S\"),\n",
    ")  # This includes other kinds of data with different cols\n",
    "\n",
    "df_fpn = (\n",
    "    df_fpn.set_index(\"Unit ID\")\n",
    "    .join(df_bm_units.set_index(\"SETT_BMU_ID\")[\"FUEL TYPE\"])\n",
    "    .rename(columns={\"FUEL TYPE\": \"Fuel Type\"})\n",
    ")"
   ]
  },
  {
   "cell_type": "markdown",
   "metadata": {},
   "source": [
    "There are many different forms here:\n",
    "- FPN (Final Physical Notification): what the operators tell the grid they're going to generate\n",
    "- QPN (Quiescent Physical Notifications)\n",
    "- MEL (Maximum Export Limit)\n",
    "- MIL (Maximum Import Limit)\n",
    "- BOAL (Bid-Offer Acceptance Level Data)"
   ]
  },
  {
   "cell_type": "code",
   "execution_count": 4,
   "metadata": {},
   "outputs": [],
   "source": [
    "df_boal = pd.read_csv(\n",
    "    \"../data/PhysicalData_20220319_27.csv\",\n",
    "    skiprows=lambda x: x < 5718,\n",
    "    names=[\n",
    "        \"Notification Type\",\n",
    "        \"Unit ID\",\n",
    "        \"Accept ID\",\n",
    "        \"Accept Time\",\n",
    "        \"Deemed Flag\",\n",
    "        \"SO Flag\",\n",
    "        \"STOR Provider Flag\",\n",
    "        \"RR Instruction Flag\",\n",
    "        \"RR Schedule Flag\",\n",
    "        \"From Time\",\n",
    "        \"From Level\",\n",
    "        \"To Time\",\n",
    "        \"To Level\",\n",
    "    ],\n",
    "    parse_dates=[\"Accept Time\", \"From Time\", \"To Time\"],\n",
    "    date_parser=lambda x: pd.to_datetime(x, format=\"%Y%m%d%H%M%S\"),\n",
    ")  # This includes other kinds of data with different cols\n",
    "\n",
    "df_boal = df_boal[df_boal[\"Notification Type\"] == \"BOALF\"]\n",
    "df_boal[\"Accept ID\"] = df_boal[\"Accept ID\"].astype(int)\n",
    "df_boal = (\n",
    "    df_boal.set_index(\"Unit ID\")\n",
    "    .join(df_bm_units.set_index(\"SETT_BMU_ID\")[\"FUEL TYPE\"])\n",
    "    .rename(columns={\"FUEL TYPE\": \"Fuel Type\"})\n",
    ")"
   ]
  },
  {
   "cell_type": "code",
   "execution_count": 5,
   "metadata": {},
   "outputs": [],
   "source": [
    "BOOL_COLS = [\n",
    "    \"Deemed Flag\",\n",
    "    \"SO Flag\",\n",
    "    \"STOR Provider Flag\",\n",
    "    \"RR Instruction Flag\",\n",
    "    \"RR Schedule Flag\",\n",
    "]\n",
    "\n",
    "df_boal[BOOL_COLS] = df_boal[BOOL_COLS].apply(lambda x: x == \"T\")"
   ]
  },
  {
   "cell_type": "markdown",
   "metadata": {},
   "source": [
    "I believe the SO Flag is identifying System Operator actions i.e. the ones we are interested in"
   ]
  },
  {
   "cell_type": "code",
   "execution_count": 6,
   "metadata": {},
   "outputs": [
    {
     "data": {
      "text/html": [
       "<div>\n",
       "<style scoped>\n",
       "    .dataframe tbody tr th:only-of-type {\n",
       "        vertical-align: middle;\n",
       "    }\n",
       "\n",
       "    .dataframe tbody tr th {\n",
       "        vertical-align: top;\n",
       "    }\n",
       "\n",
       "    .dataframe thead th {\n",
       "        text-align: right;\n",
       "    }\n",
       "</style>\n",
       "<table border=\"1\" class=\"dataframe\">\n",
       "  <thead>\n",
       "    <tr style=\"text-align: right;\">\n",
       "      <th></th>\n",
       "      <th>Notification Type</th>\n",
       "      <th>Accept ID</th>\n",
       "      <th>Accept Time</th>\n",
       "      <th>Deemed Flag</th>\n",
       "      <th>SO Flag</th>\n",
       "      <th>STOR Provider Flag</th>\n",
       "      <th>RR Instruction Flag</th>\n",
       "      <th>RR Schedule Flag</th>\n",
       "      <th>From Time</th>\n",
       "      <th>From Level</th>\n",
       "      <th>To Time</th>\n",
       "      <th>To Level</th>\n",
       "      <th>Fuel Type</th>\n",
       "    </tr>\n",
       "  </thead>\n",
       "  <tbody>\n",
       "    <tr>\n",
       "      <th>T_CARR-1</th>\n",
       "      <td>BOALF</td>\n",
       "      <td>79613</td>\n",
       "      <td>2022-03-19 12:09:00</td>\n",
       "      <td>False</td>\n",
       "      <td>True</td>\n",
       "      <td>False</td>\n",
       "      <td>False</td>\n",
       "      <td>False</td>\n",
       "      <td>2022-03-19 13:00:00</td>\n",
       "      <td>176.0</td>\n",
       "      <td>2022-03-19 13:30:00</td>\n",
       "      <td>176.0</td>\n",
       "      <td>CCGT</td>\n",
       "    </tr>\n",
       "    <tr>\n",
       "      <th>T_CARR-1</th>\n",
       "      <td>BOALF</td>\n",
       "      <td>79614</td>\n",
       "      <td>2022-03-19 12:44:00</td>\n",
       "      <td>False</td>\n",
       "      <td>True</td>\n",
       "      <td>False</td>\n",
       "      <td>False</td>\n",
       "      <td>False</td>\n",
       "      <td>2022-03-19 12:46:00</td>\n",
       "      <td>176.0</td>\n",
       "      <td>2022-03-19 13:46:00</td>\n",
       "      <td>176.0</td>\n",
       "      <td>CCGT</td>\n",
       "    </tr>\n",
       "    <tr>\n",
       "      <th>T_CARR-1</th>\n",
       "      <td>BOALF</td>\n",
       "      <td>79615</td>\n",
       "      <td>2022-03-19 13:26:00</td>\n",
       "      <td>False</td>\n",
       "      <td>True</td>\n",
       "      <td>False</td>\n",
       "      <td>False</td>\n",
       "      <td>False</td>\n",
       "      <td>2022-03-19 13:28:00</td>\n",
       "      <td>176.0</td>\n",
       "      <td>2022-03-19 14:13:00</td>\n",
       "      <td>176.0</td>\n",
       "      <td>CCGT</td>\n",
       "    </tr>\n",
       "    <tr>\n",
       "      <th>T_EAAO-1</th>\n",
       "      <td>BOALF</td>\n",
       "      <td>4379</td>\n",
       "      <td>2022-03-19 12:46:00</td>\n",
       "      <td>False</td>\n",
       "      <td>True</td>\n",
       "      <td>False</td>\n",
       "      <td>False</td>\n",
       "      <td>False</td>\n",
       "      <td>2022-03-19 12:49:00</td>\n",
       "      <td>230.0</td>\n",
       "      <td>2022-03-19 13:19:00</td>\n",
       "      <td>230.0</td>\n",
       "      <td>WIND</td>\n",
       "    </tr>\n",
       "    <tr>\n",
       "      <th>T_EAAO-1</th>\n",
       "      <td>BOALF</td>\n",
       "      <td>4379</td>\n",
       "      <td>2022-03-19 12:46:00</td>\n",
       "      <td>False</td>\n",
       "      <td>True</td>\n",
       "      <td>False</td>\n",
       "      <td>False</td>\n",
       "      <td>False</td>\n",
       "      <td>2022-03-19 13:19:00</td>\n",
       "      <td>230.0</td>\n",
       "      <td>2022-03-19 13:22:00</td>\n",
       "      <td>336.0</td>\n",
       "      <td>WIND</td>\n",
       "    </tr>\n",
       "    <tr>\n",
       "      <th>T_EAAO-1</th>\n",
       "      <td>BOALF</td>\n",
       "      <td>4380</td>\n",
       "      <td>2022-03-19 13:04:00</td>\n",
       "      <td>False</td>\n",
       "      <td>True</td>\n",
       "      <td>False</td>\n",
       "      <td>False</td>\n",
       "      <td>False</td>\n",
       "      <td>2022-03-19 13:19:00</td>\n",
       "      <td>230.0</td>\n",
       "      <td>2022-03-19 13:49:00</td>\n",
       "      <td>230.0</td>\n",
       "      <td>WIND</td>\n",
       "    </tr>\n",
       "    <tr>\n",
       "      <th>T_LAGA-1</th>\n",
       "      <td>BOALF</td>\n",
       "      <td>133192</td>\n",
       "      <td>2022-03-19 12:00:00</td>\n",
       "      <td>False</td>\n",
       "      <td>True</td>\n",
       "      <td>False</td>\n",
       "      <td>False</td>\n",
       "      <td>False</td>\n",
       "      <td>2022-03-19 13:20:00</td>\n",
       "      <td>0.0</td>\n",
       "      <td>2022-03-19 13:30:00</td>\n",
       "      <td>17.0</td>\n",
       "      <td>CCGT</td>\n",
       "    </tr>\n",
       "    <tr>\n",
       "      <th>T_LAGA-1</th>\n",
       "      <td>BOALF</td>\n",
       "      <td>133193</td>\n",
       "      <td>2022-03-19 12:32:00</td>\n",
       "      <td>False</td>\n",
       "      <td>True</td>\n",
       "      <td>False</td>\n",
       "      <td>False</td>\n",
       "      <td>False</td>\n",
       "      <td>2022-03-19 13:29:00</td>\n",
       "      <td>16.0</td>\n",
       "      <td>2022-03-19 14:00:00</td>\n",
       "      <td>71.0</td>\n",
       "      <td>CCGT</td>\n",
       "    </tr>\n",
       "    <tr>\n",
       "      <th>T_MRWD-1</th>\n",
       "      <td>BOALF</td>\n",
       "      <td>144962</td>\n",
       "      <td>2022-03-19 12:01:00</td>\n",
       "      <td>False</td>\n",
       "      <td>True</td>\n",
       "      <td>False</td>\n",
       "      <td>False</td>\n",
       "      <td>False</td>\n",
       "      <td>2022-03-19 12:59:00</td>\n",
       "      <td>450.0</td>\n",
       "      <td>2022-03-19 13:30:00</td>\n",
       "      <td>450.0</td>\n",
       "      <td>CCGT</td>\n",
       "    </tr>\n",
       "    <tr>\n",
       "      <th>T_MRWD-1</th>\n",
       "      <td>BOALF</td>\n",
       "      <td>144965</td>\n",
       "      <td>2022-03-19 12:32:00</td>\n",
       "      <td>False</td>\n",
       "      <td>True</td>\n",
       "      <td>False</td>\n",
       "      <td>False</td>\n",
       "      <td>False</td>\n",
       "      <td>2022-03-19 13:29:00</td>\n",
       "      <td>450.0</td>\n",
       "      <td>2022-03-19 14:00:00</td>\n",
       "      <td>450.0</td>\n",
       "      <td>CCGT</td>\n",
       "    </tr>\n",
       "    <tr>\n",
       "      <th>T_PEMB-21</th>\n",
       "      <td>BOALF</td>\n",
       "      <td>88401</td>\n",
       "      <td>2022-03-19 12:01:00</td>\n",
       "      <td>False</td>\n",
       "      <td>True</td>\n",
       "      <td>False</td>\n",
       "      <td>False</td>\n",
       "      <td>False</td>\n",
       "      <td>2022-03-19 12:59:00</td>\n",
       "      <td>219.0</td>\n",
       "      <td>2022-03-19 13:30:00</td>\n",
       "      <td>219.0</td>\n",
       "      <td>CCGT</td>\n",
       "    </tr>\n",
       "    <tr>\n",
       "      <th>T_PEMB-21</th>\n",
       "      <td>BOALF</td>\n",
       "      <td>88402</td>\n",
       "      <td>2022-03-19 12:31:00</td>\n",
       "      <td>False</td>\n",
       "      <td>True</td>\n",
       "      <td>False</td>\n",
       "      <td>False</td>\n",
       "      <td>False</td>\n",
       "      <td>2022-03-19 13:29:00</td>\n",
       "      <td>219.0</td>\n",
       "      <td>2022-03-19 14:00:00</td>\n",
       "      <td>219.0</td>\n",
       "      <td>CCGT</td>\n",
       "    </tr>\n",
       "    <tr>\n",
       "      <th>T_WBURB-1</th>\n",
       "      <td>BOALF</td>\n",
       "      <td>112234</td>\n",
       "      <td>2022-03-19 12:08:00</td>\n",
       "      <td>False</td>\n",
       "      <td>True</td>\n",
       "      <td>False</td>\n",
       "      <td>False</td>\n",
       "      <td>False</td>\n",
       "      <td>2022-03-19 12:10:00</td>\n",
       "      <td>160.0</td>\n",
       "      <td>2022-03-19 13:10:00</td>\n",
       "      <td>160.0</td>\n",
       "      <td>CCGT</td>\n",
       "    </tr>\n",
       "    <tr>\n",
       "      <th>T_WBURB-1</th>\n",
       "      <td>BOALF</td>\n",
       "      <td>112234</td>\n",
       "      <td>2022-03-19 12:08:00</td>\n",
       "      <td>False</td>\n",
       "      <td>True</td>\n",
       "      <td>False</td>\n",
       "      <td>False</td>\n",
       "      <td>False</td>\n",
       "      <td>2022-03-19 13:10:00</td>\n",
       "      <td>160.0</td>\n",
       "      <td>2022-03-19 13:11:00</td>\n",
       "      <td>158.0</td>\n",
       "      <td>CCGT</td>\n",
       "    </tr>\n",
       "    <tr>\n",
       "      <th>T_WBURB-1</th>\n",
       "      <td>BOALF</td>\n",
       "      <td>112234</td>\n",
       "      <td>2022-03-19 12:08:00</td>\n",
       "      <td>False</td>\n",
       "      <td>True</td>\n",
       "      <td>False</td>\n",
       "      <td>False</td>\n",
       "      <td>False</td>\n",
       "      <td>2022-03-19 13:11:00</td>\n",
       "      <td>158.0</td>\n",
       "      <td>2022-03-19 13:22:00</td>\n",
       "      <td>30.0</td>\n",
       "      <td>CCGT</td>\n",
       "    </tr>\n",
       "    <tr>\n",
       "      <th>T_WBURB-1</th>\n",
       "      <td>BOALF</td>\n",
       "      <td>112234</td>\n",
       "      <td>2022-03-19 12:08:00</td>\n",
       "      <td>False</td>\n",
       "      <td>True</td>\n",
       "      <td>False</td>\n",
       "      <td>False</td>\n",
       "      <td>False</td>\n",
       "      <td>2022-03-19 13:22:00</td>\n",
       "      <td>30.0</td>\n",
       "      <td>2022-03-19 13:23:00</td>\n",
       "      <td>0.0</td>\n",
       "      <td>CCGT</td>\n",
       "    </tr>\n",
       "    <tr>\n",
       "      <th>T_WBURB-1</th>\n",
       "      <td>BOALF</td>\n",
       "      <td>112235</td>\n",
       "      <td>2022-03-19 12:44:00</td>\n",
       "      <td>False</td>\n",
       "      <td>True</td>\n",
       "      <td>False</td>\n",
       "      <td>False</td>\n",
       "      <td>False</td>\n",
       "      <td>2022-03-19 12:46:00</td>\n",
       "      <td>160.0</td>\n",
       "      <td>2022-03-19 13:46:00</td>\n",
       "      <td>160.0</td>\n",
       "      <td>CCGT</td>\n",
       "    </tr>\n",
       "    <tr>\n",
       "      <th>T_WBURB-1</th>\n",
       "      <td>BOALF</td>\n",
       "      <td>112236</td>\n",
       "      <td>2022-03-19 13:26:00</td>\n",
       "      <td>False</td>\n",
       "      <td>True</td>\n",
       "      <td>False</td>\n",
       "      <td>False</td>\n",
       "      <td>False</td>\n",
       "      <td>2022-03-19 13:28:00</td>\n",
       "      <td>160.0</td>\n",
       "      <td>2022-03-19 14:08:00</td>\n",
       "      <td>160.0</td>\n",
       "      <td>CCGT</td>\n",
       "    </tr>\n",
       "  </tbody>\n",
       "</table>\n",
       "</div>"
      ],
      "text/plain": [
       "          Notification Type  Accept ID         Accept Time  Deemed Flag  \\\n",
       "T_CARR-1              BOALF      79613 2022-03-19 12:09:00        False   \n",
       "T_CARR-1              BOALF      79614 2022-03-19 12:44:00        False   \n",
       "T_CARR-1              BOALF      79615 2022-03-19 13:26:00        False   \n",
       "T_EAAO-1              BOALF       4379 2022-03-19 12:46:00        False   \n",
       "T_EAAO-1              BOALF       4379 2022-03-19 12:46:00        False   \n",
       "T_EAAO-1              BOALF       4380 2022-03-19 13:04:00        False   \n",
       "T_LAGA-1              BOALF     133192 2022-03-19 12:00:00        False   \n",
       "T_LAGA-1              BOALF     133193 2022-03-19 12:32:00        False   \n",
       "T_MRWD-1              BOALF     144962 2022-03-19 12:01:00        False   \n",
       "T_MRWD-1              BOALF     144965 2022-03-19 12:32:00        False   \n",
       "T_PEMB-21             BOALF      88401 2022-03-19 12:01:00        False   \n",
       "T_PEMB-21             BOALF      88402 2022-03-19 12:31:00        False   \n",
       "T_WBURB-1             BOALF     112234 2022-03-19 12:08:00        False   \n",
       "T_WBURB-1             BOALF     112234 2022-03-19 12:08:00        False   \n",
       "T_WBURB-1             BOALF     112234 2022-03-19 12:08:00        False   \n",
       "T_WBURB-1             BOALF     112234 2022-03-19 12:08:00        False   \n",
       "T_WBURB-1             BOALF     112235 2022-03-19 12:44:00        False   \n",
       "T_WBURB-1             BOALF     112236 2022-03-19 13:26:00        False   \n",
       "\n",
       "           SO Flag  STOR Provider Flag  RR Instruction Flag  RR Schedule Flag  \\\n",
       "T_CARR-1      True               False                False             False   \n",
       "T_CARR-1      True               False                False             False   \n",
       "T_CARR-1      True               False                False             False   \n",
       "T_EAAO-1      True               False                False             False   \n",
       "T_EAAO-1      True               False                False             False   \n",
       "T_EAAO-1      True               False                False             False   \n",
       "T_LAGA-1      True               False                False             False   \n",
       "T_LAGA-1      True               False                False             False   \n",
       "T_MRWD-1      True               False                False             False   \n",
       "T_MRWD-1      True               False                False             False   \n",
       "T_PEMB-21     True               False                False             False   \n",
       "T_PEMB-21     True               False                False             False   \n",
       "T_WBURB-1     True               False                False             False   \n",
       "T_WBURB-1     True               False                False             False   \n",
       "T_WBURB-1     True               False                False             False   \n",
       "T_WBURB-1     True               False                False             False   \n",
       "T_WBURB-1     True               False                False             False   \n",
       "T_WBURB-1     True               False                False             False   \n",
       "\n",
       "                    From Time  From Level             To Time  To Level  \\\n",
       "T_CARR-1  2022-03-19 13:00:00       176.0 2022-03-19 13:30:00     176.0   \n",
       "T_CARR-1  2022-03-19 12:46:00       176.0 2022-03-19 13:46:00     176.0   \n",
       "T_CARR-1  2022-03-19 13:28:00       176.0 2022-03-19 14:13:00     176.0   \n",
       "T_EAAO-1  2022-03-19 12:49:00       230.0 2022-03-19 13:19:00     230.0   \n",
       "T_EAAO-1  2022-03-19 13:19:00       230.0 2022-03-19 13:22:00     336.0   \n",
       "T_EAAO-1  2022-03-19 13:19:00       230.0 2022-03-19 13:49:00     230.0   \n",
       "T_LAGA-1  2022-03-19 13:20:00         0.0 2022-03-19 13:30:00      17.0   \n",
       "T_LAGA-1  2022-03-19 13:29:00        16.0 2022-03-19 14:00:00      71.0   \n",
       "T_MRWD-1  2022-03-19 12:59:00       450.0 2022-03-19 13:30:00     450.0   \n",
       "T_MRWD-1  2022-03-19 13:29:00       450.0 2022-03-19 14:00:00     450.0   \n",
       "T_PEMB-21 2022-03-19 12:59:00       219.0 2022-03-19 13:30:00     219.0   \n",
       "T_PEMB-21 2022-03-19 13:29:00       219.0 2022-03-19 14:00:00     219.0   \n",
       "T_WBURB-1 2022-03-19 12:10:00       160.0 2022-03-19 13:10:00     160.0   \n",
       "T_WBURB-1 2022-03-19 13:10:00       160.0 2022-03-19 13:11:00     158.0   \n",
       "T_WBURB-1 2022-03-19 13:11:00       158.0 2022-03-19 13:22:00      30.0   \n",
       "T_WBURB-1 2022-03-19 13:22:00        30.0 2022-03-19 13:23:00       0.0   \n",
       "T_WBURB-1 2022-03-19 12:46:00       160.0 2022-03-19 13:46:00     160.0   \n",
       "T_WBURB-1 2022-03-19 13:28:00       160.0 2022-03-19 14:08:00     160.0   \n",
       "\n",
       "          Fuel Type  \n",
       "T_CARR-1       CCGT  \n",
       "T_CARR-1       CCGT  \n",
       "T_CARR-1       CCGT  \n",
       "T_EAAO-1       WIND  \n",
       "T_EAAO-1       WIND  \n",
       "T_EAAO-1       WIND  \n",
       "T_LAGA-1       CCGT  \n",
       "T_LAGA-1       CCGT  \n",
       "T_MRWD-1       CCGT  \n",
       "T_MRWD-1       CCGT  \n",
       "T_PEMB-21      CCGT  \n",
       "T_PEMB-21      CCGT  \n",
       "T_WBURB-1      CCGT  \n",
       "T_WBURB-1      CCGT  \n",
       "T_WBURB-1      CCGT  \n",
       "T_WBURB-1      CCGT  \n",
       "T_WBURB-1      CCGT  \n",
       "T_WBURB-1      CCGT  "
      ]
     },
     "execution_count": 6,
     "metadata": {},
     "output_type": "execute_result"
    }
   ],
   "source": [
    "df_boal[df_boal[\"SO Flag\"]]"
   ]
  },
  {
   "cell_type": "code",
   "execution_count": 7,
   "metadata": {},
   "outputs": [],
   "source": [
    "df_boal_wind = df_boal[df_boal[\"Fuel Type\"] == \"WIND\"]"
   ]
  },
  {
   "cell_type": "code",
   "execution_count": 8,
   "metadata": {},
   "outputs": [
    {
     "data": {
      "text/html": [
       "<div>\n",
       "<style scoped>\n",
       "    .dataframe tbody tr th:only-of-type {\n",
       "        vertical-align: middle;\n",
       "    }\n",
       "\n",
       "    .dataframe tbody tr th {\n",
       "        vertical-align: top;\n",
       "    }\n",
       "\n",
       "    .dataframe thead th {\n",
       "        text-align: right;\n",
       "    }\n",
       "</style>\n",
       "<table border=\"1\" class=\"dataframe\">\n",
       "  <thead>\n",
       "    <tr style=\"text-align: right;\">\n",
       "      <th></th>\n",
       "      <th>Notification Type</th>\n",
       "      <th>Accept ID</th>\n",
       "      <th>Accept Time</th>\n",
       "      <th>Deemed Flag</th>\n",
       "      <th>SO Flag</th>\n",
       "      <th>STOR Provider Flag</th>\n",
       "      <th>RR Instruction Flag</th>\n",
       "      <th>RR Schedule Flag</th>\n",
       "      <th>From Time</th>\n",
       "      <th>From Level</th>\n",
       "      <th>To Time</th>\n",
       "      <th>To Level</th>\n",
       "      <th>Fuel Type</th>\n",
       "    </tr>\n",
       "  </thead>\n",
       "  <tbody>\n",
       "    <tr>\n",
       "      <th>E_BTUIW-3</th>\n",
       "      <td>BOALF</td>\n",
       "      <td>3642</td>\n",
       "      <td>2022-03-19 12:35:00</td>\n",
       "      <td>False</td>\n",
       "      <td>False</td>\n",
       "      <td>False</td>\n",
       "      <td>False</td>\n",
       "      <td>False</td>\n",
       "      <td>2022-03-19 13:20:00</td>\n",
       "      <td>0.0</td>\n",
       "      <td>2022-03-19 13:22:00</td>\n",
       "      <td>43.0</td>\n",
       "      <td>WIND</td>\n",
       "    </tr>\n",
       "    <tr>\n",
       "      <th>E_BTUIW-3</th>\n",
       "      <td>BOALF</td>\n",
       "      <td>3643</td>\n",
       "      <td>2022-03-19 13:05:00</td>\n",
       "      <td>False</td>\n",
       "      <td>False</td>\n",
       "      <td>False</td>\n",
       "      <td>False</td>\n",
       "      <td>False</td>\n",
       "      <td>2022-03-19 13:20:00</td>\n",
       "      <td>0.0</td>\n",
       "      <td>2022-03-19 13:50:00</td>\n",
       "      <td>0.0</td>\n",
       "      <td>WIND</td>\n",
       "    </tr>\n",
       "    <tr>\n",
       "      <th>T_AKGLW-3</th>\n",
       "      <td>BOALF</td>\n",
       "      <td>2005</td>\n",
       "      <td>2022-03-19 12:26:00</td>\n",
       "      <td>False</td>\n",
       "      <td>False</td>\n",
       "      <td>False</td>\n",
       "      <td>False</td>\n",
       "      <td>False</td>\n",
       "      <td>2022-03-19 12:58:00</td>\n",
       "      <td>0.0</td>\n",
       "      <td>2022-03-19 13:03:00</td>\n",
       "      <td>48.0</td>\n",
       "      <td>WIND</td>\n",
       "    </tr>\n",
       "    <tr>\n",
       "      <th>T_AKGLW-3</th>\n",
       "      <td>BOALF</td>\n",
       "      <td>2006</td>\n",
       "      <td>2022-03-19 12:50:00</td>\n",
       "      <td>False</td>\n",
       "      <td>False</td>\n",
       "      <td>False</td>\n",
       "      <td>False</td>\n",
       "      <td>False</td>\n",
       "      <td>2022-03-19 12:52:00</td>\n",
       "      <td>0.0</td>\n",
       "      <td>2022-03-19 13:52:00</td>\n",
       "      <td>0.0</td>\n",
       "      <td>WIND</td>\n",
       "    </tr>\n",
       "    <tr>\n",
       "      <th>T_AKGLW-3</th>\n",
       "      <td>BOALF</td>\n",
       "      <td>2007</td>\n",
       "      <td>2022-03-19 13:02:00</td>\n",
       "      <td>False</td>\n",
       "      <td>False</td>\n",
       "      <td>False</td>\n",
       "      <td>False</td>\n",
       "      <td>False</td>\n",
       "      <td>2022-03-19 13:04:00</td>\n",
       "      <td>0.0</td>\n",
       "      <td>2022-03-19 14:19:00</td>\n",
       "      <td>0.0</td>\n",
       "      <td>WIND</td>\n",
       "    </tr>\n",
       "    <tr>\n",
       "      <th>...</th>\n",
       "      <td>...</td>\n",
       "      <td>...</td>\n",
       "      <td>...</td>\n",
       "      <td>...</td>\n",
       "      <td>...</td>\n",
       "      <td>...</td>\n",
       "      <td>...</td>\n",
       "      <td>...</td>\n",
       "      <td>...</td>\n",
       "      <td>...</td>\n",
       "      <td>...</td>\n",
       "      <td>...</td>\n",
       "      <td>...</td>\n",
       "    </tr>\n",
       "    <tr>\n",
       "      <th>T_WLNYO-3</th>\n",
       "      <td>BOALF</td>\n",
       "      <td>22300</td>\n",
       "      <td>2022-03-19 13:07:00</td>\n",
       "      <td>False</td>\n",
       "      <td>False</td>\n",
       "      <td>False</td>\n",
       "      <td>False</td>\n",
       "      <td>False</td>\n",
       "      <td>2022-03-19 13:17:00</td>\n",
       "      <td>0.0</td>\n",
       "      <td>2022-03-19 13:37:00</td>\n",
       "      <td>0.0</td>\n",
       "      <td>WIND</td>\n",
       "    </tr>\n",
       "    <tr>\n",
       "      <th>T_WLNYO-4</th>\n",
       "      <td>BOALF</td>\n",
       "      <td>23054</td>\n",
       "      <td>2022-03-19 12:30:00</td>\n",
       "      <td>False</td>\n",
       "      <td>False</td>\n",
       "      <td>False</td>\n",
       "      <td>False</td>\n",
       "      <td>False</td>\n",
       "      <td>2022-03-19 13:00:00</td>\n",
       "      <td>0.0</td>\n",
       "      <td>2022-03-19 13:06:00</td>\n",
       "      <td>253.0</td>\n",
       "      <td>WIND</td>\n",
       "    </tr>\n",
       "    <tr>\n",
       "      <th>T_WLNYO-4</th>\n",
       "      <td>BOALF</td>\n",
       "      <td>23055</td>\n",
       "      <td>2022-03-19 12:50:00</td>\n",
       "      <td>False</td>\n",
       "      <td>False</td>\n",
       "      <td>False</td>\n",
       "      <td>False</td>\n",
       "      <td>False</td>\n",
       "      <td>2022-03-19 13:00:00</td>\n",
       "      <td>0.0</td>\n",
       "      <td>2022-03-19 13:20:00</td>\n",
       "      <td>0.0</td>\n",
       "      <td>WIND</td>\n",
       "    </tr>\n",
       "    <tr>\n",
       "      <th>T_WLNYO-4</th>\n",
       "      <td>BOALF</td>\n",
       "      <td>23055</td>\n",
       "      <td>2022-03-19 12:50:00</td>\n",
       "      <td>False</td>\n",
       "      <td>False</td>\n",
       "      <td>False</td>\n",
       "      <td>False</td>\n",
       "      <td>False</td>\n",
       "      <td>2022-03-19 13:20:00</td>\n",
       "      <td>0.0</td>\n",
       "      <td>2022-03-19 13:26:00</td>\n",
       "      <td>262.0</td>\n",
       "      <td>WIND</td>\n",
       "    </tr>\n",
       "    <tr>\n",
       "      <th>T_WLNYO-4</th>\n",
       "      <td>BOALF</td>\n",
       "      <td>23056</td>\n",
       "      <td>2022-03-19 13:10:00</td>\n",
       "      <td>False</td>\n",
       "      <td>False</td>\n",
       "      <td>False</td>\n",
       "      <td>False</td>\n",
       "      <td>False</td>\n",
       "      <td>2022-03-19 13:20:00</td>\n",
       "      <td>0.0</td>\n",
       "      <td>2022-03-19 13:40:00</td>\n",
       "      <td>0.0</td>\n",
       "      <td>WIND</td>\n",
       "    </tr>\n",
       "  </tbody>\n",
       "</table>\n",
       "<p>100 rows × 13 columns</p>\n",
       "</div>"
      ],
      "text/plain": [
       "          Notification Type  Accept ID         Accept Time  Deemed Flag  \\\n",
       "E_BTUIW-3             BOALF       3642 2022-03-19 12:35:00        False   \n",
       "E_BTUIW-3             BOALF       3643 2022-03-19 13:05:00        False   \n",
       "T_AKGLW-3             BOALF       2005 2022-03-19 12:26:00        False   \n",
       "T_AKGLW-3             BOALF       2006 2022-03-19 12:50:00        False   \n",
       "T_AKGLW-3             BOALF       2007 2022-03-19 13:02:00        False   \n",
       "...                     ...        ...                 ...          ...   \n",
       "T_WLNYO-3             BOALF      22300 2022-03-19 13:07:00        False   \n",
       "T_WLNYO-4             BOALF      23054 2022-03-19 12:30:00        False   \n",
       "T_WLNYO-4             BOALF      23055 2022-03-19 12:50:00        False   \n",
       "T_WLNYO-4             BOALF      23055 2022-03-19 12:50:00        False   \n",
       "T_WLNYO-4             BOALF      23056 2022-03-19 13:10:00        False   \n",
       "\n",
       "           SO Flag  STOR Provider Flag  RR Instruction Flag  RR Schedule Flag  \\\n",
       "E_BTUIW-3    False               False                False             False   \n",
       "E_BTUIW-3    False               False                False             False   \n",
       "T_AKGLW-3    False               False                False             False   \n",
       "T_AKGLW-3    False               False                False             False   \n",
       "T_AKGLW-3    False               False                False             False   \n",
       "...            ...                 ...                  ...               ...   \n",
       "T_WLNYO-3    False               False                False             False   \n",
       "T_WLNYO-4    False               False                False             False   \n",
       "T_WLNYO-4    False               False                False             False   \n",
       "T_WLNYO-4    False               False                False             False   \n",
       "T_WLNYO-4    False               False                False             False   \n",
       "\n",
       "                    From Time  From Level             To Time  To Level  \\\n",
       "E_BTUIW-3 2022-03-19 13:20:00         0.0 2022-03-19 13:22:00      43.0   \n",
       "E_BTUIW-3 2022-03-19 13:20:00         0.0 2022-03-19 13:50:00       0.0   \n",
       "T_AKGLW-3 2022-03-19 12:58:00         0.0 2022-03-19 13:03:00      48.0   \n",
       "T_AKGLW-3 2022-03-19 12:52:00         0.0 2022-03-19 13:52:00       0.0   \n",
       "T_AKGLW-3 2022-03-19 13:04:00         0.0 2022-03-19 14:19:00       0.0   \n",
       "...                       ...         ...                 ...       ...   \n",
       "T_WLNYO-3 2022-03-19 13:17:00         0.0 2022-03-19 13:37:00       0.0   \n",
       "T_WLNYO-4 2022-03-19 13:00:00         0.0 2022-03-19 13:06:00     253.0   \n",
       "T_WLNYO-4 2022-03-19 13:00:00         0.0 2022-03-19 13:20:00       0.0   \n",
       "T_WLNYO-4 2022-03-19 13:20:00         0.0 2022-03-19 13:26:00     262.0   \n",
       "T_WLNYO-4 2022-03-19 13:20:00         0.0 2022-03-19 13:40:00       0.0   \n",
       "\n",
       "          Fuel Type  \n",
       "E_BTUIW-3      WIND  \n",
       "E_BTUIW-3      WIND  \n",
       "T_AKGLW-3      WIND  \n",
       "T_AKGLW-3      WIND  \n",
       "T_AKGLW-3      WIND  \n",
       "...             ...  \n",
       "T_WLNYO-3      WIND  \n",
       "T_WLNYO-4      WIND  \n",
       "T_WLNYO-4      WIND  \n",
       "T_WLNYO-4      WIND  \n",
       "T_WLNYO-4      WIND  \n",
       "\n",
       "[100 rows x 13 columns]"
      ]
     },
     "execution_count": 8,
     "metadata": {},
     "output_type": "execute_result"
    }
   ],
   "source": [
    "df_boal_wind"
   ]
  },
  {
   "cell_type": "markdown",
   "metadata": {},
   "source": [
    "# Identifying curtailment over all wind units\n",
    "\n",
    "Curtailment is if the BOALF level is less than the FPN\n",
    "\n",
    "i.e. somebody is being paid to turn it down!"
   ]
  },
  {
   "cell_type": "code",
   "execution_count": 9,
   "metadata": {},
   "outputs": [],
   "source": [
    "# These are some helpers functions\n",
    "\n",
    "\n",
    "def resolve_applied_bid_offer_level(df_linear: pd.DataFrame):\n",
    "    \"\"\"\n",
    "    We can have multiple levels for a given timepoint, because levels are fixed\n",
    "    at one point and then overwitten at a later timepoint, before the moment in\n",
    "    question has arrived.\n",
    "\n",
    "    We need to resolve them, choosing the latest possible commitment for each timepoint.\n",
    "\n",
    "    We need to upsample the data first to achieve this.\n",
    "    \"\"\"\n",
    "\n",
    "    out = []\n",
    "    for accept_id, data in df_linear.groupby(\"Accept ID\"):\n",
    "        high_freq = (\n",
    "            data.reset_index()\n",
    "            .rename(columns={\"index\": \"Unit\"})\n",
    "            .set_index(\"Time\")\n",
    "            .resample(\"T\")\n",
    "            .first()\n",
    "        )\n",
    "        out.append(high_freq.interpolate(\"ffill\").fillna(method=\"ffill\"))\n",
    "\n",
    "    recombined = pd.concat(out)\n",
    "\n",
    "    # Select the latest commitment for every timepoint\n",
    "    resolved = recombined.reset_index().groupby(\"Time\").last()\n",
    "\n",
    "    return resolved\n",
    "\n",
    "\n",
    "def linearize_physical_data(df: pd.DataFrame):\n",
    "    \"\"\"Convert a From/To horizontal format to a long format with values at different timepoitns\"\"\"\n",
    "\n",
    "    df = df.copy()\n",
    "    from_columns = [\"From Level\", \"From Time\"]\n",
    "    to_columns = [\"To Level\", \"To Time\"]\n",
    "\n",
    "    base_columns = [x for x in df.columns.copy() if x not in from_columns + to_columns]\n",
    "\n",
    "    df = pd.concat(\n",
    "        (\n",
    "            df[base_columns + from_columns].rename(\n",
    "                columns={\"From Level\": \"Level\", \"From Time\": \"Time\"}\n",
    "            ),\n",
    "            df[base_columns + to_columns].rename(\n",
    "                columns={\"To Level\": \"Level\", \"To Time\": \"Time\"}\n",
    "            ),\n",
    "        )\n",
    "    )\n",
    "\n",
    "    df[\"Level\"] = df[\"Level\"].astype(float)\n",
    "    return df\n",
    "\n",
    "\n",
    "def calculate_curtailment_in_mwh(df_merged: pd.DataFrame) -> float:\n",
    "    \"\"\"\n",
    "    Calculate the curtailment implied by the difference between FPN levels and BOAL\n",
    "\n",
    "    \"\"\"\n",
    "\n",
    "    mw_minutes = df_merged[\"delta\"].sum()\n",
    "\n",
    "    return mw_minutes * MINUTES_TO_HOURS\n",
    "\n",
    "\n",
    "def calculate_notified_generation_in_mwh(df_merged: pd.DataFrame) -> float:\n",
    "    \"\"\"\n",
    "    Calculate the total generation implied by the FPN levels\n",
    "\n",
    "    \"\"\"\n",
    "\n",
    "    mw_minutes = df_merged[\"Level_FPN\"].sum()\n",
    "\n",
    "    return mw_minutes * MINUTES_TO_HOURS"
   ]
  },
  {
   "cell_type": "code",
   "execution_count": 65,
   "metadata": {},
   "outputs": [],
   "source": [
    "def analyze_one_unit(\n",
    "    df_boal_unit: pd.DataFrame, df_fpn_unit: pd.DataFrame\n",
    ") -> pd.DataFrame:\n",
    "    \"\"\"Product a dataframe of actual (curtailed) vs. proposed generation\"\"\"\n",
    "\n",
    "    # Make time linear\n",
    "    df_boal_linear = linearize_physical_data(df_boal_unit)\n",
    "    df_boal_linear[\"Accept Time str\"] = df_boal_linear[\"Accept Time\"].astype(str)\n",
    "\n",
    "    px.line(df_boal_linear, \"Time\", \"Level\", color=\"Accept Time str\")\n",
    "\n",
    "    # resolve boa data\n",
    "    unit_boal_resolved = resolve_applied_bid_offer_level(df_boal_linear)\n",
    "    unit_boal_resolved.head()\n",
    "\n",
    "    if type(df_fpn_unit) == pd.Series:\n",
    "        df_fpn_unit = pd.DataFrame(df_fpn_unit).T\n",
    "\n",
    "    unit_fpn_resolved = (\n",
    "        linearize_physical_data(df_fpn_unit)\n",
    "        .set_index(\"Time\")\n",
    "        .resample(\"T\")\n",
    "        .mean()\n",
    "        .interpolate()\n",
    "    )\n",
    "    unit_fpn_resolved[\"Notification Type\"] = \"FPN\"\n",
    "    unit_fpn_resolved[\"unit\"] = unit\n",
    "\n",
    "    # cmobind both BOA and FPN data\n",
    "    # combined_one_unit = pd.concat((unit_boal_resolved, unit_fpn_resolved)) Does this yield the same result? Not sure\n",
    "\n",
    "    df_merged = unit_boal_resolved.join(unit_fpn_resolved[\"Level\"], rsuffix=\"_FPN\")\n",
    "    df_merged[\"delta\"] = df_merged[\"Level_FPN\"] - df_merged[\"Level\"]\n",
    "\n",
    "    return df_merged"
   ]
  },
  {
   "cell_type": "code",
   "execution_count": 67,
   "metadata": {},
   "outputs": [
    {
     "name": "stdout",
     "output_type": "stream",
     "text": [
      "Curtailment for E_BTUIW-3 is 7.88 MWh. Generation was 7.88 MWh\n",
      "Curtailment for T_AKGLW-3 is 25.06 MWh. Generation was 25.06 MWh\n",
      "Curtailment for T_BDCHW-1 is 7.23 MWh. Generation was 7.23 MWh\n",
      "Curtailment for T_BEATO-3 is 68.88 MWh. Generation was 68.88 MWh\n",
      "Curtailment for T_BEATO-4 is 78.07 MWh. Generation was 78.07 MWh\n",
      "Curtailment for T_BRBEO-1 is 69.23 MWh. Generation was 107.98 MWh\n",
      "Curtailment for T_DOREW-1 is 30.74 MWh. Generation was 30.74 MWh\n",
      "Curtailment for T_DOREW-2 is 24.54 MWh. Generation was 26.09 MWh\n",
      "Curtailment for T_EAAO-1 is 56.27 MWh. Generation was 173.60 MWh\n",
      "Curtailment for T_EAAO-2 is 13.53 MWh. Generation was 56.00 MWh\n",
      "Curtailment for T_GORDW-2 is 11.90 MWh. Generation was 11.90 MWh\n",
      "Curtailment for T_GRIFW-1 is 1.90 MWh. Generation was 2.13 MWh\n",
      "Curtailment for T_GRIFW-2 is 1.90 MWh. Generation was 2.13 MWh\n",
      "Curtailment for T_HOWAO-1 is 41.19 MWh. Generation was 168.69 MWh\n",
      "Curtailment for T_HOWAO-2 is 42.86 MWh. Generation was 168.69 MWh\n",
      "Curtailment for T_HOWAO-3 is 144.41 MWh. Generation was 168.69 MWh\n",
      "Curtailment for T_KPMRW-1 is 20.67 MWh. Generation was 20.67 MWh\n",
      "Curtailment for T_MIDMW-1 is 16.27 MWh. Generation was 16.27 MWh\n",
      "Curtailment for T_MOWEO-1 is 114.98 MWh. Generation was 135.88 MWh\n",
      "Curtailment for T_MOWEO-2 is 38.93 MWh. Generation was 44.80 MWh\n",
      "Curtailment for T_MOWEO-3 is 114.50 MWh. Generation was 120.90 MWh\n",
      "Curtailment for T_PNYCW-1 is 5.45 MWh. Generation was 31.35 MWh\n",
      "Curtailment for T_STRNW-1 is 6.17 MWh. Generation was 6.55 MWh\n",
      "Curtailment for T_WLNYO-3 is 137.95 MWh. Generation was 137.95 MWh\n",
      "Curtailment for T_WLNYO-4 is 133.04 MWh. Generation was 133.04 MWh\n",
      "Total curtailment was 1213.57 MWh \n"
     ]
    }
   ],
   "source": [
    "# now lets loop over all wind units\n",
    "\n",
    "wind_units = df_boal_wind.index.unique()\n",
    "\n",
    "curtailment_dfs = []\n",
    "\n",
    "for unit in wind_units:\n",
    "    df_curtailment_unit = analyze_one_unit(\n",
    "        df_boal_unit=df_boal.loc[unit], df_fpn_unit=df_fpn.loc[unit]\n",
    "    )\n",
    "\n",
    "    curtailment_in_mwh = calculate_curtailment_in_mwh(df_curtailment_unit)\n",
    "    generation_in_mwh = calculate_notified_generation_in_mwh(df_curtailment_unit)\n",
    "\n",
    "    print(\n",
    "        f\"Curtailment for {unit} is {curtailment_in_mwh:.2f} MWh. Generation was {generation_in_mwh:.2f} MWh\"\n",
    "    )\n",
    "\n",
    "    curtailment_dfs.append(df_curtailment_unit)\n",
    "\n",
    "\n",
    "df_curtailment = pd.concat(curtailment_dfs)\n",
    "\n",
    "print(\n",
    "    f\"Total curtailment was {df_curtailment['delta'].sum() * MINUTES_TO_HOURS:.2f} MWh \"\n",
    ")"
   ]
  },
  {
   "cell_type": "code",
   "execution_count": 72,
   "metadata": {},
   "outputs": [
    {
     "data": {
      "text/html": [
       "<div>\n",
       "<style scoped>\n",
       "    .dataframe tbody tr th:only-of-type {\n",
       "        vertical-align: middle;\n",
       "    }\n",
       "\n",
       "    .dataframe tbody tr th {\n",
       "        vertical-align: top;\n",
       "    }\n",
       "\n",
       "    .dataframe thead th {\n",
       "        text-align: right;\n",
       "    }\n",
       "</style>\n",
       "<table border=\"1\" class=\"dataframe\">\n",
       "  <thead>\n",
       "    <tr style=\"text-align: right;\">\n",
       "      <th></th>\n",
       "      <th>Accept ID</th>\n",
       "      <th>Deemed Flag</th>\n",
       "      <th>SO Flag</th>\n",
       "      <th>STOR Provider Flag</th>\n",
       "      <th>RR Instruction Flag</th>\n",
       "      <th>RR Schedule Flag</th>\n",
       "      <th>Level</th>\n",
       "      <th>Level_FPN</th>\n",
       "      <th>delta</th>\n",
       "    </tr>\n",
       "    <tr>\n",
       "      <th>Time</th>\n",
       "      <th></th>\n",
       "      <th></th>\n",
       "      <th></th>\n",
       "      <th></th>\n",
       "      <th></th>\n",
       "      <th></th>\n",
       "      <th></th>\n",
       "      <th></th>\n",
       "      <th></th>\n",
       "    </tr>\n",
       "  </thead>\n",
       "  <tbody>\n",
       "    <tr>\n",
       "      <th>2022-03-19 12:34:00</th>\n",
       "      <td>23966.0</td>\n",
       "      <td>0.0</td>\n",
       "      <td>0.0</td>\n",
       "      <td>0.0</td>\n",
       "      <td>0.0</td>\n",
       "      <td>0.0</td>\n",
       "      <td>75.0</td>\n",
       "      <td>0.0</td>\n",
       "      <td>0.0</td>\n",
       "    </tr>\n",
       "    <tr>\n",
       "      <th>2022-03-19 12:35:00</th>\n",
       "      <td>23966.0</td>\n",
       "      <td>0.0</td>\n",
       "      <td>0.0</td>\n",
       "      <td>0.0</td>\n",
       "      <td>0.0</td>\n",
       "      <td>0.0</td>\n",
       "      <td>75.0</td>\n",
       "      <td>0.0</td>\n",
       "      <td>0.0</td>\n",
       "    </tr>\n",
       "    <tr>\n",
       "      <th>2022-03-19 12:36:00</th>\n",
       "      <td>23966.0</td>\n",
       "      <td>0.0</td>\n",
       "      <td>0.0</td>\n",
       "      <td>0.0</td>\n",
       "      <td>0.0</td>\n",
       "      <td>0.0</td>\n",
       "      <td>75.0</td>\n",
       "      <td>0.0</td>\n",
       "      <td>0.0</td>\n",
       "    </tr>\n",
       "    <tr>\n",
       "      <th>2022-03-19 12:37:00</th>\n",
       "      <td>23966.0</td>\n",
       "      <td>0.0</td>\n",
       "      <td>0.0</td>\n",
       "      <td>0.0</td>\n",
       "      <td>0.0</td>\n",
       "      <td>0.0</td>\n",
       "      <td>75.0</td>\n",
       "      <td>0.0</td>\n",
       "      <td>0.0</td>\n",
       "    </tr>\n",
       "    <tr>\n",
       "      <th>2022-03-19 12:38:00</th>\n",
       "      <td>23966.0</td>\n",
       "      <td>0.0</td>\n",
       "      <td>0.0</td>\n",
       "      <td>0.0</td>\n",
       "      <td>0.0</td>\n",
       "      <td>0.0</td>\n",
       "      <td>75.0</td>\n",
       "      <td>0.0</td>\n",
       "      <td>0.0</td>\n",
       "    </tr>\n",
       "    <tr>\n",
       "      <th>...</th>\n",
       "      <td>...</td>\n",
       "      <td>...</td>\n",
       "      <td>...</td>\n",
       "      <td>...</td>\n",
       "      <td>...</td>\n",
       "      <td>...</td>\n",
       "      <td>...</td>\n",
       "      <td>...</td>\n",
       "      <td>...</td>\n",
       "    </tr>\n",
       "    <tr>\n",
       "      <th>2022-03-19 14:15:00</th>\n",
       "      <td>85813.0</td>\n",
       "      <td>0.0</td>\n",
       "      <td>0.0</td>\n",
       "      <td>0.0</td>\n",
       "      <td>0.0</td>\n",
       "      <td>0.0</td>\n",
       "      <td>3.0</td>\n",
       "      <td>0.0</td>\n",
       "      <td>0.0</td>\n",
       "    </tr>\n",
       "    <tr>\n",
       "      <th>2022-03-19 14:16:00</th>\n",
       "      <td>85813.0</td>\n",
       "      <td>0.0</td>\n",
       "      <td>0.0</td>\n",
       "      <td>0.0</td>\n",
       "      <td>0.0</td>\n",
       "      <td>0.0</td>\n",
       "      <td>3.0</td>\n",
       "      <td>0.0</td>\n",
       "      <td>0.0</td>\n",
       "    </tr>\n",
       "    <tr>\n",
       "      <th>2022-03-19 14:17:00</th>\n",
       "      <td>85813.0</td>\n",
       "      <td>0.0</td>\n",
       "      <td>0.0</td>\n",
       "      <td>0.0</td>\n",
       "      <td>0.0</td>\n",
       "      <td>0.0</td>\n",
       "      <td>3.0</td>\n",
       "      <td>0.0</td>\n",
       "      <td>0.0</td>\n",
       "    </tr>\n",
       "    <tr>\n",
       "      <th>2022-03-19 14:18:00</th>\n",
       "      <td>85813.0</td>\n",
       "      <td>0.0</td>\n",
       "      <td>0.0</td>\n",
       "      <td>0.0</td>\n",
       "      <td>0.0</td>\n",
       "      <td>0.0</td>\n",
       "      <td>3.0</td>\n",
       "      <td>0.0</td>\n",
       "      <td>0.0</td>\n",
       "    </tr>\n",
       "    <tr>\n",
       "      <th>2022-03-19 14:19:00</th>\n",
       "      <td>2007.0</td>\n",
       "      <td>0.0</td>\n",
       "      <td>0.0</td>\n",
       "      <td>0.0</td>\n",
       "      <td>0.0</td>\n",
       "      <td>0.0</td>\n",
       "      <td>0.0</td>\n",
       "      <td>0.0</td>\n",
       "      <td>0.0</td>\n",
       "    </tr>\n",
       "  </tbody>\n",
       "</table>\n",
       "<p>106 rows × 9 columns</p>\n",
       "</div>"
      ],
      "text/plain": [
       "                     Accept ID  Deemed Flag  SO Flag  STOR Provider Flag  \\\n",
       "Time                                                                       \n",
       "2022-03-19 12:34:00    23966.0          0.0      0.0                 0.0   \n",
       "2022-03-19 12:35:00    23966.0          0.0      0.0                 0.0   \n",
       "2022-03-19 12:36:00    23966.0          0.0      0.0                 0.0   \n",
       "2022-03-19 12:37:00    23966.0          0.0      0.0                 0.0   \n",
       "2022-03-19 12:38:00    23966.0          0.0      0.0                 0.0   \n",
       "...                        ...          ...      ...                 ...   \n",
       "2022-03-19 14:15:00    85813.0          0.0      0.0                 0.0   \n",
       "2022-03-19 14:16:00    85813.0          0.0      0.0                 0.0   \n",
       "2022-03-19 14:17:00    85813.0          0.0      0.0                 0.0   \n",
       "2022-03-19 14:18:00    85813.0          0.0      0.0                 0.0   \n",
       "2022-03-19 14:19:00     2007.0          0.0      0.0                 0.0   \n",
       "\n",
       "                     RR Instruction Flag  RR Schedule Flag  Level  Level_FPN  \\\n",
       "Time                                                                           \n",
       "2022-03-19 12:34:00                  0.0               0.0   75.0        0.0   \n",
       "2022-03-19 12:35:00                  0.0               0.0   75.0        0.0   \n",
       "2022-03-19 12:36:00                  0.0               0.0   75.0        0.0   \n",
       "2022-03-19 12:37:00                  0.0               0.0   75.0        0.0   \n",
       "2022-03-19 12:38:00                  0.0               0.0   75.0        0.0   \n",
       "...                                  ...               ...    ...        ...   \n",
       "2022-03-19 14:15:00                  0.0               0.0    3.0        0.0   \n",
       "2022-03-19 14:16:00                  0.0               0.0    3.0        0.0   \n",
       "2022-03-19 14:17:00                  0.0               0.0    3.0        0.0   \n",
       "2022-03-19 14:18:00                  0.0               0.0    3.0        0.0   \n",
       "2022-03-19 14:19:00                  0.0               0.0    0.0        0.0   \n",
       "\n",
       "                     delta  \n",
       "Time                        \n",
       "2022-03-19 12:34:00    0.0  \n",
       "2022-03-19 12:35:00    0.0  \n",
       "2022-03-19 12:36:00    0.0  \n",
       "2022-03-19 12:37:00    0.0  \n",
       "2022-03-19 12:38:00    0.0  \n",
       "...                    ...  \n",
       "2022-03-19 14:15:00    0.0  \n",
       "2022-03-19 14:16:00    0.0  \n",
       "2022-03-19 14:17:00    0.0  \n",
       "2022-03-19 14:18:00    0.0  \n",
       "2022-03-19 14:19:00    0.0  \n",
       "\n",
       "[106 rows x 9 columns]"
      ]
     },
     "execution_count": 72,
     "metadata": {},
     "output_type": "execute_result"
    }
   ],
   "source": [
    "df_"
   ]
  },
  {
   "cell_type": "code",
   "execution_count": 80,
   "metadata": {},
   "outputs": [
    {
     "data": {
      "application/vnd.plotly.v1+json": {
       "config": {
        "plotlyServerURL": "https://plot.ly"
       },
       "data": [
        {
         "fill": "tozeroy",
         "fillpattern": {
          "shape": ""
         },
         "hovertemplate": "variable=Level_FPN<br>Time=%{x}<br>value=%{y}<extra></extra>",
         "legendgroup": "Level_FPN",
         "line": {
          "color": "#636efa"
         },
         "marker": {
          "symbol": "circle"
         },
         "mode": "lines",
         "name": "Level_FPN",
         "orientation": "v",
         "showlegend": true,
         "type": "scatter",
         "x": [
          "2022-03-19T12:34:00",
          "2022-03-19T12:35:00",
          "2022-03-19T12:36:00",
          "2022-03-19T12:37:00",
          "2022-03-19T12:38:00",
          "2022-03-19T12:39:00",
          "2022-03-19T12:40:00",
          "2022-03-19T12:41:00",
          "2022-03-19T12:42:00",
          "2022-03-19T12:43:00",
          "2022-03-19T12:44:00",
          "2022-03-19T12:45:00",
          "2022-03-19T12:46:00",
          "2022-03-19T12:47:00",
          "2022-03-19T12:48:00",
          "2022-03-19T12:49:00",
          "2022-03-19T12:50:00",
          "2022-03-19T12:51:00",
          "2022-03-19T12:52:00",
          "2022-03-19T12:53:00",
          "2022-03-19T12:54:00",
          "2022-03-19T12:55:00",
          "2022-03-19T12:56:00",
          "2022-03-19T12:57:00",
          "2022-03-19T12:58:00",
          "2022-03-19T12:59:00",
          "2022-03-19T13:00:00",
          "2022-03-19T13:01:00",
          "2022-03-19T13:02:00",
          "2022-03-19T13:03:00",
          "2022-03-19T13:04:00",
          "2022-03-19T13:05:00",
          "2022-03-19T13:06:00",
          "2022-03-19T13:07:00",
          "2022-03-19T13:08:00",
          "2022-03-19T13:09:00",
          "2022-03-19T13:10:00",
          "2022-03-19T13:11:00",
          "2022-03-19T13:12:00",
          "2022-03-19T13:13:00",
          "2022-03-19T13:14:00",
          "2022-03-19T13:15:00",
          "2022-03-19T13:16:00",
          "2022-03-19T13:17:00",
          "2022-03-19T13:18:00",
          "2022-03-19T13:19:00",
          "2022-03-19T13:20:00",
          "2022-03-19T13:21:00",
          "2022-03-19T13:22:00",
          "2022-03-19T13:23:00",
          "2022-03-19T13:24:00",
          "2022-03-19T13:25:00",
          "2022-03-19T13:26:00",
          "2022-03-19T13:27:00",
          "2022-03-19T13:28:00",
          "2022-03-19T13:29:00",
          "2022-03-19T13:30:00",
          "2022-03-19T13:31:00",
          "2022-03-19T13:32:00",
          "2022-03-19T13:33:00",
          "2022-03-19T13:34:00",
          "2022-03-19T13:35:00",
          "2022-03-19T13:36:00",
          "2022-03-19T13:37:00",
          "2022-03-19T13:38:00",
          "2022-03-19T13:39:00",
          "2022-03-19T13:40:00",
          "2022-03-19T13:41:00",
          "2022-03-19T13:42:00",
          "2022-03-19T13:43:00",
          "2022-03-19T13:44:00",
          "2022-03-19T13:45:00",
          "2022-03-19T13:46:00",
          "2022-03-19T13:47:00",
          "2022-03-19T13:48:00",
          "2022-03-19T13:49:00",
          "2022-03-19T13:50:00",
          "2022-03-19T13:51:00",
          "2022-03-19T13:52:00",
          "2022-03-19T13:53:00",
          "2022-03-19T13:54:00",
          "2022-03-19T13:55:00",
          "2022-03-19T13:56:00",
          "2022-03-19T13:57:00",
          "2022-03-19T13:58:00",
          "2022-03-19T13:59:00",
          "2022-03-19T14:00:00",
          "2022-03-19T14:01:00",
          "2022-03-19T14:02:00",
          "2022-03-19T14:03:00",
          "2022-03-19T14:04:00",
          "2022-03-19T14:05:00",
          "2022-03-19T14:06:00",
          "2022-03-19T14:07:00",
          "2022-03-19T14:08:00",
          "2022-03-19T14:09:00",
          "2022-03-19T14:10:00",
          "2022-03-19T14:11:00",
          "2022-03-19T14:12:00",
          "2022-03-19T14:13:00",
          "2022-03-19T14:14:00",
          "2022-03-19T14:15:00",
          "2022-03-19T14:16:00",
          "2022-03-19T14:17:00",
          "2022-03-19T14:18:00",
          "2022-03-19T14:19:00"
         ],
         "xaxis": "x",
         "y": [
          0,
          0,
          0,
          0,
          0,
          0,
          0,
          0,
          0,
          0,
          0,
          0,
          0,
          0,
          0,
          0,
          0,
          0,
          0,
          0,
          0,
          0,
          0,
          0,
          0,
          0,
          3088,
          3088.6000000000004,
          3089.2,
          3185.8000000000006,
          3186.399999999999,
          3187,
          3187.6,
          3188.2,
          3188.8,
          3189.4,
          3190,
          3190.600000000001,
          3191.1999999999994,
          3191.8,
          3215.3999999999996,
          3216,
          3216.6000000000004,
          3217.2,
          3217.8000000000006,
          3218.3999999999996,
          3262,
          3598.6,
          3836.2000000000003,
          3836.7999999999997,
          3837.4,
          3838,
          3838.6000000000004,
          3839.2,
          3839.7999999999997,
          3840.3999999999996,
          3861,
          0,
          0,
          0,
          0,
          0,
          0,
          0,
          0,
          0,
          0,
          0,
          0,
          0,
          0,
          0,
          0,
          0,
          0,
          0,
          0,
          0,
          0,
          0,
          0,
          0,
          0,
          0,
          0,
          0,
          0,
          0,
          0,
          0,
          0,
          0,
          0,
          0,
          0,
          0,
          0,
          0,
          0,
          0,
          0,
          0,
          0,
          0,
          0,
          0
         ],
         "yaxis": "y"
        },
        {
         "fill": "tozeroy",
         "fillpattern": {
          "shape": ""
         },
         "hovertemplate": "variable=Level<br>Time=%{x}<br>value=%{y}<extra></extra>",
         "legendgroup": "Level",
         "line": {
          "color": "#EF553B"
         },
         "marker": {
          "symbol": "circle"
         },
         "mode": "lines",
         "name": "Level",
         "orientation": "v",
         "showlegend": true,
         "type": "scatter",
         "x": [
          "2022-03-19T12:34:00",
          "2022-03-19T12:35:00",
          "2022-03-19T12:36:00",
          "2022-03-19T12:37:00",
          "2022-03-19T12:38:00",
          "2022-03-19T12:39:00",
          "2022-03-19T12:40:00",
          "2022-03-19T12:41:00",
          "2022-03-19T12:42:00",
          "2022-03-19T12:43:00",
          "2022-03-19T12:44:00",
          "2022-03-19T12:45:00",
          "2022-03-19T12:46:00",
          "2022-03-19T12:47:00",
          "2022-03-19T12:48:00",
          "2022-03-19T12:49:00",
          "2022-03-19T12:50:00",
          "2022-03-19T12:51:00",
          "2022-03-19T12:52:00",
          "2022-03-19T12:53:00",
          "2022-03-19T12:54:00",
          "2022-03-19T12:55:00",
          "2022-03-19T12:56:00",
          "2022-03-19T12:57:00",
          "2022-03-19T12:58:00",
          "2022-03-19T12:59:00",
          "2022-03-19T13:00:00",
          "2022-03-19T13:01:00",
          "2022-03-19T13:02:00",
          "2022-03-19T13:03:00",
          "2022-03-19T13:04:00",
          "2022-03-19T13:05:00",
          "2022-03-19T13:06:00",
          "2022-03-19T13:07:00",
          "2022-03-19T13:08:00",
          "2022-03-19T13:09:00",
          "2022-03-19T13:10:00",
          "2022-03-19T13:11:00",
          "2022-03-19T13:12:00",
          "2022-03-19T13:13:00",
          "2022-03-19T13:14:00",
          "2022-03-19T13:15:00",
          "2022-03-19T13:16:00",
          "2022-03-19T13:17:00",
          "2022-03-19T13:18:00",
          "2022-03-19T13:19:00",
          "2022-03-19T13:20:00",
          "2022-03-19T13:21:00",
          "2022-03-19T13:22:00",
          "2022-03-19T13:23:00",
          "2022-03-19T13:24:00",
          "2022-03-19T13:25:00",
          "2022-03-19T13:26:00",
          "2022-03-19T13:27:00",
          "2022-03-19T13:28:00",
          "2022-03-19T13:29:00",
          "2022-03-19T13:30:00",
          "2022-03-19T13:31:00",
          "2022-03-19T13:32:00",
          "2022-03-19T13:33:00",
          "2022-03-19T13:34:00",
          "2022-03-19T13:35:00",
          "2022-03-19T13:36:00",
          "2022-03-19T13:37:00",
          "2022-03-19T13:38:00",
          "2022-03-19T13:39:00",
          "2022-03-19T13:40:00",
          "2022-03-19T13:41:00",
          "2022-03-19T13:42:00",
          "2022-03-19T13:43:00",
          "2022-03-19T13:44:00",
          "2022-03-19T13:45:00",
          "2022-03-19T13:46:00",
          "2022-03-19T13:47:00",
          "2022-03-19T13:48:00",
          "2022-03-19T13:49:00",
          "2022-03-19T13:50:00",
          "2022-03-19T13:51:00",
          "2022-03-19T13:52:00",
          "2022-03-19T13:53:00",
          "2022-03-19T13:54:00",
          "2022-03-19T13:55:00",
          "2022-03-19T13:56:00",
          "2022-03-19T13:57:00",
          "2022-03-19T13:58:00",
          "2022-03-19T13:59:00",
          "2022-03-19T14:00:00",
          "2022-03-19T14:01:00",
          "2022-03-19T14:02:00",
          "2022-03-19T14:03:00",
          "2022-03-19T14:04:00",
          "2022-03-19T14:05:00",
          "2022-03-19T14:06:00",
          "2022-03-19T14:07:00",
          "2022-03-19T14:08:00",
          "2022-03-19T14:09:00",
          "2022-03-19T14:10:00",
          "2022-03-19T14:11:00",
          "2022-03-19T14:12:00",
          "2022-03-19T14:13:00",
          "2022-03-19T14:14:00",
          "2022-03-19T14:15:00",
          "2022-03-19T14:16:00",
          "2022-03-19T14:17:00",
          "2022-03-19T14:18:00",
          "2022-03-19T14:19:00"
         ],
         "xaxis": "x",
         "y": [
          75,
          75,
          75,
          75,
          75,
          75,
          75,
          75,
          122,
          122,
          122,
          122,
          122,
          122,
          122,
          472,
          472,
          475,
          475,
          475,
          475,
          475,
          475,
          495,
          495,
          625,
          918,
          919,
          1019,
          1115,
          1051,
          1051,
          1051,
          1051,
          952,
          952,
          952,
          919,
          855,
          855,
          878,
          855,
          855,
          855,
          855,
          855,
          855,
          1191,
          1418,
          1390,
          1274,
          1274,
          1274,
          1274,
          1165,
          1165,
          1165,
          1165,
          1165,
          1165,
          1165,
          1090,
          1090,
          1090,
          1090,
          1090,
          1090,
          1090,
          1090,
          1090,
          1090,
          1043,
          1043,
          1043,
          1043,
          1043,
          1043,
          1043,
          1043,
          823,
          823,
          103,
          103,
          103,
          103,
          3,
          3,
          3,
          3,
          3,
          3,
          3,
          3,
          3,
          3,
          3,
          3,
          3,
          3,
          3,
          3,
          3,
          3,
          3,
          3,
          0
         ],
         "yaxis": "y"
        }
       ],
       "layout": {
        "legend": {
         "title": {
          "text": "variable"
         },
         "tracegroupgap": 0
        },
        "margin": {
         "t": 60
        },
        "template": {
         "data": {
          "bar": [
           {
            "error_x": {
             "color": "#2a3f5f"
            },
            "error_y": {
             "color": "#2a3f5f"
            },
            "marker": {
             "line": {
              "color": "#E5ECF6",
              "width": 0.5
             },
             "pattern": {
              "fillmode": "overlay",
              "size": 10,
              "solidity": 0.2
             }
            },
            "type": "bar"
           }
          ],
          "barpolar": [
           {
            "marker": {
             "line": {
              "color": "#E5ECF6",
              "width": 0.5
             },
             "pattern": {
              "fillmode": "overlay",
              "size": 10,
              "solidity": 0.2
             }
            },
            "type": "barpolar"
           }
          ],
          "carpet": [
           {
            "aaxis": {
             "endlinecolor": "#2a3f5f",
             "gridcolor": "white",
             "linecolor": "white",
             "minorgridcolor": "white",
             "startlinecolor": "#2a3f5f"
            },
            "baxis": {
             "endlinecolor": "#2a3f5f",
             "gridcolor": "white",
             "linecolor": "white",
             "minorgridcolor": "white",
             "startlinecolor": "#2a3f5f"
            },
            "type": "carpet"
           }
          ],
          "choropleth": [
           {
            "colorbar": {
             "outlinewidth": 0,
             "ticks": ""
            },
            "type": "choropleth"
           }
          ],
          "contour": [
           {
            "colorbar": {
             "outlinewidth": 0,
             "ticks": ""
            },
            "colorscale": [
             [
              0,
              "#0d0887"
             ],
             [
              0.1111111111111111,
              "#46039f"
             ],
             [
              0.2222222222222222,
              "#7201a8"
             ],
             [
              0.3333333333333333,
              "#9c179e"
             ],
             [
              0.4444444444444444,
              "#bd3786"
             ],
             [
              0.5555555555555556,
              "#d8576b"
             ],
             [
              0.6666666666666666,
              "#ed7953"
             ],
             [
              0.7777777777777778,
              "#fb9f3a"
             ],
             [
              0.8888888888888888,
              "#fdca26"
             ],
             [
              1,
              "#f0f921"
             ]
            ],
            "type": "contour"
           }
          ],
          "contourcarpet": [
           {
            "colorbar": {
             "outlinewidth": 0,
             "ticks": ""
            },
            "type": "contourcarpet"
           }
          ],
          "heatmap": [
           {
            "colorbar": {
             "outlinewidth": 0,
             "ticks": ""
            },
            "colorscale": [
             [
              0,
              "#0d0887"
             ],
             [
              0.1111111111111111,
              "#46039f"
             ],
             [
              0.2222222222222222,
              "#7201a8"
             ],
             [
              0.3333333333333333,
              "#9c179e"
             ],
             [
              0.4444444444444444,
              "#bd3786"
             ],
             [
              0.5555555555555556,
              "#d8576b"
             ],
             [
              0.6666666666666666,
              "#ed7953"
             ],
             [
              0.7777777777777778,
              "#fb9f3a"
             ],
             [
              0.8888888888888888,
              "#fdca26"
             ],
             [
              1,
              "#f0f921"
             ]
            ],
            "type": "heatmap"
           }
          ],
          "heatmapgl": [
           {
            "colorbar": {
             "outlinewidth": 0,
             "ticks": ""
            },
            "colorscale": [
             [
              0,
              "#0d0887"
             ],
             [
              0.1111111111111111,
              "#46039f"
             ],
             [
              0.2222222222222222,
              "#7201a8"
             ],
             [
              0.3333333333333333,
              "#9c179e"
             ],
             [
              0.4444444444444444,
              "#bd3786"
             ],
             [
              0.5555555555555556,
              "#d8576b"
             ],
             [
              0.6666666666666666,
              "#ed7953"
             ],
             [
              0.7777777777777778,
              "#fb9f3a"
             ],
             [
              0.8888888888888888,
              "#fdca26"
             ],
             [
              1,
              "#f0f921"
             ]
            ],
            "type": "heatmapgl"
           }
          ],
          "histogram": [
           {
            "marker": {
             "pattern": {
              "fillmode": "overlay",
              "size": 10,
              "solidity": 0.2
             }
            },
            "type": "histogram"
           }
          ],
          "histogram2d": [
           {
            "colorbar": {
             "outlinewidth": 0,
             "ticks": ""
            },
            "colorscale": [
             [
              0,
              "#0d0887"
             ],
             [
              0.1111111111111111,
              "#46039f"
             ],
             [
              0.2222222222222222,
              "#7201a8"
             ],
             [
              0.3333333333333333,
              "#9c179e"
             ],
             [
              0.4444444444444444,
              "#bd3786"
             ],
             [
              0.5555555555555556,
              "#d8576b"
             ],
             [
              0.6666666666666666,
              "#ed7953"
             ],
             [
              0.7777777777777778,
              "#fb9f3a"
             ],
             [
              0.8888888888888888,
              "#fdca26"
             ],
             [
              1,
              "#f0f921"
             ]
            ],
            "type": "histogram2d"
           }
          ],
          "histogram2dcontour": [
           {
            "colorbar": {
             "outlinewidth": 0,
             "ticks": ""
            },
            "colorscale": [
             [
              0,
              "#0d0887"
             ],
             [
              0.1111111111111111,
              "#46039f"
             ],
             [
              0.2222222222222222,
              "#7201a8"
             ],
             [
              0.3333333333333333,
              "#9c179e"
             ],
             [
              0.4444444444444444,
              "#bd3786"
             ],
             [
              0.5555555555555556,
              "#d8576b"
             ],
             [
              0.6666666666666666,
              "#ed7953"
             ],
             [
              0.7777777777777778,
              "#fb9f3a"
             ],
             [
              0.8888888888888888,
              "#fdca26"
             ],
             [
              1,
              "#f0f921"
             ]
            ],
            "type": "histogram2dcontour"
           }
          ],
          "mesh3d": [
           {
            "colorbar": {
             "outlinewidth": 0,
             "ticks": ""
            },
            "type": "mesh3d"
           }
          ],
          "parcoords": [
           {
            "line": {
             "colorbar": {
              "outlinewidth": 0,
              "ticks": ""
             }
            },
            "type": "parcoords"
           }
          ],
          "pie": [
           {
            "automargin": true,
            "type": "pie"
           }
          ],
          "scatter": [
           {
            "fillpattern": {
             "fillmode": "overlay",
             "size": 10,
             "solidity": 0.2
            },
            "type": "scatter"
           }
          ],
          "scatter3d": [
           {
            "line": {
             "colorbar": {
              "outlinewidth": 0,
              "ticks": ""
             }
            },
            "marker": {
             "colorbar": {
              "outlinewidth": 0,
              "ticks": ""
             }
            },
            "type": "scatter3d"
           }
          ],
          "scattercarpet": [
           {
            "marker": {
             "colorbar": {
              "outlinewidth": 0,
              "ticks": ""
             }
            },
            "type": "scattercarpet"
           }
          ],
          "scattergeo": [
           {
            "marker": {
             "colorbar": {
              "outlinewidth": 0,
              "ticks": ""
             }
            },
            "type": "scattergeo"
           }
          ],
          "scattergl": [
           {
            "marker": {
             "colorbar": {
              "outlinewidth": 0,
              "ticks": ""
             }
            },
            "type": "scattergl"
           }
          ],
          "scattermapbox": [
           {
            "marker": {
             "colorbar": {
              "outlinewidth": 0,
              "ticks": ""
             }
            },
            "type": "scattermapbox"
           }
          ],
          "scatterpolar": [
           {
            "marker": {
             "colorbar": {
              "outlinewidth": 0,
              "ticks": ""
             }
            },
            "type": "scatterpolar"
           }
          ],
          "scatterpolargl": [
           {
            "marker": {
             "colorbar": {
              "outlinewidth": 0,
              "ticks": ""
             }
            },
            "type": "scatterpolargl"
           }
          ],
          "scatterternary": [
           {
            "marker": {
             "colorbar": {
              "outlinewidth": 0,
              "ticks": ""
             }
            },
            "type": "scatterternary"
           }
          ],
          "surface": [
           {
            "colorbar": {
             "outlinewidth": 0,
             "ticks": ""
            },
            "colorscale": [
             [
              0,
              "#0d0887"
             ],
             [
              0.1111111111111111,
              "#46039f"
             ],
             [
              0.2222222222222222,
              "#7201a8"
             ],
             [
              0.3333333333333333,
              "#9c179e"
             ],
             [
              0.4444444444444444,
              "#bd3786"
             ],
             [
              0.5555555555555556,
              "#d8576b"
             ],
             [
              0.6666666666666666,
              "#ed7953"
             ],
             [
              0.7777777777777778,
              "#fb9f3a"
             ],
             [
              0.8888888888888888,
              "#fdca26"
             ],
             [
              1,
              "#f0f921"
             ]
            ],
            "type": "surface"
           }
          ],
          "table": [
           {
            "cells": {
             "fill": {
              "color": "#EBF0F8"
             },
             "line": {
              "color": "white"
             }
            },
            "header": {
             "fill": {
              "color": "#C8D4E3"
             },
             "line": {
              "color": "white"
             }
            },
            "type": "table"
           }
          ]
         },
         "layout": {
          "annotationdefaults": {
           "arrowcolor": "#2a3f5f",
           "arrowhead": 0,
           "arrowwidth": 1
          },
          "autotypenumbers": "strict",
          "coloraxis": {
           "colorbar": {
            "outlinewidth": 0,
            "ticks": ""
           }
          },
          "colorscale": {
           "diverging": [
            [
             0,
             "#8e0152"
            ],
            [
             0.1,
             "#c51b7d"
            ],
            [
             0.2,
             "#de77ae"
            ],
            [
             0.3,
             "#f1b6da"
            ],
            [
             0.4,
             "#fde0ef"
            ],
            [
             0.5,
             "#f7f7f7"
            ],
            [
             0.6,
             "#e6f5d0"
            ],
            [
             0.7,
             "#b8e186"
            ],
            [
             0.8,
             "#7fbc41"
            ],
            [
             0.9,
             "#4d9221"
            ],
            [
             1,
             "#276419"
            ]
           ],
           "sequential": [
            [
             0,
             "#0d0887"
            ],
            [
             0.1111111111111111,
             "#46039f"
            ],
            [
             0.2222222222222222,
             "#7201a8"
            ],
            [
             0.3333333333333333,
             "#9c179e"
            ],
            [
             0.4444444444444444,
             "#bd3786"
            ],
            [
             0.5555555555555556,
             "#d8576b"
            ],
            [
             0.6666666666666666,
             "#ed7953"
            ],
            [
             0.7777777777777778,
             "#fb9f3a"
            ],
            [
             0.8888888888888888,
             "#fdca26"
            ],
            [
             1,
             "#f0f921"
            ]
           ],
           "sequentialminus": [
            [
             0,
             "#0d0887"
            ],
            [
             0.1111111111111111,
             "#46039f"
            ],
            [
             0.2222222222222222,
             "#7201a8"
            ],
            [
             0.3333333333333333,
             "#9c179e"
            ],
            [
             0.4444444444444444,
             "#bd3786"
            ],
            [
             0.5555555555555556,
             "#d8576b"
            ],
            [
             0.6666666666666666,
             "#ed7953"
            ],
            [
             0.7777777777777778,
             "#fb9f3a"
            ],
            [
             0.8888888888888888,
             "#fdca26"
            ],
            [
             1,
             "#f0f921"
            ]
           ]
          },
          "colorway": [
           "#636efa",
           "#EF553B",
           "#00cc96",
           "#ab63fa",
           "#FFA15A",
           "#19d3f3",
           "#FF6692",
           "#B6E880",
           "#FF97FF",
           "#FECB52"
          ],
          "font": {
           "color": "#2a3f5f"
          },
          "geo": {
           "bgcolor": "white",
           "lakecolor": "white",
           "landcolor": "#E5ECF6",
           "showlakes": true,
           "showland": true,
           "subunitcolor": "white"
          },
          "hoverlabel": {
           "align": "left"
          },
          "hovermode": "closest",
          "mapbox": {
           "style": "light"
          },
          "paper_bgcolor": "white",
          "plot_bgcolor": "#E5ECF6",
          "polar": {
           "angularaxis": {
            "gridcolor": "white",
            "linecolor": "white",
            "ticks": ""
           },
           "bgcolor": "#E5ECF6",
           "radialaxis": {
            "gridcolor": "white",
            "linecolor": "white",
            "ticks": ""
           }
          },
          "scene": {
           "xaxis": {
            "backgroundcolor": "#E5ECF6",
            "gridcolor": "white",
            "gridwidth": 2,
            "linecolor": "white",
            "showbackground": true,
            "ticks": "",
            "zerolinecolor": "white"
           },
           "yaxis": {
            "backgroundcolor": "#E5ECF6",
            "gridcolor": "white",
            "gridwidth": 2,
            "linecolor": "white",
            "showbackground": true,
            "ticks": "",
            "zerolinecolor": "white"
           },
           "zaxis": {
            "backgroundcolor": "#E5ECF6",
            "gridcolor": "white",
            "gridwidth": 2,
            "linecolor": "white",
            "showbackground": true,
            "ticks": "",
            "zerolinecolor": "white"
           }
          },
          "shapedefaults": {
           "line": {
            "color": "#2a3f5f"
           }
          },
          "ternary": {
           "aaxis": {
            "gridcolor": "white",
            "linecolor": "white",
            "ticks": ""
           },
           "baxis": {
            "gridcolor": "white",
            "linecolor": "white",
            "ticks": ""
           },
           "bgcolor": "#E5ECF6",
           "caxis": {
            "gridcolor": "white",
            "linecolor": "white",
            "ticks": ""
           }
          },
          "title": {
           "x": 0.05
          },
          "xaxis": {
           "automargin": true,
           "gridcolor": "white",
           "linecolor": "white",
           "ticks": "",
           "title": {
            "standoff": 15
           },
           "zerolinecolor": "white",
           "zerolinewidth": 2
          },
          "yaxis": {
           "automargin": true,
           "gridcolor": "white",
           "linecolor": "white",
           "ticks": "",
           "title": {
            "standoff": 15
           },
           "zerolinecolor": "white",
           "zerolinewidth": 2
          }
         }
        },
        "title": {
         "text": "Difference between intended and actual generation, wind units alone"
        },
        "xaxis": {
         "anchor": "y",
         "domain": [
          0,
          1
         ],
         "title": {
          "text": "Time"
         }
        },
        "yaxis": {
         "anchor": "x",
         "domain": [
          0,
          1
         ],
         "title": {
          "text": "MW"
         }
        }
       }
      }
     },
     "metadata": {},
     "output_type": "display_data"
    }
   ],
   "source": [
    "df_ = df_curtailment.reset_index().groupby(\"Time\").sum()\n",
    "\n",
    "fig = px.area(df_, x=df_.index, y=[\"Level_FPN\", \"Level\"])\n",
    "fig.update_traces(stackgroup=None, fill=\"tozeroy\")\n",
    "fig.update_layout(\n",
    "    yaxis=dict(title=\"MW\"),\n",
    "    title=dict(\n",
    "        text=\"Difference between intended and actual generation, wind units alone\"\n",
    "    ),\n",
    ")"
   ]
  },
  {
   "cell_type": "markdown",
   "metadata": {},
   "source": [
    "# Look at all units\n",
    "Ideally we'd be iterating over FPN units, I think - we want to know the total generation, even for units that aren't in the BM?\n",
    "\n",
    "Not sure about this"
   ]
  },
  {
   "cell_type": "code",
   "execution_count": 83,
   "metadata": {},
   "outputs": [],
   "source": [
    "curtailment_dfs_all_units = []\n",
    "for unit in set(df_boal.index):\n",
    "    df_curtailment_unit = analyze_one_unit(\n",
    "        df_boal_unit=df_boal.loc[unit], df_fpn_unit=df_fpn.loc[unit]\n",
    "    )\n",
    "    curtailment_dfs_all_units.append(df_curtailment_unit)\n",
    "\n",
    "df_curtailment_all = pd.concat(curtailment_dfs_all_units)"
   ]
  },
  {
   "cell_type": "code",
   "execution_count": 86,
   "metadata": {},
   "outputs": [
    {
     "data": {
      "text/html": [
       "<div>\n",
       "<style scoped>\n",
       "    .dataframe tbody tr th:only-of-type {\n",
       "        vertical-align: middle;\n",
       "    }\n",
       "\n",
       "    .dataframe tbody tr th {\n",
       "        vertical-align: top;\n",
       "    }\n",
       "\n",
       "    .dataframe thead th {\n",
       "        text-align: right;\n",
       "    }\n",
       "</style>\n",
       "<table border=\"1\" class=\"dataframe\">\n",
       "  <thead>\n",
       "    <tr style=\"text-align: right;\">\n",
       "      <th></th>\n",
       "      <th>Unit</th>\n",
       "      <th>Notification Type</th>\n",
       "      <th>Accept ID</th>\n",
       "      <th>Accept Time</th>\n",
       "      <th>Deemed Flag</th>\n",
       "      <th>SO Flag</th>\n",
       "      <th>STOR Provider Flag</th>\n",
       "      <th>RR Instruction Flag</th>\n",
       "      <th>RR Schedule Flag</th>\n",
       "      <th>Fuel Type</th>\n",
       "      <th>Level</th>\n",
       "      <th>Accept Time str</th>\n",
       "      <th>Level_FPN</th>\n",
       "      <th>delta</th>\n",
       "    </tr>\n",
       "    <tr>\n",
       "      <th>Time</th>\n",
       "      <th></th>\n",
       "      <th></th>\n",
       "      <th></th>\n",
       "      <th></th>\n",
       "      <th></th>\n",
       "      <th></th>\n",
       "      <th></th>\n",
       "      <th></th>\n",
       "      <th></th>\n",
       "      <th></th>\n",
       "      <th></th>\n",
       "      <th></th>\n",
       "      <th></th>\n",
       "      <th></th>\n",
       "    </tr>\n",
       "  </thead>\n",
       "  <tbody>\n",
       "    <tr>\n",
       "      <th>2022-03-19 12:59:00</th>\n",
       "      <td>T_PEMB-21</td>\n",
       "      <td>BOALF</td>\n",
       "      <td>88401.0</td>\n",
       "      <td>2022-03-19 12:01:00</td>\n",
       "      <td>0.0</td>\n",
       "      <td>1.0</td>\n",
       "      <td>0.0</td>\n",
       "      <td>0.0</td>\n",
       "      <td>0.0</td>\n",
       "      <td>CCGT</td>\n",
       "      <td>219.0</td>\n",
       "      <td>2022-03-19 12:01:00</td>\n",
       "      <td>NaN</td>\n",
       "      <td>NaN</td>\n",
       "    </tr>\n",
       "    <tr>\n",
       "      <th>2022-03-19 13:00:00</th>\n",
       "      <td>T_PEMB-21</td>\n",
       "      <td>BOALF</td>\n",
       "      <td>88401.0</td>\n",
       "      <td>2022-03-19 12:01:00</td>\n",
       "      <td>0.0</td>\n",
       "      <td>1.0</td>\n",
       "      <td>0.0</td>\n",
       "      <td>0.0</td>\n",
       "      <td>0.0</td>\n",
       "      <td>CCGT</td>\n",
       "      <td>219.0</td>\n",
       "      <td>2022-03-19 12:01:00</td>\n",
       "      <td>0.0</td>\n",
       "      <td>-219.0</td>\n",
       "    </tr>\n",
       "    <tr>\n",
       "      <th>2022-03-19 13:01:00</th>\n",
       "      <td>T_PEMB-21</td>\n",
       "      <td>BOALF</td>\n",
       "      <td>88401.0</td>\n",
       "      <td>2022-03-19 12:01:00</td>\n",
       "      <td>0.0</td>\n",
       "      <td>1.0</td>\n",
       "      <td>0.0</td>\n",
       "      <td>0.0</td>\n",
       "      <td>0.0</td>\n",
       "      <td>CCGT</td>\n",
       "      <td>219.0</td>\n",
       "      <td>2022-03-19 12:01:00</td>\n",
       "      <td>0.0</td>\n",
       "      <td>-219.0</td>\n",
       "    </tr>\n",
       "    <tr>\n",
       "      <th>2022-03-19 13:02:00</th>\n",
       "      <td>T_PEMB-21</td>\n",
       "      <td>BOALF</td>\n",
       "      <td>88401.0</td>\n",
       "      <td>2022-03-19 12:01:00</td>\n",
       "      <td>0.0</td>\n",
       "      <td>1.0</td>\n",
       "      <td>0.0</td>\n",
       "      <td>0.0</td>\n",
       "      <td>0.0</td>\n",
       "      <td>CCGT</td>\n",
       "      <td>219.0</td>\n",
       "      <td>2022-03-19 12:01:00</td>\n",
       "      <td>0.0</td>\n",
       "      <td>-219.0</td>\n",
       "    </tr>\n",
       "    <tr>\n",
       "      <th>2022-03-19 13:03:00</th>\n",
       "      <td>T_PEMB-21</td>\n",
       "      <td>BOALF</td>\n",
       "      <td>88401.0</td>\n",
       "      <td>2022-03-19 12:01:00</td>\n",
       "      <td>0.0</td>\n",
       "      <td>1.0</td>\n",
       "      <td>0.0</td>\n",
       "      <td>0.0</td>\n",
       "      <td>0.0</td>\n",
       "      <td>CCGT</td>\n",
       "      <td>219.0</td>\n",
       "      <td>2022-03-19 12:01:00</td>\n",
       "      <td>0.0</td>\n",
       "      <td>-219.0</td>\n",
       "    </tr>\n",
       "    <tr>\n",
       "      <th>...</th>\n",
       "      <td>...</td>\n",
       "      <td>...</td>\n",
       "      <td>...</td>\n",
       "      <td>...</td>\n",
       "      <td>...</td>\n",
       "      <td>...</td>\n",
       "      <td>...</td>\n",
       "      <td>...</td>\n",
       "      <td>...</td>\n",
       "      <td>...</td>\n",
       "      <td>...</td>\n",
       "      <td>...</td>\n",
       "      <td>...</td>\n",
       "      <td>...</td>\n",
       "    </tr>\n",
       "    <tr>\n",
       "      <th>2022-03-19 13:30:00</th>\n",
       "      <td>T_BRBEO-1</td>\n",
       "      <td>BOALF</td>\n",
       "      <td>23967.0</td>\n",
       "      <td>2022-03-19 12:49:00</td>\n",
       "      <td>0.0</td>\n",
       "      <td>0.0</td>\n",
       "      <td>0.0</td>\n",
       "      <td>0.0</td>\n",
       "      <td>0.0</td>\n",
       "      <td>WIND</td>\n",
       "      <td>75.0</td>\n",
       "      <td>2022-03-19 12:49:00</td>\n",
       "      <td>210.0</td>\n",
       "      <td>135.0</td>\n",
       "    </tr>\n",
       "    <tr>\n",
       "      <th>2022-03-19 13:31:00</th>\n",
       "      <td>T_BRBEO-1</td>\n",
       "      <td>BOALF</td>\n",
       "      <td>23967.0</td>\n",
       "      <td>2022-03-19 12:49:00</td>\n",
       "      <td>0.0</td>\n",
       "      <td>0.0</td>\n",
       "      <td>0.0</td>\n",
       "      <td>0.0</td>\n",
       "      <td>0.0</td>\n",
       "      <td>WIND</td>\n",
       "      <td>75.0</td>\n",
       "      <td>2022-03-19 12:49:00</td>\n",
       "      <td>NaN</td>\n",
       "      <td>NaN</td>\n",
       "    </tr>\n",
       "    <tr>\n",
       "      <th>2022-03-19 13:32:00</th>\n",
       "      <td>T_BRBEO-1</td>\n",
       "      <td>BOALF</td>\n",
       "      <td>23967.0</td>\n",
       "      <td>2022-03-19 12:49:00</td>\n",
       "      <td>0.0</td>\n",
       "      <td>0.0</td>\n",
       "      <td>0.0</td>\n",
       "      <td>0.0</td>\n",
       "      <td>0.0</td>\n",
       "      <td>WIND</td>\n",
       "      <td>75.0</td>\n",
       "      <td>2022-03-19 12:49:00</td>\n",
       "      <td>NaN</td>\n",
       "      <td>NaN</td>\n",
       "    </tr>\n",
       "    <tr>\n",
       "      <th>2022-03-19 13:33:00</th>\n",
       "      <td>T_BRBEO-1</td>\n",
       "      <td>BOALF</td>\n",
       "      <td>23967.0</td>\n",
       "      <td>2022-03-19 12:49:00</td>\n",
       "      <td>0.0</td>\n",
       "      <td>0.0</td>\n",
       "      <td>0.0</td>\n",
       "      <td>0.0</td>\n",
       "      <td>0.0</td>\n",
       "      <td>WIND</td>\n",
       "      <td>75.0</td>\n",
       "      <td>2022-03-19 12:49:00</td>\n",
       "      <td>NaN</td>\n",
       "      <td>NaN</td>\n",
       "    </tr>\n",
       "    <tr>\n",
       "      <th>2022-03-19 13:34:00</th>\n",
       "      <td>T_BRBEO-1</td>\n",
       "      <td>BOALF</td>\n",
       "      <td>23967.0</td>\n",
       "      <td>2022-03-19 12:49:00</td>\n",
       "      <td>0.0</td>\n",
       "      <td>0.0</td>\n",
       "      <td>0.0</td>\n",
       "      <td>0.0</td>\n",
       "      <td>0.0</td>\n",
       "      <td>WIND</td>\n",
       "      <td>75.0</td>\n",
       "      <td>2022-03-19 12:49:00</td>\n",
       "      <td>NaN</td>\n",
       "      <td>NaN</td>\n",
       "    </tr>\n",
       "  </tbody>\n",
       "</table>\n",
       "<p>1845 rows × 14 columns</p>\n",
       "</div>"
      ],
      "text/plain": [
       "                          Unit Notification Type  Accept ID  \\\n",
       "Time                                                          \n",
       "2022-03-19 12:59:00  T_PEMB-21             BOALF    88401.0   \n",
       "2022-03-19 13:00:00  T_PEMB-21             BOALF    88401.0   \n",
       "2022-03-19 13:01:00  T_PEMB-21             BOALF    88401.0   \n",
       "2022-03-19 13:02:00  T_PEMB-21             BOALF    88401.0   \n",
       "2022-03-19 13:03:00  T_PEMB-21             BOALF    88401.0   \n",
       "...                        ...               ...        ...   \n",
       "2022-03-19 13:30:00  T_BRBEO-1             BOALF    23967.0   \n",
       "2022-03-19 13:31:00  T_BRBEO-1             BOALF    23967.0   \n",
       "2022-03-19 13:32:00  T_BRBEO-1             BOALF    23967.0   \n",
       "2022-03-19 13:33:00  T_BRBEO-1             BOALF    23967.0   \n",
       "2022-03-19 13:34:00  T_BRBEO-1             BOALF    23967.0   \n",
       "\n",
       "                            Accept Time  Deemed Flag  SO Flag  \\\n",
       "Time                                                            \n",
       "2022-03-19 12:59:00 2022-03-19 12:01:00          0.0      1.0   \n",
       "2022-03-19 13:00:00 2022-03-19 12:01:00          0.0      1.0   \n",
       "2022-03-19 13:01:00 2022-03-19 12:01:00          0.0      1.0   \n",
       "2022-03-19 13:02:00 2022-03-19 12:01:00          0.0      1.0   \n",
       "2022-03-19 13:03:00 2022-03-19 12:01:00          0.0      1.0   \n",
       "...                                 ...          ...      ...   \n",
       "2022-03-19 13:30:00 2022-03-19 12:49:00          0.0      0.0   \n",
       "2022-03-19 13:31:00 2022-03-19 12:49:00          0.0      0.0   \n",
       "2022-03-19 13:32:00 2022-03-19 12:49:00          0.0      0.0   \n",
       "2022-03-19 13:33:00 2022-03-19 12:49:00          0.0      0.0   \n",
       "2022-03-19 13:34:00 2022-03-19 12:49:00          0.0      0.0   \n",
       "\n",
       "                     STOR Provider Flag  RR Instruction Flag  \\\n",
       "Time                                                           \n",
       "2022-03-19 12:59:00                 0.0                  0.0   \n",
       "2022-03-19 13:00:00                 0.0                  0.0   \n",
       "2022-03-19 13:01:00                 0.0                  0.0   \n",
       "2022-03-19 13:02:00                 0.0                  0.0   \n",
       "2022-03-19 13:03:00                 0.0                  0.0   \n",
       "...                                 ...                  ...   \n",
       "2022-03-19 13:30:00                 0.0                  0.0   \n",
       "2022-03-19 13:31:00                 0.0                  0.0   \n",
       "2022-03-19 13:32:00                 0.0                  0.0   \n",
       "2022-03-19 13:33:00                 0.0                  0.0   \n",
       "2022-03-19 13:34:00                 0.0                  0.0   \n",
       "\n",
       "                     RR Schedule Flag Fuel Type  Level      Accept Time str  \\\n",
       "Time                                                                          \n",
       "2022-03-19 12:59:00               0.0      CCGT  219.0  2022-03-19 12:01:00   \n",
       "2022-03-19 13:00:00               0.0      CCGT  219.0  2022-03-19 12:01:00   \n",
       "2022-03-19 13:01:00               0.0      CCGT  219.0  2022-03-19 12:01:00   \n",
       "2022-03-19 13:02:00               0.0      CCGT  219.0  2022-03-19 12:01:00   \n",
       "2022-03-19 13:03:00               0.0      CCGT  219.0  2022-03-19 12:01:00   \n",
       "...                               ...       ...    ...                  ...   \n",
       "2022-03-19 13:30:00               0.0      WIND   75.0  2022-03-19 12:49:00   \n",
       "2022-03-19 13:31:00               0.0      WIND   75.0  2022-03-19 12:49:00   \n",
       "2022-03-19 13:32:00               0.0      WIND   75.0  2022-03-19 12:49:00   \n",
       "2022-03-19 13:33:00               0.0      WIND   75.0  2022-03-19 12:49:00   \n",
       "2022-03-19 13:34:00               0.0      WIND   75.0  2022-03-19 12:49:00   \n",
       "\n",
       "                     Level_FPN  delta  \n",
       "Time                                   \n",
       "2022-03-19 12:59:00        NaN    NaN  \n",
       "2022-03-19 13:00:00        0.0 -219.0  \n",
       "2022-03-19 13:01:00        0.0 -219.0  \n",
       "2022-03-19 13:02:00        0.0 -219.0  \n",
       "2022-03-19 13:03:00        0.0 -219.0  \n",
       "...                        ...    ...  \n",
       "2022-03-19 13:30:00      210.0  135.0  \n",
       "2022-03-19 13:31:00        NaN    NaN  \n",
       "2022-03-19 13:32:00        NaN    NaN  \n",
       "2022-03-19 13:33:00        NaN    NaN  \n",
       "2022-03-19 13:34:00        NaN    NaN  \n",
       "\n",
       "[1845 rows x 14 columns]"
      ]
     },
     "execution_count": 86,
     "metadata": {},
     "output_type": "execute_result"
    }
   ],
   "source": [
    "df_curtailment_all"
   ]
  },
  {
   "cell_type": "code",
   "execution_count": 93,
   "metadata": {},
   "outputs": [
    {
     "data": {
      "application/vnd.plotly.v1+json": {
       "config": {
        "plotlyServerURL": "https://plot.ly"
       },
       "data": [
        {
         "fill": "tozeroy",
         "fillpattern": {
          "shape": ""
         },
         "hovertemplate": "variable=Level_FPN<br>Fuel Type=CCGT<br>Time=%{x}<br>value=%{y}<extra></extra>",
         "legendgroup": "Level_FPN",
         "line": {
          "color": "#636efa"
         },
         "marker": {
          "symbol": "circle"
         },
         "mode": "lines",
         "name": "Level_FPN",
         "orientation": "v",
         "showlegend": true,
         "type": "scatter",
         "x": [
          "2022-03-19T12:10:00",
          "2022-03-19T12:11:00",
          "2022-03-19T12:12:00",
          "2022-03-19T12:13:00",
          "2022-03-19T12:14:00",
          "2022-03-19T12:15:00",
          "2022-03-19T12:16:00",
          "2022-03-19T12:17:00",
          "2022-03-19T12:18:00",
          "2022-03-19T12:19:00",
          "2022-03-19T12:20:00",
          "2022-03-19T12:21:00",
          "2022-03-19T12:22:00",
          "2022-03-19T12:23:00",
          "2022-03-19T12:24:00",
          "2022-03-19T12:25:00",
          "2022-03-19T12:26:00",
          "2022-03-19T12:27:00",
          "2022-03-19T12:28:00",
          "2022-03-19T12:29:00",
          "2022-03-19T12:30:00",
          "2022-03-19T12:31:00",
          "2022-03-19T12:32:00",
          "2022-03-19T12:33:00",
          "2022-03-19T12:34:00",
          "2022-03-19T12:35:00",
          "2022-03-19T12:36:00",
          "2022-03-19T12:37:00",
          "2022-03-19T12:38:00",
          "2022-03-19T12:39:00",
          "2022-03-19T12:40:00",
          "2022-03-19T12:41:00",
          "2022-03-19T12:42:00",
          "2022-03-19T12:43:00",
          "2022-03-19T12:44:00",
          "2022-03-19T12:45:00",
          "2022-03-19T12:46:00",
          "2022-03-19T12:47:00",
          "2022-03-19T12:48:00",
          "2022-03-19T12:49:00",
          "2022-03-19T12:50:00",
          "2022-03-19T12:51:00",
          "2022-03-19T12:52:00",
          "2022-03-19T12:53:00",
          "2022-03-19T12:54:00",
          "2022-03-19T12:55:00",
          "2022-03-19T12:56:00",
          "2022-03-19T12:57:00",
          "2022-03-19T12:58:00",
          "2022-03-19T12:59:00",
          "2022-03-19T13:00:00",
          "2022-03-19T13:01:00",
          "2022-03-19T13:02:00",
          "2022-03-19T13:03:00",
          "2022-03-19T13:04:00",
          "2022-03-19T13:05:00",
          "2022-03-19T13:06:00",
          "2022-03-19T13:07:00",
          "2022-03-19T13:08:00",
          "2022-03-19T13:09:00",
          "2022-03-19T13:10:00",
          "2022-03-19T13:11:00",
          "2022-03-19T13:12:00",
          "2022-03-19T13:13:00",
          "2022-03-19T13:14:00",
          "2022-03-19T13:15:00",
          "2022-03-19T13:16:00",
          "2022-03-19T13:17:00",
          "2022-03-19T13:18:00",
          "2022-03-19T13:19:00",
          "2022-03-19T13:20:00",
          "2022-03-19T13:21:00",
          "2022-03-19T13:22:00",
          "2022-03-19T13:23:00",
          "2022-03-19T13:24:00",
          "2022-03-19T13:25:00",
          "2022-03-19T13:26:00",
          "2022-03-19T13:27:00",
          "2022-03-19T13:28:00",
          "2022-03-19T13:29:00",
          "2022-03-19T13:30:00",
          "2022-03-19T13:31:00",
          "2022-03-19T13:32:00",
          "2022-03-19T13:33:00",
          "2022-03-19T13:34:00",
          "2022-03-19T13:35:00",
          "2022-03-19T13:36:00",
          "2022-03-19T13:37:00",
          "2022-03-19T13:38:00",
          "2022-03-19T13:39:00",
          "2022-03-19T13:40:00",
          "2022-03-19T13:41:00",
          "2022-03-19T13:42:00",
          "2022-03-19T13:43:00",
          "2022-03-19T13:44:00",
          "2022-03-19T13:45:00",
          "2022-03-19T13:46:00",
          "2022-03-19T13:47:00",
          "2022-03-19T13:48:00",
          "2022-03-19T13:49:00",
          "2022-03-19T13:50:00",
          "2022-03-19T13:51:00",
          "2022-03-19T13:52:00",
          "2022-03-19T13:53:00",
          "2022-03-19T13:54:00",
          "2022-03-19T13:55:00",
          "2022-03-19T13:56:00",
          "2022-03-19T13:57:00",
          "2022-03-19T13:58:00",
          "2022-03-19T13:59:00",
          "2022-03-19T14:00:00",
          "2022-03-19T14:01:00",
          "2022-03-19T14:02:00",
          "2022-03-19T14:03:00",
          "2022-03-19T14:04:00",
          "2022-03-19T14:05:00",
          "2022-03-19T14:06:00",
          "2022-03-19T14:07:00",
          "2022-03-19T14:08:00",
          "2022-03-19T14:09:00",
          "2022-03-19T14:10:00",
          "2022-03-19T14:11:00",
          "2022-03-19T14:12:00",
          "2022-03-19T14:13:00"
         ],
         "xaxis": "x",
         "y": [
          0,
          0,
          0,
          0,
          0,
          0,
          0,
          0,
          0,
          0,
          0,
          0,
          0,
          0,
          0,
          0,
          0,
          0,
          0,
          0,
          0,
          0,
          0,
          0,
          0,
          0,
          0,
          0,
          0,
          0,
          0,
          0,
          0,
          0,
          0,
          0,
          0,
          0,
          0,
          0,
          0,
          0,
          0,
          0,
          0,
          0,
          0,
          0,
          0,
          0,
          0,
          0,
          0,
          0,
          0,
          0,
          0,
          0,
          0,
          0,
          0,
          0,
          0,
          0,
          0,
          0,
          0,
          0,
          0,
          0,
          0,
          0,
          0,
          0,
          0,
          0,
          0,
          0,
          0,
          0,
          0,
          0,
          0,
          0,
          0,
          0,
          0,
          0,
          0,
          0,
          0,
          0,
          0,
          0,
          0,
          0,
          0,
          0,
          0,
          0,
          0,
          0,
          0,
          0,
          0,
          0,
          0,
          0,
          0,
          0,
          0,
          0,
          0,
          0,
          0,
          0,
          0,
          0,
          0,
          0,
          0,
          0,
          0,
          0
         ],
         "yaxis": "y"
        },
        {
         "fill": "tozeroy",
         "fillpattern": {
          "shape": ""
         },
         "hovertemplate": "variable=Level_FPN<br>Fuel Type=WIND<br>Time=%{x}<br>value=%{y}<extra></extra>",
         "legendgroup": "Level_FPN",
         "line": {
          "color": "#636efa"
         },
         "marker": {
          "symbol": "circle"
         },
         "mode": "lines",
         "name": "Level_FPN",
         "orientation": "v",
         "showlegend": false,
         "type": "scatter",
         "x": [
          "2022-03-19T12:34:00",
          "2022-03-19T12:35:00",
          "2022-03-19T12:36:00",
          "2022-03-19T12:37:00",
          "2022-03-19T12:38:00",
          "2022-03-19T12:39:00",
          "2022-03-19T12:40:00",
          "2022-03-19T12:41:00",
          "2022-03-19T12:42:00",
          "2022-03-19T12:43:00",
          "2022-03-19T12:44:00",
          "2022-03-19T12:45:00",
          "2022-03-19T12:46:00",
          "2022-03-19T12:47:00",
          "2022-03-19T12:48:00",
          "2022-03-19T12:49:00",
          "2022-03-19T12:50:00",
          "2022-03-19T12:51:00",
          "2022-03-19T12:52:00",
          "2022-03-19T12:53:00",
          "2022-03-19T12:54:00",
          "2022-03-19T12:55:00",
          "2022-03-19T12:56:00",
          "2022-03-19T12:57:00",
          "2022-03-19T12:58:00",
          "2022-03-19T12:59:00",
          "2022-03-19T13:00:00",
          "2022-03-19T13:01:00",
          "2022-03-19T13:02:00",
          "2022-03-19T13:03:00",
          "2022-03-19T13:04:00",
          "2022-03-19T13:05:00",
          "2022-03-19T13:06:00",
          "2022-03-19T13:07:00",
          "2022-03-19T13:08:00",
          "2022-03-19T13:09:00",
          "2022-03-19T13:10:00",
          "2022-03-19T13:11:00",
          "2022-03-19T13:12:00",
          "2022-03-19T13:13:00",
          "2022-03-19T13:14:00",
          "2022-03-19T13:15:00",
          "2022-03-19T13:16:00",
          "2022-03-19T13:17:00",
          "2022-03-19T13:18:00",
          "2022-03-19T13:19:00",
          "2022-03-19T13:20:00",
          "2022-03-19T13:21:00",
          "2022-03-19T13:22:00",
          "2022-03-19T13:23:00",
          "2022-03-19T13:24:00",
          "2022-03-19T13:25:00",
          "2022-03-19T13:26:00",
          "2022-03-19T13:27:00",
          "2022-03-19T13:28:00",
          "2022-03-19T13:29:00",
          "2022-03-19T13:30:00",
          "2022-03-19T13:31:00",
          "2022-03-19T13:32:00",
          "2022-03-19T13:33:00",
          "2022-03-19T13:34:00",
          "2022-03-19T13:35:00",
          "2022-03-19T13:36:00",
          "2022-03-19T13:37:00",
          "2022-03-19T13:38:00",
          "2022-03-19T13:39:00",
          "2022-03-19T13:40:00",
          "2022-03-19T13:41:00",
          "2022-03-19T13:42:00",
          "2022-03-19T13:43:00",
          "2022-03-19T13:44:00",
          "2022-03-19T13:45:00",
          "2022-03-19T13:46:00",
          "2022-03-19T13:47:00",
          "2022-03-19T13:48:00",
          "2022-03-19T13:49:00",
          "2022-03-19T13:50:00",
          "2022-03-19T13:51:00",
          "2022-03-19T13:52:00",
          "2022-03-19T13:53:00",
          "2022-03-19T13:54:00",
          "2022-03-19T13:55:00",
          "2022-03-19T13:56:00",
          "2022-03-19T13:57:00",
          "2022-03-19T13:58:00",
          "2022-03-19T13:59:00",
          "2022-03-19T14:00:00",
          "2022-03-19T14:01:00",
          "2022-03-19T14:02:00",
          "2022-03-19T14:03:00",
          "2022-03-19T14:04:00",
          "2022-03-19T14:05:00",
          "2022-03-19T14:06:00",
          "2022-03-19T14:07:00",
          "2022-03-19T14:08:00",
          "2022-03-19T14:09:00",
          "2022-03-19T14:10:00",
          "2022-03-19T14:11:00",
          "2022-03-19T14:12:00",
          "2022-03-19T14:13:00",
          "2022-03-19T14:14:00",
          "2022-03-19T14:15:00",
          "2022-03-19T14:16:00",
          "2022-03-19T14:17:00",
          "2022-03-19T14:18:00",
          "2022-03-19T14:19:00"
         ],
         "xaxis": "x2",
         "y": [
          0,
          0,
          0,
          0,
          0,
          0,
          0,
          0,
          0,
          0,
          0,
          0,
          0,
          0,
          0,
          0,
          0,
          0,
          0,
          0,
          0,
          0,
          0,
          0,
          0,
          0,
          3088,
          3088.6000000000004,
          3089.2,
          3185.7999999999997,
          3186.4,
          3186.9999999999995,
          3187.6,
          3188.2000000000003,
          3188.7999999999997,
          3189.4,
          3190.0000000000005,
          3190.6,
          3191.2000000000003,
          3191.8,
          3215.3999999999996,
          3216,
          3216.6000000000004,
          3217.2,
          3217.7999999999997,
          3218.4000000000005,
          3261.9999999999995,
          3598.6,
          3836.2000000000003,
          3836.7999999999997,
          3837.4,
          3838.0000000000005,
          3838.5999999999995,
          3839.2000000000003,
          3839.8,
          3840.3999999999996,
          3861,
          0,
          0,
          0,
          0,
          0,
          0,
          0,
          0,
          0,
          0,
          0,
          0,
          0,
          0,
          0,
          0,
          0,
          0,
          0,
          0,
          0,
          0,
          0,
          0,
          0,
          0,
          0,
          0,
          0,
          0,
          0,
          0,
          0,
          0,
          0,
          0,
          0,
          0,
          0,
          0,
          0,
          0,
          0,
          0,
          0,
          0,
          0,
          0,
          0
         ],
         "yaxis": "y2"
        },
        {
         "fill": "tozeroy",
         "fillpattern": {
          "shape": ""
         },
         "hovertemplate": "variable=Level<br>Fuel Type=CCGT<br>Time=%{x}<br>value=%{y}<extra></extra>",
         "legendgroup": "Level",
         "line": {
          "color": "#EF553B"
         },
         "marker": {
          "symbol": "circle"
         },
         "mode": "lines",
         "name": "Level",
         "orientation": "v",
         "showlegend": true,
         "type": "scatter",
         "x": [
          "2022-03-19T12:10:00",
          "2022-03-19T12:11:00",
          "2022-03-19T12:12:00",
          "2022-03-19T12:13:00",
          "2022-03-19T12:14:00",
          "2022-03-19T12:15:00",
          "2022-03-19T12:16:00",
          "2022-03-19T12:17:00",
          "2022-03-19T12:18:00",
          "2022-03-19T12:19:00",
          "2022-03-19T12:20:00",
          "2022-03-19T12:21:00",
          "2022-03-19T12:22:00",
          "2022-03-19T12:23:00",
          "2022-03-19T12:24:00",
          "2022-03-19T12:25:00",
          "2022-03-19T12:26:00",
          "2022-03-19T12:27:00",
          "2022-03-19T12:28:00",
          "2022-03-19T12:29:00",
          "2022-03-19T12:30:00",
          "2022-03-19T12:31:00",
          "2022-03-19T12:32:00",
          "2022-03-19T12:33:00",
          "2022-03-19T12:34:00",
          "2022-03-19T12:35:00",
          "2022-03-19T12:36:00",
          "2022-03-19T12:37:00",
          "2022-03-19T12:38:00",
          "2022-03-19T12:39:00",
          "2022-03-19T12:40:00",
          "2022-03-19T12:41:00",
          "2022-03-19T12:42:00",
          "2022-03-19T12:43:00",
          "2022-03-19T12:44:00",
          "2022-03-19T12:45:00",
          "2022-03-19T12:46:00",
          "2022-03-19T12:47:00",
          "2022-03-19T12:48:00",
          "2022-03-19T12:49:00",
          "2022-03-19T12:50:00",
          "2022-03-19T12:51:00",
          "2022-03-19T12:52:00",
          "2022-03-19T12:53:00",
          "2022-03-19T12:54:00",
          "2022-03-19T12:55:00",
          "2022-03-19T12:56:00",
          "2022-03-19T12:57:00",
          "2022-03-19T12:58:00",
          "2022-03-19T12:59:00",
          "2022-03-19T13:00:00",
          "2022-03-19T13:01:00",
          "2022-03-19T13:02:00",
          "2022-03-19T13:03:00",
          "2022-03-19T13:04:00",
          "2022-03-19T13:05:00",
          "2022-03-19T13:06:00",
          "2022-03-19T13:07:00",
          "2022-03-19T13:08:00",
          "2022-03-19T13:09:00",
          "2022-03-19T13:10:00",
          "2022-03-19T13:11:00",
          "2022-03-19T13:12:00",
          "2022-03-19T13:13:00",
          "2022-03-19T13:14:00",
          "2022-03-19T13:15:00",
          "2022-03-19T13:16:00",
          "2022-03-19T13:17:00",
          "2022-03-19T13:18:00",
          "2022-03-19T13:19:00",
          "2022-03-19T13:20:00",
          "2022-03-19T13:21:00",
          "2022-03-19T13:22:00",
          "2022-03-19T13:23:00",
          "2022-03-19T13:24:00",
          "2022-03-19T13:25:00",
          "2022-03-19T13:26:00",
          "2022-03-19T13:27:00",
          "2022-03-19T13:28:00",
          "2022-03-19T13:29:00",
          "2022-03-19T13:30:00",
          "2022-03-19T13:31:00",
          "2022-03-19T13:32:00",
          "2022-03-19T13:33:00",
          "2022-03-19T13:34:00",
          "2022-03-19T13:35:00",
          "2022-03-19T13:36:00",
          "2022-03-19T13:37:00",
          "2022-03-19T13:38:00",
          "2022-03-19T13:39:00",
          "2022-03-19T13:40:00",
          "2022-03-19T13:41:00",
          "2022-03-19T13:42:00",
          "2022-03-19T13:43:00",
          "2022-03-19T13:44:00",
          "2022-03-19T13:45:00",
          "2022-03-19T13:46:00",
          "2022-03-19T13:47:00",
          "2022-03-19T13:48:00",
          "2022-03-19T13:49:00",
          "2022-03-19T13:50:00",
          "2022-03-19T13:51:00",
          "2022-03-19T13:52:00",
          "2022-03-19T13:53:00",
          "2022-03-19T13:54:00",
          "2022-03-19T13:55:00",
          "2022-03-19T13:56:00",
          "2022-03-19T13:57:00",
          "2022-03-19T13:58:00",
          "2022-03-19T13:59:00",
          "2022-03-19T14:00:00",
          "2022-03-19T14:01:00",
          "2022-03-19T14:02:00",
          "2022-03-19T14:03:00",
          "2022-03-19T14:04:00",
          "2022-03-19T14:05:00",
          "2022-03-19T14:06:00",
          "2022-03-19T14:07:00",
          "2022-03-19T14:08:00",
          "2022-03-19T14:09:00",
          "2022-03-19T14:10:00",
          "2022-03-19T14:11:00",
          "2022-03-19T14:12:00",
          "2022-03-19T14:13:00"
         ],
         "xaxis": "x",
         "y": [
          160,
          160,
          160,
          160,
          160,
          160,
          160,
          160,
          160,
          160,
          160,
          160,
          160,
          160,
          160,
          160,
          160,
          160,
          160,
          160,
          160,
          160,
          160,
          160,
          160,
          160,
          160,
          160,
          160,
          160,
          160,
          160,
          160,
          160,
          160,
          160,
          336,
          336,
          336,
          336,
          336,
          336,
          336,
          336,
          336,
          336,
          336,
          336,
          786,
          1005,
          1005,
          1005,
          1005,
          1005,
          1005,
          1005,
          1005,
          1005,
          1005,
          1005,
          1005,
          1005,
          1005,
          1005,
          1005,
          1005,
          1005,
          1005,
          1005,
          1005,
          1005,
          1005,
          1005,
          1005,
          1005,
          1005,
          1005,
          1005,
          1005,
          1021,
          1021,
          1021,
          1021,
          1021,
          1021,
          1021,
          1021,
          1021,
          1021,
          1021,
          1021,
          1021,
          1021,
          1021,
          1021,
          1021,
          1021,
          1021,
          1021,
          1021,
          1021,
          1021,
          1021,
          1021,
          1021,
          1021,
          1021,
          1021,
          1021,
          1021,
          1076,
          336,
          336,
          336,
          336,
          336,
          336,
          336,
          336,
          176,
          176,
          176,
          176,
          176
         ],
         "yaxis": "y"
        },
        {
         "fill": "tozeroy",
         "fillpattern": {
          "shape": ""
         },
         "hovertemplate": "variable=Level<br>Fuel Type=WIND<br>Time=%{x}<br>value=%{y}<extra></extra>",
         "legendgroup": "Level",
         "line": {
          "color": "#EF553B"
         },
         "marker": {
          "symbol": "circle"
         },
         "mode": "lines",
         "name": "Level",
         "orientation": "v",
         "showlegend": false,
         "type": "scatter",
         "x": [
          "2022-03-19T12:34:00",
          "2022-03-19T12:35:00",
          "2022-03-19T12:36:00",
          "2022-03-19T12:37:00",
          "2022-03-19T12:38:00",
          "2022-03-19T12:39:00",
          "2022-03-19T12:40:00",
          "2022-03-19T12:41:00",
          "2022-03-19T12:42:00",
          "2022-03-19T12:43:00",
          "2022-03-19T12:44:00",
          "2022-03-19T12:45:00",
          "2022-03-19T12:46:00",
          "2022-03-19T12:47:00",
          "2022-03-19T12:48:00",
          "2022-03-19T12:49:00",
          "2022-03-19T12:50:00",
          "2022-03-19T12:51:00",
          "2022-03-19T12:52:00",
          "2022-03-19T12:53:00",
          "2022-03-19T12:54:00",
          "2022-03-19T12:55:00",
          "2022-03-19T12:56:00",
          "2022-03-19T12:57:00",
          "2022-03-19T12:58:00",
          "2022-03-19T12:59:00",
          "2022-03-19T13:00:00",
          "2022-03-19T13:01:00",
          "2022-03-19T13:02:00",
          "2022-03-19T13:03:00",
          "2022-03-19T13:04:00",
          "2022-03-19T13:05:00",
          "2022-03-19T13:06:00",
          "2022-03-19T13:07:00",
          "2022-03-19T13:08:00",
          "2022-03-19T13:09:00",
          "2022-03-19T13:10:00",
          "2022-03-19T13:11:00",
          "2022-03-19T13:12:00",
          "2022-03-19T13:13:00",
          "2022-03-19T13:14:00",
          "2022-03-19T13:15:00",
          "2022-03-19T13:16:00",
          "2022-03-19T13:17:00",
          "2022-03-19T13:18:00",
          "2022-03-19T13:19:00",
          "2022-03-19T13:20:00",
          "2022-03-19T13:21:00",
          "2022-03-19T13:22:00",
          "2022-03-19T13:23:00",
          "2022-03-19T13:24:00",
          "2022-03-19T13:25:00",
          "2022-03-19T13:26:00",
          "2022-03-19T13:27:00",
          "2022-03-19T13:28:00",
          "2022-03-19T13:29:00",
          "2022-03-19T13:30:00",
          "2022-03-19T13:31:00",
          "2022-03-19T13:32:00",
          "2022-03-19T13:33:00",
          "2022-03-19T13:34:00",
          "2022-03-19T13:35:00",
          "2022-03-19T13:36:00",
          "2022-03-19T13:37:00",
          "2022-03-19T13:38:00",
          "2022-03-19T13:39:00",
          "2022-03-19T13:40:00",
          "2022-03-19T13:41:00",
          "2022-03-19T13:42:00",
          "2022-03-19T13:43:00",
          "2022-03-19T13:44:00",
          "2022-03-19T13:45:00",
          "2022-03-19T13:46:00",
          "2022-03-19T13:47:00",
          "2022-03-19T13:48:00",
          "2022-03-19T13:49:00",
          "2022-03-19T13:50:00",
          "2022-03-19T13:51:00",
          "2022-03-19T13:52:00",
          "2022-03-19T13:53:00",
          "2022-03-19T13:54:00",
          "2022-03-19T13:55:00",
          "2022-03-19T13:56:00",
          "2022-03-19T13:57:00",
          "2022-03-19T13:58:00",
          "2022-03-19T13:59:00",
          "2022-03-19T14:00:00",
          "2022-03-19T14:01:00",
          "2022-03-19T14:02:00",
          "2022-03-19T14:03:00",
          "2022-03-19T14:04:00",
          "2022-03-19T14:05:00",
          "2022-03-19T14:06:00",
          "2022-03-19T14:07:00",
          "2022-03-19T14:08:00",
          "2022-03-19T14:09:00",
          "2022-03-19T14:10:00",
          "2022-03-19T14:11:00",
          "2022-03-19T14:12:00",
          "2022-03-19T14:13:00",
          "2022-03-19T14:14:00",
          "2022-03-19T14:15:00",
          "2022-03-19T14:16:00",
          "2022-03-19T14:17:00",
          "2022-03-19T14:18:00",
          "2022-03-19T14:19:00"
         ],
         "xaxis": "x2",
         "y": [
          75,
          75,
          75,
          75,
          75,
          75,
          75,
          75,
          122,
          122,
          122,
          122,
          122,
          122,
          122,
          472,
          472,
          475,
          475,
          475,
          475,
          475,
          475,
          495,
          495,
          625,
          918,
          919,
          1019,
          1115,
          1051,
          1051,
          1051,
          1051,
          952,
          952,
          952,
          919,
          855,
          855,
          878,
          855,
          855,
          855,
          855,
          855,
          855,
          1191,
          1418,
          1390,
          1274,
          1274,
          1274,
          1274,
          1165,
          1165,
          1165,
          1165,
          1165,
          1165,
          1165,
          1090,
          1090,
          1090,
          1090,
          1090,
          1090,
          1090,
          1090,
          1090,
          1090,
          1043,
          1043,
          1043,
          1043,
          1043,
          1043,
          1043,
          1043,
          823,
          823,
          103,
          103,
          103,
          103,
          3,
          3,
          3,
          3,
          3,
          3,
          3,
          3,
          3,
          3,
          3,
          3,
          3,
          3,
          3,
          3,
          3,
          3,
          3,
          3,
          0
         ],
         "yaxis": "y2"
        }
       ],
       "layout": {
        "annotations": [
         {
          "font": {},
          "showarrow": false,
          "text": "Fuel Type=CCGT",
          "x": 0.245,
          "xanchor": "center",
          "xref": "paper",
          "y": 1,
          "yanchor": "bottom",
          "yref": "paper"
         },
         {
          "font": {},
          "showarrow": false,
          "text": "Fuel Type=WIND",
          "x": 0.755,
          "xanchor": "center",
          "xref": "paper",
          "y": 1,
          "yanchor": "bottom",
          "yref": "paper"
         }
        ],
        "legend": {
         "title": {
          "text": "variable"
         },
         "tracegroupgap": 0
        },
        "margin": {
         "t": 60
        },
        "template": {
         "data": {
          "bar": [
           {
            "error_x": {
             "color": "#2a3f5f"
            },
            "error_y": {
             "color": "#2a3f5f"
            },
            "marker": {
             "line": {
              "color": "#E5ECF6",
              "width": 0.5
             },
             "pattern": {
              "fillmode": "overlay",
              "size": 10,
              "solidity": 0.2
             }
            },
            "type": "bar"
           }
          ],
          "barpolar": [
           {
            "marker": {
             "line": {
              "color": "#E5ECF6",
              "width": 0.5
             },
             "pattern": {
              "fillmode": "overlay",
              "size": 10,
              "solidity": 0.2
             }
            },
            "type": "barpolar"
           }
          ],
          "carpet": [
           {
            "aaxis": {
             "endlinecolor": "#2a3f5f",
             "gridcolor": "white",
             "linecolor": "white",
             "minorgridcolor": "white",
             "startlinecolor": "#2a3f5f"
            },
            "baxis": {
             "endlinecolor": "#2a3f5f",
             "gridcolor": "white",
             "linecolor": "white",
             "minorgridcolor": "white",
             "startlinecolor": "#2a3f5f"
            },
            "type": "carpet"
           }
          ],
          "choropleth": [
           {
            "colorbar": {
             "outlinewidth": 0,
             "ticks": ""
            },
            "type": "choropleth"
           }
          ],
          "contour": [
           {
            "colorbar": {
             "outlinewidth": 0,
             "ticks": ""
            },
            "colorscale": [
             [
              0,
              "#0d0887"
             ],
             [
              0.1111111111111111,
              "#46039f"
             ],
             [
              0.2222222222222222,
              "#7201a8"
             ],
             [
              0.3333333333333333,
              "#9c179e"
             ],
             [
              0.4444444444444444,
              "#bd3786"
             ],
             [
              0.5555555555555556,
              "#d8576b"
             ],
             [
              0.6666666666666666,
              "#ed7953"
             ],
             [
              0.7777777777777778,
              "#fb9f3a"
             ],
             [
              0.8888888888888888,
              "#fdca26"
             ],
             [
              1,
              "#f0f921"
             ]
            ],
            "type": "contour"
           }
          ],
          "contourcarpet": [
           {
            "colorbar": {
             "outlinewidth": 0,
             "ticks": ""
            },
            "type": "contourcarpet"
           }
          ],
          "heatmap": [
           {
            "colorbar": {
             "outlinewidth": 0,
             "ticks": ""
            },
            "colorscale": [
             [
              0,
              "#0d0887"
             ],
             [
              0.1111111111111111,
              "#46039f"
             ],
             [
              0.2222222222222222,
              "#7201a8"
             ],
             [
              0.3333333333333333,
              "#9c179e"
             ],
             [
              0.4444444444444444,
              "#bd3786"
             ],
             [
              0.5555555555555556,
              "#d8576b"
             ],
             [
              0.6666666666666666,
              "#ed7953"
             ],
             [
              0.7777777777777778,
              "#fb9f3a"
             ],
             [
              0.8888888888888888,
              "#fdca26"
             ],
             [
              1,
              "#f0f921"
             ]
            ],
            "type": "heatmap"
           }
          ],
          "heatmapgl": [
           {
            "colorbar": {
             "outlinewidth": 0,
             "ticks": ""
            },
            "colorscale": [
             [
              0,
              "#0d0887"
             ],
             [
              0.1111111111111111,
              "#46039f"
             ],
             [
              0.2222222222222222,
              "#7201a8"
             ],
             [
              0.3333333333333333,
              "#9c179e"
             ],
             [
              0.4444444444444444,
              "#bd3786"
             ],
             [
              0.5555555555555556,
              "#d8576b"
             ],
             [
              0.6666666666666666,
              "#ed7953"
             ],
             [
              0.7777777777777778,
              "#fb9f3a"
             ],
             [
              0.8888888888888888,
              "#fdca26"
             ],
             [
              1,
              "#f0f921"
             ]
            ],
            "type": "heatmapgl"
           }
          ],
          "histogram": [
           {
            "marker": {
             "pattern": {
              "fillmode": "overlay",
              "size": 10,
              "solidity": 0.2
             }
            },
            "type": "histogram"
           }
          ],
          "histogram2d": [
           {
            "colorbar": {
             "outlinewidth": 0,
             "ticks": ""
            },
            "colorscale": [
             [
              0,
              "#0d0887"
             ],
             [
              0.1111111111111111,
              "#46039f"
             ],
             [
              0.2222222222222222,
              "#7201a8"
             ],
             [
              0.3333333333333333,
              "#9c179e"
             ],
             [
              0.4444444444444444,
              "#bd3786"
             ],
             [
              0.5555555555555556,
              "#d8576b"
             ],
             [
              0.6666666666666666,
              "#ed7953"
             ],
             [
              0.7777777777777778,
              "#fb9f3a"
             ],
             [
              0.8888888888888888,
              "#fdca26"
             ],
             [
              1,
              "#f0f921"
             ]
            ],
            "type": "histogram2d"
           }
          ],
          "histogram2dcontour": [
           {
            "colorbar": {
             "outlinewidth": 0,
             "ticks": ""
            },
            "colorscale": [
             [
              0,
              "#0d0887"
             ],
             [
              0.1111111111111111,
              "#46039f"
             ],
             [
              0.2222222222222222,
              "#7201a8"
             ],
             [
              0.3333333333333333,
              "#9c179e"
             ],
             [
              0.4444444444444444,
              "#bd3786"
             ],
             [
              0.5555555555555556,
              "#d8576b"
             ],
             [
              0.6666666666666666,
              "#ed7953"
             ],
             [
              0.7777777777777778,
              "#fb9f3a"
             ],
             [
              0.8888888888888888,
              "#fdca26"
             ],
             [
              1,
              "#f0f921"
             ]
            ],
            "type": "histogram2dcontour"
           }
          ],
          "mesh3d": [
           {
            "colorbar": {
             "outlinewidth": 0,
             "ticks": ""
            },
            "type": "mesh3d"
           }
          ],
          "parcoords": [
           {
            "line": {
             "colorbar": {
              "outlinewidth": 0,
              "ticks": ""
             }
            },
            "type": "parcoords"
           }
          ],
          "pie": [
           {
            "automargin": true,
            "type": "pie"
           }
          ],
          "scatter": [
           {
            "fillpattern": {
             "fillmode": "overlay",
             "size": 10,
             "solidity": 0.2
            },
            "type": "scatter"
           }
          ],
          "scatter3d": [
           {
            "line": {
             "colorbar": {
              "outlinewidth": 0,
              "ticks": ""
             }
            },
            "marker": {
             "colorbar": {
              "outlinewidth": 0,
              "ticks": ""
             }
            },
            "type": "scatter3d"
           }
          ],
          "scattercarpet": [
           {
            "marker": {
             "colorbar": {
              "outlinewidth": 0,
              "ticks": ""
             }
            },
            "type": "scattercarpet"
           }
          ],
          "scattergeo": [
           {
            "marker": {
             "colorbar": {
              "outlinewidth": 0,
              "ticks": ""
             }
            },
            "type": "scattergeo"
           }
          ],
          "scattergl": [
           {
            "marker": {
             "colorbar": {
              "outlinewidth": 0,
              "ticks": ""
             }
            },
            "type": "scattergl"
           }
          ],
          "scattermapbox": [
           {
            "marker": {
             "colorbar": {
              "outlinewidth": 0,
              "ticks": ""
             }
            },
            "type": "scattermapbox"
           }
          ],
          "scatterpolar": [
           {
            "marker": {
             "colorbar": {
              "outlinewidth": 0,
              "ticks": ""
             }
            },
            "type": "scatterpolar"
           }
          ],
          "scatterpolargl": [
           {
            "marker": {
             "colorbar": {
              "outlinewidth": 0,
              "ticks": ""
             }
            },
            "type": "scatterpolargl"
           }
          ],
          "scatterternary": [
           {
            "marker": {
             "colorbar": {
              "outlinewidth": 0,
              "ticks": ""
             }
            },
            "type": "scatterternary"
           }
          ],
          "surface": [
           {
            "colorbar": {
             "outlinewidth": 0,
             "ticks": ""
            },
            "colorscale": [
             [
              0,
              "#0d0887"
             ],
             [
              0.1111111111111111,
              "#46039f"
             ],
             [
              0.2222222222222222,
              "#7201a8"
             ],
             [
              0.3333333333333333,
              "#9c179e"
             ],
             [
              0.4444444444444444,
              "#bd3786"
             ],
             [
              0.5555555555555556,
              "#d8576b"
             ],
             [
              0.6666666666666666,
              "#ed7953"
             ],
             [
              0.7777777777777778,
              "#fb9f3a"
             ],
             [
              0.8888888888888888,
              "#fdca26"
             ],
             [
              1,
              "#f0f921"
             ]
            ],
            "type": "surface"
           }
          ],
          "table": [
           {
            "cells": {
             "fill": {
              "color": "#EBF0F8"
             },
             "line": {
              "color": "white"
             }
            },
            "header": {
             "fill": {
              "color": "#C8D4E3"
             },
             "line": {
              "color": "white"
             }
            },
            "type": "table"
           }
          ]
         },
         "layout": {
          "annotationdefaults": {
           "arrowcolor": "#2a3f5f",
           "arrowhead": 0,
           "arrowwidth": 1
          },
          "autotypenumbers": "strict",
          "coloraxis": {
           "colorbar": {
            "outlinewidth": 0,
            "ticks": ""
           }
          },
          "colorscale": {
           "diverging": [
            [
             0,
             "#8e0152"
            ],
            [
             0.1,
             "#c51b7d"
            ],
            [
             0.2,
             "#de77ae"
            ],
            [
             0.3,
             "#f1b6da"
            ],
            [
             0.4,
             "#fde0ef"
            ],
            [
             0.5,
             "#f7f7f7"
            ],
            [
             0.6,
             "#e6f5d0"
            ],
            [
             0.7,
             "#b8e186"
            ],
            [
             0.8,
             "#7fbc41"
            ],
            [
             0.9,
             "#4d9221"
            ],
            [
             1,
             "#276419"
            ]
           ],
           "sequential": [
            [
             0,
             "#0d0887"
            ],
            [
             0.1111111111111111,
             "#46039f"
            ],
            [
             0.2222222222222222,
             "#7201a8"
            ],
            [
             0.3333333333333333,
             "#9c179e"
            ],
            [
             0.4444444444444444,
             "#bd3786"
            ],
            [
             0.5555555555555556,
             "#d8576b"
            ],
            [
             0.6666666666666666,
             "#ed7953"
            ],
            [
             0.7777777777777778,
             "#fb9f3a"
            ],
            [
             0.8888888888888888,
             "#fdca26"
            ],
            [
             1,
             "#f0f921"
            ]
           ],
           "sequentialminus": [
            [
             0,
             "#0d0887"
            ],
            [
             0.1111111111111111,
             "#46039f"
            ],
            [
             0.2222222222222222,
             "#7201a8"
            ],
            [
             0.3333333333333333,
             "#9c179e"
            ],
            [
             0.4444444444444444,
             "#bd3786"
            ],
            [
             0.5555555555555556,
             "#d8576b"
            ],
            [
             0.6666666666666666,
             "#ed7953"
            ],
            [
             0.7777777777777778,
             "#fb9f3a"
            ],
            [
             0.8888888888888888,
             "#fdca26"
            ],
            [
             1,
             "#f0f921"
            ]
           ]
          },
          "colorway": [
           "#636efa",
           "#EF553B",
           "#00cc96",
           "#ab63fa",
           "#FFA15A",
           "#19d3f3",
           "#FF6692",
           "#B6E880",
           "#FF97FF",
           "#FECB52"
          ],
          "font": {
           "color": "#2a3f5f"
          },
          "geo": {
           "bgcolor": "white",
           "lakecolor": "white",
           "landcolor": "#E5ECF6",
           "showlakes": true,
           "showland": true,
           "subunitcolor": "white"
          },
          "hoverlabel": {
           "align": "left"
          },
          "hovermode": "closest",
          "mapbox": {
           "style": "light"
          },
          "paper_bgcolor": "white",
          "plot_bgcolor": "#E5ECF6",
          "polar": {
           "angularaxis": {
            "gridcolor": "white",
            "linecolor": "white",
            "ticks": ""
           },
           "bgcolor": "#E5ECF6",
           "radialaxis": {
            "gridcolor": "white",
            "linecolor": "white",
            "ticks": ""
           }
          },
          "scene": {
           "xaxis": {
            "backgroundcolor": "#E5ECF6",
            "gridcolor": "white",
            "gridwidth": 2,
            "linecolor": "white",
            "showbackground": true,
            "ticks": "",
            "zerolinecolor": "white"
           },
           "yaxis": {
            "backgroundcolor": "#E5ECF6",
            "gridcolor": "white",
            "gridwidth": 2,
            "linecolor": "white",
            "showbackground": true,
            "ticks": "",
            "zerolinecolor": "white"
           },
           "zaxis": {
            "backgroundcolor": "#E5ECF6",
            "gridcolor": "white",
            "gridwidth": 2,
            "linecolor": "white",
            "showbackground": true,
            "ticks": "",
            "zerolinecolor": "white"
           }
          },
          "shapedefaults": {
           "line": {
            "color": "#2a3f5f"
           }
          },
          "ternary": {
           "aaxis": {
            "gridcolor": "white",
            "linecolor": "white",
            "ticks": ""
           },
           "baxis": {
            "gridcolor": "white",
            "linecolor": "white",
            "ticks": ""
           },
           "bgcolor": "#E5ECF6",
           "caxis": {
            "gridcolor": "white",
            "linecolor": "white",
            "ticks": ""
           }
          },
          "title": {
           "x": 0.05
          },
          "xaxis": {
           "automargin": true,
           "gridcolor": "white",
           "linecolor": "white",
           "ticks": "",
           "title": {
            "standoff": 15
           },
           "zerolinecolor": "white",
           "zerolinewidth": 2
          },
          "yaxis": {
           "automargin": true,
           "gridcolor": "white",
           "linecolor": "white",
           "ticks": "",
           "title": {
            "standoff": 15
           },
           "zerolinecolor": "white",
           "zerolinewidth": 2
          }
         }
        },
        "title": {
         "text": "Gas units are being switched on, whilst wind is being curtailed"
        },
        "xaxis": {
         "anchor": "y",
         "domain": [
          0,
          0.49
         ],
         "title": {
          "text": "Time"
         }
        },
        "xaxis2": {
         "anchor": "y2",
         "domain": [
          0.51,
          1
         ],
         "matches": "x",
         "title": {
          "text": "Time"
         }
        },
        "yaxis": {
         "anchor": "x",
         "domain": [
          0,
          1
         ],
         "title": {
          "text": "MW"
         }
        },
        "yaxis2": {
         "anchor": "x2",
         "domain": [
          0,
          1
         ],
         "matches": "y",
         "showticklabels": false
        }
       }
      }
     },
     "metadata": {},
     "output_type": "display_data"
    }
   ],
   "source": [
    "df_ = (\n",
    "    df_curtailment_all.reset_index().groupby([\"Fuel Type\", \"Time\"]).sum().reset_index()\n",
    ")\n",
    "\n",
    "fig = px.area(df_, x=\"Time\", y=[\"Level_FPN\", \"Level\"], facet_col=\"Fuel Type\")\n",
    "fig.update_traces(stackgroup=None, fill=\"tozeroy\")\n",
    "fig.update_layout(\n",
    "    yaxis=dict(title=\"MW\"),\n",
    "    title=dict(text=\"Gas units are being switched on, whilst wind is being curtailed\"),\n",
    ")"
   ]
  },
  {
   "cell_type": "markdown",
   "metadata": {},
   "source": [
    "We would like to be able to compare this to _total_ generation, not just generation in the BM. This is only 4000MW of generation i.e. nowehere near peak UK generation. So I think there is more not reflected in this data?\n",
    "\n",
    "Can get HH fuel data from https://www.elexonportal.co.uk/article/view/7324?cachebust=eu6iei1fb9"
   ]
  },
  {
   "cell_type": "code",
   "execution_count": 96,
   "metadata": {},
   "outputs": [],
   "source": [
    "total_generation = pd.read_csv(\"../data/fuelhh_2022.csv\")\n",
    "total_generation[\"datetime\"] = pd.date_range(\n",
    "    start=total_generation[\"#Settlement Date\"].iloc[0],\n",
    "    periods=len(total_generation),\n",
    "    freq=\"30T\",\n",
    "    tz=\"Europe/London\",\n",
    ")"
   ]
  },
  {
   "cell_type": "code",
   "execution_count": 105,
   "metadata": {},
   "outputs": [
    {
     "data": {
      "text/html": [
       "<div>\n",
       "<style scoped>\n",
       "    .dataframe tbody tr th:only-of-type {\n",
       "        vertical-align: middle;\n",
       "    }\n",
       "\n",
       "    .dataframe tbody tr th {\n",
       "        vertical-align: top;\n",
       "    }\n",
       "\n",
       "    .dataframe thead th {\n",
       "        text-align: right;\n",
       "    }\n",
       "</style>\n",
       "<table border=\"1\" class=\"dataframe\">\n",
       "  <thead>\n",
       "    <tr style=\"text-align: right;\">\n",
       "      <th></th>\n",
       "      <th>datetime</th>\n",
       "      <th>Fuel Type</th>\n",
       "      <th>value</th>\n",
       "    </tr>\n",
       "  </thead>\n",
       "  <tbody>\n",
       "    <tr>\n",
       "      <th>0</th>\n",
       "      <td>2022-03-19 00:00:00+00:00</td>\n",
       "      <td>CCGT</td>\n",
       "      <td>3435</td>\n",
       "    </tr>\n",
       "    <tr>\n",
       "      <th>1</th>\n",
       "      <td>2022-03-19 00:30:00+00:00</td>\n",
       "      <td>CCGT</td>\n",
       "      <td>3229</td>\n",
       "    </tr>\n",
       "    <tr>\n",
       "      <th>2</th>\n",
       "      <td>2022-03-19 01:00:00+00:00</td>\n",
       "      <td>CCGT</td>\n",
       "      <td>3063</td>\n",
       "    </tr>\n",
       "    <tr>\n",
       "      <th>3</th>\n",
       "      <td>2022-03-19 01:30:00+00:00</td>\n",
       "      <td>CCGT</td>\n",
       "      <td>2885</td>\n",
       "    </tr>\n",
       "    <tr>\n",
       "      <th>4</th>\n",
       "      <td>2022-03-19 02:00:00+00:00</td>\n",
       "      <td>CCGT</td>\n",
       "      <td>2967</td>\n",
       "    </tr>\n",
       "    <tr>\n",
       "      <th>...</th>\n",
       "      <td>...</td>\n",
       "      <td>...</td>\n",
       "      <td>...</td>\n",
       "    </tr>\n",
       "    <tr>\n",
       "      <th>811</th>\n",
       "      <td>2022-03-19 21:30:00+00:00</td>\n",
       "      <td>INTNEM</td>\n",
       "      <td>1000</td>\n",
       "    </tr>\n",
       "    <tr>\n",
       "      <th>812</th>\n",
       "      <td>2022-03-19 22:00:00+00:00</td>\n",
       "      <td>INTNEM</td>\n",
       "      <td>1000</td>\n",
       "    </tr>\n",
       "    <tr>\n",
       "      <th>813</th>\n",
       "      <td>2022-03-19 22:30:00+00:00</td>\n",
       "      <td>INTNEM</td>\n",
       "      <td>1000</td>\n",
       "    </tr>\n",
       "    <tr>\n",
       "      <th>814</th>\n",
       "      <td>2022-03-19 23:00:00+00:00</td>\n",
       "      <td>INTNEM</td>\n",
       "      <td>930</td>\n",
       "    </tr>\n",
       "    <tr>\n",
       "      <th>815</th>\n",
       "      <td>2022-03-19 23:30:00+00:00</td>\n",
       "      <td>INTNEM</td>\n",
       "      <td>930</td>\n",
       "    </tr>\n",
       "  </tbody>\n",
       "</table>\n",
       "<p>816 rows × 3 columns</p>\n",
       "</div>"
      ],
      "text/plain": [
       "                     datetime Fuel Type  value\n",
       "0   2022-03-19 00:00:00+00:00      CCGT   3435\n",
       "1   2022-03-19 00:30:00+00:00      CCGT   3229\n",
       "2   2022-03-19 01:00:00+00:00      CCGT   3063\n",
       "3   2022-03-19 01:30:00+00:00      CCGT   2885\n",
       "4   2022-03-19 02:00:00+00:00      CCGT   2967\n",
       "..                        ...       ...    ...\n",
       "811 2022-03-19 21:30:00+00:00    INTNEM   1000\n",
       "812 2022-03-19 22:00:00+00:00    INTNEM   1000\n",
       "813 2022-03-19 22:30:00+00:00    INTNEM   1000\n",
       "814 2022-03-19 23:00:00+00:00    INTNEM    930\n",
       "815 2022-03-19 23:30:00+00:00    INTNEM    930\n",
       "\n",
       "[816 rows x 3 columns]"
      ]
     },
     "execution_count": 105,
     "metadata": {},
     "output_type": "execute_result"
    }
   ],
   "source": [
    "df_"
   ]
  },
  {
   "cell_type": "code",
   "execution_count": 111,
   "metadata": {},
   "outputs": [
    {
     "data": {
      "application/vnd.plotly.v1+json": {
       "config": {
        "plotlyServerURL": "https://plot.ly"
       },
       "data": [
        {
         "hovertemplate": "Fuel Type=CCGT<br>datetime=%{x}<br>value=%{y}<extra></extra>",
         "legendgroup": "CCGT",
         "line": {
          "color": "#636efa",
          "dash": "solid"
         },
         "marker": {
          "symbol": "circle"
         },
         "mode": "lines",
         "name": "CCGT",
         "orientation": "v",
         "showlegend": true,
         "type": "scatter",
         "x": [
          "2022-03-19T12:00:00+00:00",
          "2022-03-19T12:30:00+00:00",
          "2022-03-19T13:00:00+00:00",
          "2022-03-19T13:30:00+00:00",
          "2022-03-19T14:00:00+00:00",
          "2022-03-19T14:30:00+00:00",
          "2022-03-19T15:00:00+00:00",
          "2022-03-19T15:30:00+00:00",
          "2022-03-19T16:00:00+00:00",
          "2022-03-19T16:30:00+00:00",
          "2022-03-19T17:00:00+00:00",
          "2022-03-19T17:30:00+00:00",
          "2022-03-19T18:00:00+00:00",
          "2022-03-19T18:30:00+00:00",
          "2022-03-19T19:00:00+00:00",
          "2022-03-19T19:30:00+00:00",
          "2022-03-19T20:00:00+00:00",
          "2022-03-19T20:30:00+00:00",
          "2022-03-19T21:00:00+00:00",
          "2022-03-19T21:30:00+00:00",
          "2022-03-19T22:00:00+00:00",
          "2022-03-19T22:30:00+00:00",
          "2022-03-19T23:00:00+00:00",
          "2022-03-19T23:30:00+00:00"
         ],
         "xaxis": "x",
         "y": [
          2356,
          2158,
          2069,
          2091,
          2116,
          2439,
          2640,
          2874,
          3614,
          4918,
          5454,
          6269,
          6504,
          7180,
          6931,
          6266,
          6425,
          6035,
          5196,
          4075,
          3464,
          3002,
          2973,
          2991
         ],
         "yaxis": "y"
        },
        {
         "hovertemplate": "Fuel Type=OIL<br>datetime=%{x}<br>value=%{y}<extra></extra>",
         "legendgroup": "OIL",
         "line": {
          "color": "#EF553B",
          "dash": "solid"
         },
         "marker": {
          "symbol": "circle"
         },
         "mode": "lines",
         "name": "OIL",
         "orientation": "v",
         "showlegend": true,
         "type": "scatter",
         "x": [
          "2022-03-19T12:00:00+00:00",
          "2022-03-19T12:30:00+00:00",
          "2022-03-19T13:00:00+00:00",
          "2022-03-19T13:30:00+00:00",
          "2022-03-19T14:00:00+00:00",
          "2022-03-19T14:30:00+00:00",
          "2022-03-19T15:00:00+00:00",
          "2022-03-19T15:30:00+00:00",
          "2022-03-19T16:00:00+00:00",
          "2022-03-19T16:30:00+00:00",
          "2022-03-19T17:00:00+00:00",
          "2022-03-19T17:30:00+00:00",
          "2022-03-19T18:00:00+00:00",
          "2022-03-19T18:30:00+00:00",
          "2022-03-19T19:00:00+00:00",
          "2022-03-19T19:30:00+00:00",
          "2022-03-19T20:00:00+00:00",
          "2022-03-19T20:30:00+00:00",
          "2022-03-19T21:00:00+00:00",
          "2022-03-19T21:30:00+00:00",
          "2022-03-19T22:00:00+00:00",
          "2022-03-19T22:30:00+00:00",
          "2022-03-19T23:00:00+00:00",
          "2022-03-19T23:30:00+00:00"
         ],
         "xaxis": "x",
         "y": [
          0,
          0,
          0,
          0,
          0,
          0,
          0,
          0,
          0,
          0,
          0,
          0,
          0,
          0,
          0,
          0,
          0,
          0,
          0,
          0,
          0,
          0,
          0,
          0
         ],
         "yaxis": "y"
        },
        {
         "hovertemplate": "Fuel Type=COAL<br>datetime=%{x}<br>value=%{y}<extra></extra>",
         "legendgroup": "COAL",
         "line": {
          "color": "#00cc96",
          "dash": "solid"
         },
         "marker": {
          "symbol": "circle"
         },
         "mode": "lines",
         "name": "COAL",
         "orientation": "v",
         "showlegend": true,
         "type": "scatter",
         "x": [
          "2022-03-19T12:00:00+00:00",
          "2022-03-19T12:30:00+00:00",
          "2022-03-19T13:00:00+00:00",
          "2022-03-19T13:30:00+00:00",
          "2022-03-19T14:00:00+00:00",
          "2022-03-19T14:30:00+00:00",
          "2022-03-19T15:00:00+00:00",
          "2022-03-19T15:30:00+00:00",
          "2022-03-19T16:00:00+00:00",
          "2022-03-19T16:30:00+00:00",
          "2022-03-19T17:00:00+00:00",
          "2022-03-19T17:30:00+00:00",
          "2022-03-19T18:00:00+00:00",
          "2022-03-19T18:30:00+00:00",
          "2022-03-19T19:00:00+00:00",
          "2022-03-19T19:30:00+00:00",
          "2022-03-19T20:00:00+00:00",
          "2022-03-19T20:30:00+00:00",
          "2022-03-19T21:00:00+00:00",
          "2022-03-19T21:30:00+00:00",
          "2022-03-19T22:00:00+00:00",
          "2022-03-19T22:30:00+00:00",
          "2022-03-19T23:00:00+00:00",
          "2022-03-19T23:30:00+00:00"
         ],
         "xaxis": "x",
         "y": [
          0,
          0,
          0,
          0,
          0,
          0,
          0,
          0,
          0,
          0,
          0,
          0,
          0,
          0,
          0,
          0,
          0,
          0,
          0,
          0,
          0,
          0,
          0,
          0
         ],
         "yaxis": "y"
        },
        {
         "hovertemplate": "Fuel Type=NUCLEAR<br>datetime=%{x}<br>value=%{y}<extra></extra>",
         "legendgroup": "NUCLEAR",
         "line": {
          "color": "#ab63fa",
          "dash": "solid"
         },
         "marker": {
          "symbol": "circle"
         },
         "mode": "lines",
         "name": "NUCLEAR",
         "orientation": "v",
         "showlegend": true,
         "type": "scatter",
         "x": [
          "2022-03-19T12:00:00+00:00",
          "2022-03-19T12:30:00+00:00",
          "2022-03-19T13:00:00+00:00",
          "2022-03-19T13:30:00+00:00",
          "2022-03-19T14:00:00+00:00",
          "2022-03-19T14:30:00+00:00",
          "2022-03-19T15:00:00+00:00",
          "2022-03-19T15:30:00+00:00",
          "2022-03-19T16:00:00+00:00",
          "2022-03-19T16:30:00+00:00",
          "2022-03-19T17:00:00+00:00",
          "2022-03-19T17:30:00+00:00",
          "2022-03-19T18:00:00+00:00",
          "2022-03-19T18:30:00+00:00",
          "2022-03-19T19:00:00+00:00",
          "2022-03-19T19:30:00+00:00",
          "2022-03-19T20:00:00+00:00",
          "2022-03-19T20:30:00+00:00",
          "2022-03-19T21:00:00+00:00",
          "2022-03-19T21:30:00+00:00",
          "2022-03-19T22:00:00+00:00",
          "2022-03-19T22:30:00+00:00",
          "2022-03-19T23:00:00+00:00",
          "2022-03-19T23:30:00+00:00"
         ],
         "xaxis": "x",
         "y": [
          5818,
          5821,
          5820,
          5817,
          5821,
          5818,
          5817,
          5817,
          5822,
          5823,
          5821,
          5823,
          5821,
          5815,
          5820,
          5818,
          5816,
          5818,
          5819,
          5824,
          5827,
          5821,
          5823,
          5821
         ],
         "yaxis": "y"
        },
        {
         "hovertemplate": "Fuel Type=WIND<br>datetime=%{x}<br>value=%{y}<extra></extra>",
         "legendgroup": "WIND",
         "line": {
          "color": "#FFA15A",
          "dash": "solid"
         },
         "marker": {
          "symbol": "circle"
         },
         "mode": "lines",
         "name": "WIND",
         "orientation": "v",
         "showlegend": true,
         "type": "scatter",
         "x": [
          "2022-03-19T12:00:00+00:00",
          "2022-03-19T12:30:00+00:00",
          "2022-03-19T13:00:00+00:00",
          "2022-03-19T13:30:00+00:00",
          "2022-03-19T14:00:00+00:00",
          "2022-03-19T14:30:00+00:00",
          "2022-03-19T15:00:00+00:00",
          "2022-03-19T15:30:00+00:00",
          "2022-03-19T16:00:00+00:00",
          "2022-03-19T16:30:00+00:00",
          "2022-03-19T17:00:00+00:00",
          "2022-03-19T17:30:00+00:00",
          "2022-03-19T18:00:00+00:00",
          "2022-03-19T18:30:00+00:00",
          "2022-03-19T19:00:00+00:00",
          "2022-03-19T19:30:00+00:00",
          "2022-03-19T20:00:00+00:00",
          "2022-03-19T20:30:00+00:00",
          "2022-03-19T21:00:00+00:00",
          "2022-03-19T21:30:00+00:00",
          "2022-03-19T22:00:00+00:00",
          "2022-03-19T22:30:00+00:00",
          "2022-03-19T23:00:00+00:00",
          "2022-03-19T23:30:00+00:00"
         ],
         "xaxis": "x",
         "y": [
          10456,
          10496,
          10647,
          10364,
          10576,
          10871,
          10641,
          11033,
          12028,
          12643,
          13275,
          14023,
          14349,
          14427,
          14556,
          14500,
          14526,
          14479,
          14420,
          14163,
          13892,
          13195,
          12605,
          12114
         ],
         "yaxis": "y"
        },
        {
         "hovertemplate": "Fuel Type=PS<br>datetime=%{x}<br>value=%{y}<extra></extra>",
         "legendgroup": "PS",
         "line": {
          "color": "#19d3f3",
          "dash": "solid"
         },
         "marker": {
          "symbol": "circle"
         },
         "mode": "lines",
         "name": "PS",
         "orientation": "v",
         "showlegend": true,
         "type": "scatter",
         "x": [
          "2022-03-19T12:00:00+00:00",
          "2022-03-19T12:30:00+00:00",
          "2022-03-19T13:00:00+00:00",
          "2022-03-19T13:30:00+00:00",
          "2022-03-19T14:00:00+00:00",
          "2022-03-19T14:30:00+00:00",
          "2022-03-19T15:00:00+00:00",
          "2022-03-19T15:30:00+00:00",
          "2022-03-19T16:00:00+00:00",
          "2022-03-19T16:30:00+00:00",
          "2022-03-19T17:00:00+00:00",
          "2022-03-19T17:30:00+00:00",
          "2022-03-19T18:00:00+00:00",
          "2022-03-19T18:30:00+00:00",
          "2022-03-19T19:00:00+00:00",
          "2022-03-19T19:30:00+00:00",
          "2022-03-19T20:00:00+00:00",
          "2022-03-19T20:30:00+00:00",
          "2022-03-19T21:00:00+00:00",
          "2022-03-19T21:30:00+00:00",
          "2022-03-19T22:00:00+00:00",
          "2022-03-19T22:30:00+00:00",
          "2022-03-19T23:00:00+00:00",
          "2022-03-19T23:30:00+00:00"
         ],
         "xaxis": "x",
         "y": [
          0,
          0,
          0,
          0,
          0,
          0,
          0,
          0,
          0,
          36,
          424,
          532,
          1108,
          1196,
          1122,
          1024,
          364,
          88,
          0,
          0,
          0,
          0,
          0,
          0
         ],
         "yaxis": "y"
        },
        {
         "hovertemplate": "Fuel Type=NPSHYD<br>datetime=%{x}<br>value=%{y}<extra></extra>",
         "legendgroup": "NPSHYD",
         "line": {
          "color": "#FF6692",
          "dash": "solid"
         },
         "marker": {
          "symbol": "circle"
         },
         "mode": "lines",
         "name": "NPSHYD",
         "orientation": "v",
         "showlegend": true,
         "type": "scatter",
         "x": [
          "2022-03-19T12:00:00+00:00",
          "2022-03-19T12:30:00+00:00",
          "2022-03-19T13:00:00+00:00",
          "2022-03-19T13:30:00+00:00",
          "2022-03-19T14:00:00+00:00",
          "2022-03-19T14:30:00+00:00",
          "2022-03-19T15:00:00+00:00",
          "2022-03-19T15:30:00+00:00",
          "2022-03-19T16:00:00+00:00",
          "2022-03-19T16:30:00+00:00",
          "2022-03-19T17:00:00+00:00",
          "2022-03-19T17:30:00+00:00",
          "2022-03-19T18:00:00+00:00",
          "2022-03-19T18:30:00+00:00",
          "2022-03-19T19:00:00+00:00",
          "2022-03-19T19:30:00+00:00",
          "2022-03-19T20:00:00+00:00",
          "2022-03-19T20:30:00+00:00",
          "2022-03-19T21:00:00+00:00",
          "2022-03-19T21:30:00+00:00",
          "2022-03-19T22:00:00+00:00",
          "2022-03-19T22:30:00+00:00",
          "2022-03-19T23:00:00+00:00",
          "2022-03-19T23:30:00+00:00"
         ],
         "xaxis": "x",
         "y": [
          231,
          185,
          184,
          185,
          184,
          184,
          200,
          204,
          203,
          292,
          346,
          387,
          385,
          385,
          386,
          381,
          293,
          278,
          278,
          278,
          258,
          254,
          254,
          251
         ],
         "yaxis": "y"
        },
        {
         "hovertemplate": "Fuel Type=OCGT<br>datetime=%{x}<br>value=%{y}<extra></extra>",
         "legendgroup": "OCGT",
         "line": {
          "color": "#B6E880",
          "dash": "solid"
         },
         "marker": {
          "symbol": "circle"
         },
         "mode": "lines",
         "name": "OCGT",
         "orientation": "v",
         "showlegend": true,
         "type": "scatter",
         "x": [
          "2022-03-19T12:00:00+00:00",
          "2022-03-19T12:30:00+00:00",
          "2022-03-19T13:00:00+00:00",
          "2022-03-19T13:30:00+00:00",
          "2022-03-19T14:00:00+00:00",
          "2022-03-19T14:30:00+00:00",
          "2022-03-19T15:00:00+00:00",
          "2022-03-19T15:30:00+00:00",
          "2022-03-19T16:00:00+00:00",
          "2022-03-19T16:30:00+00:00",
          "2022-03-19T17:00:00+00:00",
          "2022-03-19T17:30:00+00:00",
          "2022-03-19T18:00:00+00:00",
          "2022-03-19T18:30:00+00:00",
          "2022-03-19T19:00:00+00:00",
          "2022-03-19T19:30:00+00:00",
          "2022-03-19T20:00:00+00:00",
          "2022-03-19T20:30:00+00:00",
          "2022-03-19T21:00:00+00:00",
          "2022-03-19T21:30:00+00:00",
          "2022-03-19T22:00:00+00:00",
          "2022-03-19T22:30:00+00:00",
          "2022-03-19T23:00:00+00:00",
          "2022-03-19T23:30:00+00:00"
         ],
         "xaxis": "x",
         "y": [
          2,
          2,
          3,
          2,
          3,
          3,
          2,
          3,
          3,
          3,
          3,
          3,
          3,
          3,
          3,
          3,
          3,
          3,
          3,
          3,
          3,
          3,
          3,
          3
         ],
         "yaxis": "y"
        },
        {
         "hovertemplate": "Fuel Type=INTFR<br>datetime=%{x}<br>value=%{y}<extra></extra>",
         "legendgroup": "INTFR",
         "line": {
          "color": "#FF97FF",
          "dash": "solid"
         },
         "marker": {
          "symbol": "circle"
         },
         "mode": "lines",
         "name": "INTFR",
         "orientation": "v",
         "showlegend": true,
         "type": "scatter",
         "x": [
          "2022-03-19T12:00:00+00:00",
          "2022-03-19T12:30:00+00:00",
          "2022-03-19T13:00:00+00:00",
          "2022-03-19T13:30:00+00:00",
          "2022-03-19T14:00:00+00:00",
          "2022-03-19T14:30:00+00:00",
          "2022-03-19T15:00:00+00:00",
          "2022-03-19T15:30:00+00:00",
          "2022-03-19T16:00:00+00:00",
          "2022-03-19T16:30:00+00:00",
          "2022-03-19T17:00:00+00:00",
          "2022-03-19T17:30:00+00:00",
          "2022-03-19T18:00:00+00:00",
          "2022-03-19T18:30:00+00:00",
          "2022-03-19T19:00:00+00:00",
          "2022-03-19T19:30:00+00:00",
          "2022-03-19T20:00:00+00:00",
          "2022-03-19T20:30:00+00:00",
          "2022-03-19T21:00:00+00:00",
          "2022-03-19T21:30:00+00:00",
          "2022-03-19T22:00:00+00:00",
          "2022-03-19T22:30:00+00:00",
          "2022-03-19T23:00:00+00:00",
          "2022-03-19T23:30:00+00:00"
         ],
         "xaxis": "x",
         "y": [
          0,
          0,
          0,
          0,
          0,
          0,
          0,
          0,
          0,
          0,
          0,
          0,
          0,
          0,
          0,
          0,
          0,
          0,
          0,
          0,
          0,
          0,
          0,
          0
         ],
         "yaxis": "y"
        },
        {
         "hovertemplate": "Fuel Type=INTIRL<br>datetime=%{x}<br>value=%{y}<extra></extra>",
         "legendgroup": "INTIRL",
         "line": {
          "color": "#FECB52",
          "dash": "solid"
         },
         "marker": {
          "symbol": "circle"
         },
         "mode": "lines",
         "name": "INTIRL",
         "orientation": "v",
         "showlegend": true,
         "type": "scatter",
         "x": [
          "2022-03-19T12:00:00+00:00",
          "2022-03-19T12:30:00+00:00",
          "2022-03-19T13:00:00+00:00",
          "2022-03-19T13:30:00+00:00",
          "2022-03-19T14:00:00+00:00",
          "2022-03-19T14:30:00+00:00",
          "2022-03-19T15:00:00+00:00",
          "2022-03-19T15:30:00+00:00",
          "2022-03-19T16:00:00+00:00",
          "2022-03-19T16:30:00+00:00",
          "2022-03-19T17:00:00+00:00",
          "2022-03-19T17:30:00+00:00",
          "2022-03-19T18:00:00+00:00",
          "2022-03-19T18:30:00+00:00",
          "2022-03-19T19:00:00+00:00",
          "2022-03-19T19:30:00+00:00",
          "2022-03-19T20:00:00+00:00",
          "2022-03-19T20:30:00+00:00",
          "2022-03-19T21:00:00+00:00",
          "2022-03-19T21:30:00+00:00",
          "2022-03-19T22:00:00+00:00",
          "2022-03-19T22:30:00+00:00",
          "2022-03-19T23:00:00+00:00",
          "2022-03-19T23:30:00+00:00"
         ],
         "xaxis": "x",
         "y": [
          64,
          156,
          148,
          138,
          286,
          328,
          374,
          376,
          250,
          196,
          74,
          142,
          42,
          74,
          36,
          0,
          64,
          40,
          158,
          156,
          286,
          348,
          286,
          238
         ],
         "yaxis": "y"
        },
        {
         "hovertemplate": "Fuel Type=INTNED<br>datetime=%{x}<br>value=%{y}<extra></extra>",
         "legendgroup": "INTNED",
         "line": {
          "color": "#636efa",
          "dash": "solid"
         },
         "marker": {
          "symbol": "circle"
         },
         "mode": "lines",
         "name": "INTNED",
         "orientation": "v",
         "showlegend": true,
         "type": "scatter",
         "x": [
          "2022-03-19T12:00:00+00:00",
          "2022-03-19T12:30:00+00:00",
          "2022-03-19T13:00:00+00:00",
          "2022-03-19T13:30:00+00:00",
          "2022-03-19T14:00:00+00:00",
          "2022-03-19T14:30:00+00:00",
          "2022-03-19T15:00:00+00:00",
          "2022-03-19T15:30:00+00:00",
          "2022-03-19T16:00:00+00:00",
          "2022-03-19T16:30:00+00:00",
          "2022-03-19T17:00:00+00:00",
          "2022-03-19T17:30:00+00:00",
          "2022-03-19T18:00:00+00:00",
          "2022-03-19T18:30:00+00:00",
          "2022-03-19T19:00:00+00:00",
          "2022-03-19T19:30:00+00:00",
          "2022-03-19T20:00:00+00:00",
          "2022-03-19T20:30:00+00:00",
          "2022-03-19T21:00:00+00:00",
          "2022-03-19T21:30:00+00:00",
          "2022-03-19T22:00:00+00:00",
          "2022-03-19T22:30:00+00:00",
          "2022-03-19T23:00:00+00:00",
          "2022-03-19T23:30:00+00:00"
         ],
         "xaxis": "x",
         "y": [
          1050,
          1050,
          1048,
          1048,
          1048,
          1046,
          930,
          884,
          122,
          104,
          648,
          712,
          1008,
          1032,
          1050,
          1050,
          1000,
          1000,
          992,
          974,
          362,
          342,
          148,
          148
         ],
         "yaxis": "y"
        },
        {
         "hovertemplate": "Fuel Type=INTEW<br>datetime=%{x}<br>value=%{y}<extra></extra>",
         "legendgroup": "INTEW",
         "line": {
          "color": "#EF553B",
          "dash": "solid"
         },
         "marker": {
          "symbol": "circle"
         },
         "mode": "lines",
         "name": "INTEW",
         "orientation": "v",
         "showlegend": true,
         "type": "scatter",
         "x": [
          "2022-03-19T12:00:00+00:00",
          "2022-03-19T12:30:00+00:00",
          "2022-03-19T13:00:00+00:00",
          "2022-03-19T13:30:00+00:00",
          "2022-03-19T14:00:00+00:00",
          "2022-03-19T14:30:00+00:00",
          "2022-03-19T15:00:00+00:00",
          "2022-03-19T15:30:00+00:00",
          "2022-03-19T16:00:00+00:00",
          "2022-03-19T16:30:00+00:00",
          "2022-03-19T17:00:00+00:00",
          "2022-03-19T17:30:00+00:00",
          "2022-03-19T18:00:00+00:00",
          "2022-03-19T18:30:00+00:00",
          "2022-03-19T19:00:00+00:00",
          "2022-03-19T19:30:00+00:00",
          "2022-03-19T20:00:00+00:00",
          "2022-03-19T20:30:00+00:00",
          "2022-03-19T21:00:00+00:00",
          "2022-03-19T21:30:00+00:00",
          "2022-03-19T22:00:00+00:00",
          "2022-03-19T22:30:00+00:00",
          "2022-03-19T23:00:00+00:00",
          "2022-03-19T23:30:00+00:00"
         ],
         "xaxis": "x",
         "y": [
          0,
          0,
          0,
          0,
          0,
          0,
          0,
          0,
          0,
          0,
          0,
          0,
          0,
          0,
          0,
          0,
          0,
          0,
          0,
          0,
          2,
          0,
          0,
          0
         ],
         "yaxis": "y"
        },
        {
         "hovertemplate": "Fuel Type=INTELEC<br>datetime=%{x}<br>value=%{y}<extra></extra>",
         "legendgroup": "INTELEC",
         "line": {
          "color": "#00cc96",
          "dash": "solid"
         },
         "marker": {
          "symbol": "circle"
         },
         "mode": "lines",
         "name": "INTELEC",
         "orientation": "v",
         "showlegend": true,
         "type": "scatter",
         "x": [
          "2022-03-19T12:00:00+00:00",
          "2022-03-19T12:30:00+00:00",
          "2022-03-19T13:00:00+00:00",
          "2022-03-19T13:30:00+00:00",
          "2022-03-19T14:00:00+00:00",
          "2022-03-19T14:30:00+00:00",
          "2022-03-19T15:00:00+00:00",
          "2022-03-19T15:30:00+00:00",
          "2022-03-19T16:00:00+00:00",
          "2022-03-19T16:30:00+00:00",
          "2022-03-19T17:00:00+00:00",
          "2022-03-19T17:30:00+00:00",
          "2022-03-19T18:00:00+00:00",
          "2022-03-19T18:30:00+00:00",
          "2022-03-19T19:00:00+00:00",
          "2022-03-19T19:30:00+00:00",
          "2022-03-19T20:00:00+00:00",
          "2022-03-19T20:30:00+00:00",
          "2022-03-19T21:00:00+00:00",
          "2022-03-19T21:30:00+00:00",
          "2022-03-19T22:00:00+00:00",
          "2022-03-19T22:30:00+00:00",
          "2022-03-19T23:00:00+00:00",
          "2022-03-19T23:30:00+00:00"
         ],
         "xaxis": "x",
         "y": [
          0,
          0,
          0,
          0,
          0,
          0,
          0,
          0,
          0,
          0,
          0,
          0,
          0,
          0,
          0,
          0,
          0,
          0,
          0,
          0,
          0,
          0,
          0,
          0
         ],
         "yaxis": "y"
        },
        {
         "hovertemplate": "Fuel Type=INTIFA2<br>datetime=%{x}<br>value=%{y}<extra></extra>",
         "legendgroup": "INTIFA2",
         "line": {
          "color": "#ab63fa",
          "dash": "solid"
         },
         "marker": {
          "symbol": "circle"
         },
         "mode": "lines",
         "name": "INTIFA2",
         "orientation": "v",
         "showlegend": true,
         "type": "scatter",
         "x": [
          "2022-03-19T12:00:00+00:00",
          "2022-03-19T12:30:00+00:00",
          "2022-03-19T13:00:00+00:00",
          "2022-03-19T13:30:00+00:00",
          "2022-03-19T14:00:00+00:00",
          "2022-03-19T14:30:00+00:00",
          "2022-03-19T15:00:00+00:00",
          "2022-03-19T15:30:00+00:00",
          "2022-03-19T16:00:00+00:00",
          "2022-03-19T16:30:00+00:00",
          "2022-03-19T17:00:00+00:00",
          "2022-03-19T17:30:00+00:00",
          "2022-03-19T18:00:00+00:00",
          "2022-03-19T18:30:00+00:00",
          "2022-03-19T19:00:00+00:00",
          "2022-03-19T19:30:00+00:00",
          "2022-03-19T20:00:00+00:00",
          "2022-03-19T20:30:00+00:00",
          "2022-03-19T21:00:00+00:00",
          "2022-03-19T21:30:00+00:00",
          "2022-03-19T22:00:00+00:00",
          "2022-03-19T22:30:00+00:00",
          "2022-03-19T23:00:00+00:00",
          "2022-03-19T23:30:00+00:00"
         ],
         "xaxis": "x",
         "y": [
          0,
          0,
          0,
          0,
          0,
          0,
          0,
          0,
          0,
          0,
          0,
          0,
          0,
          0,
          0,
          0,
          0,
          0,
          0,
          0,
          0,
          0,
          0,
          0
         ],
         "yaxis": "y"
        },
        {
         "hovertemplate": "Fuel Type=INTNSL<br>datetime=%{x}<br>value=%{y}<extra></extra>",
         "legendgroup": "INTNSL",
         "line": {
          "color": "#FFA15A",
          "dash": "solid"
         },
         "marker": {
          "symbol": "circle"
         },
         "mode": "lines",
         "name": "INTNSL",
         "orientation": "v",
         "showlegend": true,
         "type": "scatter",
         "x": [
          "2022-03-19T12:00:00+00:00",
          "2022-03-19T12:30:00+00:00",
          "2022-03-19T13:00:00+00:00",
          "2022-03-19T13:30:00+00:00",
          "2022-03-19T14:00:00+00:00",
          "2022-03-19T14:30:00+00:00",
          "2022-03-19T15:00:00+00:00",
          "2022-03-19T15:30:00+00:00",
          "2022-03-19T16:00:00+00:00",
          "2022-03-19T16:30:00+00:00",
          "2022-03-19T17:00:00+00:00",
          "2022-03-19T17:30:00+00:00",
          "2022-03-19T18:00:00+00:00",
          "2022-03-19T18:30:00+00:00",
          "2022-03-19T19:00:00+00:00",
          "2022-03-19T19:30:00+00:00",
          "2022-03-19T20:00:00+00:00",
          "2022-03-19T20:30:00+00:00",
          "2022-03-19T21:00:00+00:00",
          "2022-03-19T21:30:00+00:00",
          "2022-03-19T22:00:00+00:00",
          "2022-03-19T22:30:00+00:00",
          "2022-03-19T23:00:00+00:00",
          "2022-03-19T23:30:00+00:00"
         ],
         "xaxis": "x",
         "y": [
          1028,
          1010,
          608,
          568,
          470,
          496,
          886,
          924,
          1078,
          1098,
          1098,
          1098,
          1098,
          1098,
          1098,
          1098,
          1098,
          1098,
          1098,
          1098,
          1098,
          1086,
          692,
          690
         ],
         "yaxis": "y"
        },
        {
         "hovertemplate": "Fuel Type=BIOMASS<br>datetime=%{x}<br>value=%{y}<extra></extra>",
         "legendgroup": "BIOMASS",
         "line": {
          "color": "#19d3f3",
          "dash": "solid"
         },
         "marker": {
          "symbol": "circle"
         },
         "mode": "lines",
         "name": "BIOMASS",
         "orientation": "v",
         "showlegend": true,
         "type": "scatter",
         "x": [
          "2022-03-19T12:00:00+00:00",
          "2022-03-19T12:30:00+00:00",
          "2022-03-19T13:00:00+00:00",
          "2022-03-19T13:30:00+00:00",
          "2022-03-19T14:00:00+00:00",
          "2022-03-19T14:30:00+00:00",
          "2022-03-19T15:00:00+00:00",
          "2022-03-19T15:30:00+00:00",
          "2022-03-19T16:00:00+00:00",
          "2022-03-19T16:30:00+00:00",
          "2022-03-19T17:00:00+00:00",
          "2022-03-19T17:30:00+00:00",
          "2022-03-19T18:00:00+00:00",
          "2022-03-19T18:30:00+00:00",
          "2022-03-19T19:00:00+00:00",
          "2022-03-19T19:30:00+00:00",
          "2022-03-19T20:00:00+00:00",
          "2022-03-19T20:30:00+00:00",
          "2022-03-19T21:00:00+00:00",
          "2022-03-19T21:30:00+00:00",
          "2022-03-19T22:00:00+00:00",
          "2022-03-19T22:30:00+00:00",
          "2022-03-19T23:00:00+00:00",
          "2022-03-19T23:30:00+00:00"
         ],
         "xaxis": "x",
         "y": [
          795,
          801,
          801,
          805,
          807,
          791,
          803,
          816,
          814,
          849,
          819,
          909,
          904,
          936,
          935,
          886,
          930,
          914,
          919,
          969,
          1100,
          1094,
          1071,
          1066
         ],
         "yaxis": "y"
        },
        {
         "hovertemplate": "Fuel Type=INTNEM<br>datetime=%{x}<br>value=%{y}<extra></extra>",
         "legendgroup": "INTNEM",
         "line": {
          "color": "#FF6692",
          "dash": "solid"
         },
         "marker": {
          "symbol": "circle"
         },
         "mode": "lines",
         "name": "INTNEM",
         "orientation": "v",
         "showlegend": true,
         "type": "scatter",
         "x": [
          "2022-03-19T12:00:00+00:00",
          "2022-03-19T12:30:00+00:00",
          "2022-03-19T13:00:00+00:00",
          "2022-03-19T13:30:00+00:00",
          "2022-03-19T14:00:00+00:00",
          "2022-03-19T14:30:00+00:00",
          "2022-03-19T15:00:00+00:00",
          "2022-03-19T15:30:00+00:00",
          "2022-03-19T16:00:00+00:00",
          "2022-03-19T16:30:00+00:00",
          "2022-03-19T17:00:00+00:00",
          "2022-03-19T17:30:00+00:00",
          "2022-03-19T18:00:00+00:00",
          "2022-03-19T18:30:00+00:00",
          "2022-03-19T19:00:00+00:00",
          "2022-03-19T19:30:00+00:00",
          "2022-03-19T20:00:00+00:00",
          "2022-03-19T20:30:00+00:00",
          "2022-03-19T21:00:00+00:00",
          "2022-03-19T21:30:00+00:00",
          "2022-03-19T22:00:00+00:00",
          "2022-03-19T22:30:00+00:00",
          "2022-03-19T23:00:00+00:00",
          "2022-03-19T23:30:00+00:00"
         ],
         "xaxis": "x",
         "y": [
          1000,
          1000,
          1000,
          1000,
          804,
          802,
          922,
          922,
          1016,
          1016,
          1020,
          1020,
          1020,
          1020,
          1020,
          1020,
          1018,
          1018,
          1000,
          1000,
          1000,
          1000,
          930,
          930
         ],
         "yaxis": "y"
        }
       ],
       "layout": {
        "legend": {
         "title": {
          "text": "Fuel Type"
         },
         "tracegroupgap": 0
        },
        "margin": {
         "t": 60
        },
        "template": {
         "data": {
          "bar": [
           {
            "error_x": {
             "color": "#2a3f5f"
            },
            "error_y": {
             "color": "#2a3f5f"
            },
            "marker": {
             "line": {
              "color": "#E5ECF6",
              "width": 0.5
             },
             "pattern": {
              "fillmode": "overlay",
              "size": 10,
              "solidity": 0.2
             }
            },
            "type": "bar"
           }
          ],
          "barpolar": [
           {
            "marker": {
             "line": {
              "color": "#E5ECF6",
              "width": 0.5
             },
             "pattern": {
              "fillmode": "overlay",
              "size": 10,
              "solidity": 0.2
             }
            },
            "type": "barpolar"
           }
          ],
          "carpet": [
           {
            "aaxis": {
             "endlinecolor": "#2a3f5f",
             "gridcolor": "white",
             "linecolor": "white",
             "minorgridcolor": "white",
             "startlinecolor": "#2a3f5f"
            },
            "baxis": {
             "endlinecolor": "#2a3f5f",
             "gridcolor": "white",
             "linecolor": "white",
             "minorgridcolor": "white",
             "startlinecolor": "#2a3f5f"
            },
            "type": "carpet"
           }
          ],
          "choropleth": [
           {
            "colorbar": {
             "outlinewidth": 0,
             "ticks": ""
            },
            "type": "choropleth"
           }
          ],
          "contour": [
           {
            "colorbar": {
             "outlinewidth": 0,
             "ticks": ""
            },
            "colorscale": [
             [
              0,
              "#0d0887"
             ],
             [
              0.1111111111111111,
              "#46039f"
             ],
             [
              0.2222222222222222,
              "#7201a8"
             ],
             [
              0.3333333333333333,
              "#9c179e"
             ],
             [
              0.4444444444444444,
              "#bd3786"
             ],
             [
              0.5555555555555556,
              "#d8576b"
             ],
             [
              0.6666666666666666,
              "#ed7953"
             ],
             [
              0.7777777777777778,
              "#fb9f3a"
             ],
             [
              0.8888888888888888,
              "#fdca26"
             ],
             [
              1,
              "#f0f921"
             ]
            ],
            "type": "contour"
           }
          ],
          "contourcarpet": [
           {
            "colorbar": {
             "outlinewidth": 0,
             "ticks": ""
            },
            "type": "contourcarpet"
           }
          ],
          "heatmap": [
           {
            "colorbar": {
             "outlinewidth": 0,
             "ticks": ""
            },
            "colorscale": [
             [
              0,
              "#0d0887"
             ],
             [
              0.1111111111111111,
              "#46039f"
             ],
             [
              0.2222222222222222,
              "#7201a8"
             ],
             [
              0.3333333333333333,
              "#9c179e"
             ],
             [
              0.4444444444444444,
              "#bd3786"
             ],
             [
              0.5555555555555556,
              "#d8576b"
             ],
             [
              0.6666666666666666,
              "#ed7953"
             ],
             [
              0.7777777777777778,
              "#fb9f3a"
             ],
             [
              0.8888888888888888,
              "#fdca26"
             ],
             [
              1,
              "#f0f921"
             ]
            ],
            "type": "heatmap"
           }
          ],
          "heatmapgl": [
           {
            "colorbar": {
             "outlinewidth": 0,
             "ticks": ""
            },
            "colorscale": [
             [
              0,
              "#0d0887"
             ],
             [
              0.1111111111111111,
              "#46039f"
             ],
             [
              0.2222222222222222,
              "#7201a8"
             ],
             [
              0.3333333333333333,
              "#9c179e"
             ],
             [
              0.4444444444444444,
              "#bd3786"
             ],
             [
              0.5555555555555556,
              "#d8576b"
             ],
             [
              0.6666666666666666,
              "#ed7953"
             ],
             [
              0.7777777777777778,
              "#fb9f3a"
             ],
             [
              0.8888888888888888,
              "#fdca26"
             ],
             [
              1,
              "#f0f921"
             ]
            ],
            "type": "heatmapgl"
           }
          ],
          "histogram": [
           {
            "marker": {
             "pattern": {
              "fillmode": "overlay",
              "size": 10,
              "solidity": 0.2
             }
            },
            "type": "histogram"
           }
          ],
          "histogram2d": [
           {
            "colorbar": {
             "outlinewidth": 0,
             "ticks": ""
            },
            "colorscale": [
             [
              0,
              "#0d0887"
             ],
             [
              0.1111111111111111,
              "#46039f"
             ],
             [
              0.2222222222222222,
              "#7201a8"
             ],
             [
              0.3333333333333333,
              "#9c179e"
             ],
             [
              0.4444444444444444,
              "#bd3786"
             ],
             [
              0.5555555555555556,
              "#d8576b"
             ],
             [
              0.6666666666666666,
              "#ed7953"
             ],
             [
              0.7777777777777778,
              "#fb9f3a"
             ],
             [
              0.8888888888888888,
              "#fdca26"
             ],
             [
              1,
              "#f0f921"
             ]
            ],
            "type": "histogram2d"
           }
          ],
          "histogram2dcontour": [
           {
            "colorbar": {
             "outlinewidth": 0,
             "ticks": ""
            },
            "colorscale": [
             [
              0,
              "#0d0887"
             ],
             [
              0.1111111111111111,
              "#46039f"
             ],
             [
              0.2222222222222222,
              "#7201a8"
             ],
             [
              0.3333333333333333,
              "#9c179e"
             ],
             [
              0.4444444444444444,
              "#bd3786"
             ],
             [
              0.5555555555555556,
              "#d8576b"
             ],
             [
              0.6666666666666666,
              "#ed7953"
             ],
             [
              0.7777777777777778,
              "#fb9f3a"
             ],
             [
              0.8888888888888888,
              "#fdca26"
             ],
             [
              1,
              "#f0f921"
             ]
            ],
            "type": "histogram2dcontour"
           }
          ],
          "mesh3d": [
           {
            "colorbar": {
             "outlinewidth": 0,
             "ticks": ""
            },
            "type": "mesh3d"
           }
          ],
          "parcoords": [
           {
            "line": {
             "colorbar": {
              "outlinewidth": 0,
              "ticks": ""
             }
            },
            "type": "parcoords"
           }
          ],
          "pie": [
           {
            "automargin": true,
            "type": "pie"
           }
          ],
          "scatter": [
           {
            "fillpattern": {
             "fillmode": "overlay",
             "size": 10,
             "solidity": 0.2
            },
            "type": "scatter"
           }
          ],
          "scatter3d": [
           {
            "line": {
             "colorbar": {
              "outlinewidth": 0,
              "ticks": ""
             }
            },
            "marker": {
             "colorbar": {
              "outlinewidth": 0,
              "ticks": ""
             }
            },
            "type": "scatter3d"
           }
          ],
          "scattercarpet": [
           {
            "marker": {
             "colorbar": {
              "outlinewidth": 0,
              "ticks": ""
             }
            },
            "type": "scattercarpet"
           }
          ],
          "scattergeo": [
           {
            "marker": {
             "colorbar": {
              "outlinewidth": 0,
              "ticks": ""
             }
            },
            "type": "scattergeo"
           }
          ],
          "scattergl": [
           {
            "marker": {
             "colorbar": {
              "outlinewidth": 0,
              "ticks": ""
             }
            },
            "type": "scattergl"
           }
          ],
          "scattermapbox": [
           {
            "marker": {
             "colorbar": {
              "outlinewidth": 0,
              "ticks": ""
             }
            },
            "type": "scattermapbox"
           }
          ],
          "scatterpolar": [
           {
            "marker": {
             "colorbar": {
              "outlinewidth": 0,
              "ticks": ""
             }
            },
            "type": "scatterpolar"
           }
          ],
          "scatterpolargl": [
           {
            "marker": {
             "colorbar": {
              "outlinewidth": 0,
              "ticks": ""
             }
            },
            "type": "scatterpolargl"
           }
          ],
          "scatterternary": [
           {
            "marker": {
             "colorbar": {
              "outlinewidth": 0,
              "ticks": ""
             }
            },
            "type": "scatterternary"
           }
          ],
          "surface": [
           {
            "colorbar": {
             "outlinewidth": 0,
             "ticks": ""
            },
            "colorscale": [
             [
              0,
              "#0d0887"
             ],
             [
              0.1111111111111111,
              "#46039f"
             ],
             [
              0.2222222222222222,
              "#7201a8"
             ],
             [
              0.3333333333333333,
              "#9c179e"
             ],
             [
              0.4444444444444444,
              "#bd3786"
             ],
             [
              0.5555555555555556,
              "#d8576b"
             ],
             [
              0.6666666666666666,
              "#ed7953"
             ],
             [
              0.7777777777777778,
              "#fb9f3a"
             ],
             [
              0.8888888888888888,
              "#fdca26"
             ],
             [
              1,
              "#f0f921"
             ]
            ],
            "type": "surface"
           }
          ],
          "table": [
           {
            "cells": {
             "fill": {
              "color": "#EBF0F8"
             },
             "line": {
              "color": "white"
             }
            },
            "header": {
             "fill": {
              "color": "#C8D4E3"
             },
             "line": {
              "color": "white"
             }
            },
            "type": "table"
           }
          ]
         },
         "layout": {
          "annotationdefaults": {
           "arrowcolor": "#2a3f5f",
           "arrowhead": 0,
           "arrowwidth": 1
          },
          "autotypenumbers": "strict",
          "coloraxis": {
           "colorbar": {
            "outlinewidth": 0,
            "ticks": ""
           }
          },
          "colorscale": {
           "diverging": [
            [
             0,
             "#8e0152"
            ],
            [
             0.1,
             "#c51b7d"
            ],
            [
             0.2,
             "#de77ae"
            ],
            [
             0.3,
             "#f1b6da"
            ],
            [
             0.4,
             "#fde0ef"
            ],
            [
             0.5,
             "#f7f7f7"
            ],
            [
             0.6,
             "#e6f5d0"
            ],
            [
             0.7,
             "#b8e186"
            ],
            [
             0.8,
             "#7fbc41"
            ],
            [
             0.9,
             "#4d9221"
            ],
            [
             1,
             "#276419"
            ]
           ],
           "sequential": [
            [
             0,
             "#0d0887"
            ],
            [
             0.1111111111111111,
             "#46039f"
            ],
            [
             0.2222222222222222,
             "#7201a8"
            ],
            [
             0.3333333333333333,
             "#9c179e"
            ],
            [
             0.4444444444444444,
             "#bd3786"
            ],
            [
             0.5555555555555556,
             "#d8576b"
            ],
            [
             0.6666666666666666,
             "#ed7953"
            ],
            [
             0.7777777777777778,
             "#fb9f3a"
            ],
            [
             0.8888888888888888,
             "#fdca26"
            ],
            [
             1,
             "#f0f921"
            ]
           ],
           "sequentialminus": [
            [
             0,
             "#0d0887"
            ],
            [
             0.1111111111111111,
             "#46039f"
            ],
            [
             0.2222222222222222,
             "#7201a8"
            ],
            [
             0.3333333333333333,
             "#9c179e"
            ],
            [
             0.4444444444444444,
             "#bd3786"
            ],
            [
             0.5555555555555556,
             "#d8576b"
            ],
            [
             0.6666666666666666,
             "#ed7953"
            ],
            [
             0.7777777777777778,
             "#fb9f3a"
            ],
            [
             0.8888888888888888,
             "#fdca26"
            ],
            [
             1,
             "#f0f921"
            ]
           ]
          },
          "colorway": [
           "#636efa",
           "#EF553B",
           "#00cc96",
           "#ab63fa",
           "#FFA15A",
           "#19d3f3",
           "#FF6692",
           "#B6E880",
           "#FF97FF",
           "#FECB52"
          ],
          "font": {
           "color": "#2a3f5f"
          },
          "geo": {
           "bgcolor": "white",
           "lakecolor": "white",
           "landcolor": "#E5ECF6",
           "showlakes": true,
           "showland": true,
           "subunitcolor": "white"
          },
          "hoverlabel": {
           "align": "left"
          },
          "hovermode": "closest",
          "mapbox": {
           "style": "light"
          },
          "paper_bgcolor": "white",
          "plot_bgcolor": "#E5ECF6",
          "polar": {
           "angularaxis": {
            "gridcolor": "white",
            "linecolor": "white",
            "ticks": ""
           },
           "bgcolor": "#E5ECF6",
           "radialaxis": {
            "gridcolor": "white",
            "linecolor": "white",
            "ticks": ""
           }
          },
          "scene": {
           "xaxis": {
            "backgroundcolor": "#E5ECF6",
            "gridcolor": "white",
            "gridwidth": 2,
            "linecolor": "white",
            "showbackground": true,
            "ticks": "",
            "zerolinecolor": "white"
           },
           "yaxis": {
            "backgroundcolor": "#E5ECF6",
            "gridcolor": "white",
            "gridwidth": 2,
            "linecolor": "white",
            "showbackground": true,
            "ticks": "",
            "zerolinecolor": "white"
           },
           "zaxis": {
            "backgroundcolor": "#E5ECF6",
            "gridcolor": "white",
            "gridwidth": 2,
            "linecolor": "white",
            "showbackground": true,
            "ticks": "",
            "zerolinecolor": "white"
           }
          },
          "shapedefaults": {
           "line": {
            "color": "#2a3f5f"
           }
          },
          "ternary": {
           "aaxis": {
            "gridcolor": "white",
            "linecolor": "white",
            "ticks": ""
           },
           "baxis": {
            "gridcolor": "white",
            "linecolor": "white",
            "ticks": ""
           },
           "bgcolor": "#E5ECF6",
           "caxis": {
            "gridcolor": "white",
            "linecolor": "white",
            "ticks": ""
           }
          },
          "title": {
           "x": 0.05
          },
          "xaxis": {
           "automargin": true,
           "gridcolor": "white",
           "linecolor": "white",
           "ticks": "",
           "title": {
            "standoff": 15
           },
           "zerolinecolor": "white",
           "zerolinewidth": 2
          },
          "yaxis": {
           "automargin": true,
           "gridcolor": "white",
           "linecolor": "white",
           "ticks": "",
           "title": {
            "standoff": 15
           },
           "zerolinecolor": "white",
           "zerolinewidth": 2
          }
         }
        },
        "xaxis": {
         "anchor": "y",
         "domain": [
          0,
          1
         ],
         "title": {
          "text": "datetime"
         }
        },
        "yaxis": {
         "anchor": "x",
         "domain": [
          0,
          1
         ],
         "title": {
          "text": "value"
         }
        }
       }
      }
     },
     "metadata": {},
     "output_type": "display_data"
    }
   ],
   "source": [
    "df_ = total_generation[\n",
    "    (total_generation[\"#Settlement Date\"] == \"2022-03-19\")\n",
    "    & (total_generation[\"Settlement Period\"] > 24)\n",
    "]\n",
    "df_ = pd.melt(\n",
    "    df_,\n",
    "    id_vars=\"datetime\",\n",
    "    var_name=\"Fuel Type\",\n",
    "    value_vars=\"CCGT\tOIL\tCOAL\tNUCLEAR\tWIND\tPS\tNPSHYD\tOCGT\t\tINTFR\tINTIRL\tINTNED\tINTEW\tINTELEC\tINTIFA2\tINTNSL\tBIOMASS\tINTNEM\".split(),\n",
    ")\n",
    "\n",
    "px.line(df_, x=\"datetime\", y=\"value\", color=\"Fuel Type\")"
   ]
  },
  {
   "cell_type": "markdown",
   "metadata": {},
   "source": [
    "There appears to be about 11GW of wind, yet only about 4GW in the BM? \n",
    "\n",
    "This could be because when we create the combined DF we're not including units who don't have any BOAL."
   ]
  },
  {
   "cell_type": "code",
   "execution_count": 150,
   "metadata": {},
   "outputs": [],
   "source": [
    "total_fpn_linearized = linearize_physical_data(df_fpn)"
   ]
  },
  {
   "cell_type": "code",
   "execution_count": 156,
   "metadata": {},
   "outputs": [
    {
     "data": {
      "text/html": [
       "<div>\n",
       "<style scoped>\n",
       "    .dataframe tbody tr th:only-of-type {\n",
       "        vertical-align: middle;\n",
       "    }\n",
       "\n",
       "    .dataframe tbody tr th {\n",
       "        vertical-align: top;\n",
       "    }\n",
       "\n",
       "    .dataframe thead th {\n",
       "        text-align: right;\n",
       "    }\n",
       "</style>\n",
       "<table border=\"1\" class=\"dataframe\">\n",
       "  <thead>\n",
       "    <tr style=\"text-align: right;\">\n",
       "      <th></th>\n",
       "      <th>Time</th>\n",
       "      <th>Settlement Period</th>\n",
       "      <th>Level</th>\n",
       "    </tr>\n",
       "  </thead>\n",
       "  <tbody>\n",
       "    <tr>\n",
       "      <th>0</th>\n",
       "      <td>2022-03-19 13:00:00</td>\n",
       "      <td>38394</td>\n",
       "      <td>986.0</td>\n",
       "    </tr>\n",
       "    <tr>\n",
       "      <th>1</th>\n",
       "      <td>2022-03-19 13:01:00</td>\n",
       "      <td>864</td>\n",
       "      <td>968.0</td>\n",
       "    </tr>\n",
       "    <tr>\n",
       "      <th>2</th>\n",
       "      <td>2022-03-19 13:02:00</td>\n",
       "      <td>324</td>\n",
       "      <td>-324.0</td>\n",
       "    </tr>\n",
       "    <tr>\n",
       "      <th>3</th>\n",
       "      <td>2022-03-19 13:03:00</td>\n",
       "      <td>108</td>\n",
       "      <td>0.0</td>\n",
       "    </tr>\n",
       "    <tr>\n",
       "      <th>4</th>\n",
       "      <td>2022-03-19 13:04:00</td>\n",
       "      <td>216</td>\n",
       "      <td>2.0</td>\n",
       "    </tr>\n",
       "    <tr>\n",
       "      <th>5</th>\n",
       "      <td>2022-03-19 13:05:00</td>\n",
       "      <td>162</td>\n",
       "      <td>0.0</td>\n",
       "    </tr>\n",
       "    <tr>\n",
       "      <th>6</th>\n",
       "      <td>2022-03-19 13:06:00</td>\n",
       "      <td>162</td>\n",
       "      <td>0.0</td>\n",
       "    </tr>\n",
       "    <tr>\n",
       "      <th>7</th>\n",
       "      <td>2022-03-19 13:07:00</td>\n",
       "      <td>108</td>\n",
       "      <td>0.0</td>\n",
       "    </tr>\n",
       "    <tr>\n",
       "      <th>8</th>\n",
       "      <td>2022-03-19 13:08:00</td>\n",
       "      <td>108</td>\n",
       "      <td>0.0</td>\n",
       "    </tr>\n",
       "    <tr>\n",
       "      <th>9</th>\n",
       "      <td>2022-03-19 13:09:00</td>\n",
       "      <td>108</td>\n",
       "      <td>0.0</td>\n",
       "    </tr>\n",
       "    <tr>\n",
       "      <th>10</th>\n",
       "      <td>2022-03-19 13:10:00</td>\n",
       "      <td>216</td>\n",
       "      <td>-8.0</td>\n",
       "    </tr>\n",
       "    <tr>\n",
       "      <th>11</th>\n",
       "      <td>2022-03-19 13:11:00</td>\n",
       "      <td>162</td>\n",
       "      <td>-6.0</td>\n",
       "    </tr>\n",
       "    <tr>\n",
       "      <th>12</th>\n",
       "      <td>2022-03-19 13:12:00</td>\n",
       "      <td>108</td>\n",
       "      <td>0.0</td>\n",
       "    </tr>\n",
       "    <tr>\n",
       "      <th>13</th>\n",
       "      <td>2022-03-19 13:13:00</td>\n",
       "      <td>108</td>\n",
       "      <td>0.0</td>\n",
       "    </tr>\n",
       "    <tr>\n",
       "      <th>14</th>\n",
       "      <td>2022-03-19 13:14:00</td>\n",
       "      <td>108</td>\n",
       "      <td>0.0</td>\n",
       "    </tr>\n",
       "    <tr>\n",
       "      <th>15</th>\n",
       "      <td>2022-03-19 13:15:00</td>\n",
       "      <td>648</td>\n",
       "      <td>1289.0</td>\n",
       "    </tr>\n",
       "    <tr>\n",
       "      <th>16</th>\n",
       "      <td>2022-03-19 13:16:00</td>\n",
       "      <td>108</td>\n",
       "      <td>0.0</td>\n",
       "    </tr>\n",
       "    <tr>\n",
       "      <th>17</th>\n",
       "      <td>2022-03-19 13:17:00</td>\n",
       "      <td>108</td>\n",
       "      <td>0.0</td>\n",
       "    </tr>\n",
       "    <tr>\n",
       "      <th>18</th>\n",
       "      <td>2022-03-19 13:18:00</td>\n",
       "      <td>108</td>\n",
       "      <td>0.0</td>\n",
       "    </tr>\n",
       "    <tr>\n",
       "      <th>19</th>\n",
       "      <td>2022-03-19 13:19:00</td>\n",
       "      <td>108</td>\n",
       "      <td>0.0</td>\n",
       "    </tr>\n",
       "    <tr>\n",
       "      <th>20</th>\n",
       "      <td>2022-03-19 13:20:00</td>\n",
       "      <td>216</td>\n",
       "      <td>-6.0</td>\n",
       "    </tr>\n",
       "    <tr>\n",
       "      <th>21</th>\n",
       "      <td>2022-03-19 13:21:00</td>\n",
       "      <td>162</td>\n",
       "      <td>-4.0</td>\n",
       "    </tr>\n",
       "    <tr>\n",
       "      <th>22</th>\n",
       "      <td>2022-03-19 13:22:00</td>\n",
       "      <td>108</td>\n",
       "      <td>0.0</td>\n",
       "    </tr>\n",
       "    <tr>\n",
       "      <th>23</th>\n",
       "      <td>2022-03-19 13:23:00</td>\n",
       "      <td>108</td>\n",
       "      <td>0.0</td>\n",
       "    </tr>\n",
       "    <tr>\n",
       "      <th>24</th>\n",
       "      <td>2022-03-19 13:24:00</td>\n",
       "      <td>108</td>\n",
       "      <td>0.0</td>\n",
       "    </tr>\n",
       "    <tr>\n",
       "      <th>25</th>\n",
       "      <td>2022-03-19 13:25:00</td>\n",
       "      <td>162</td>\n",
       "      <td>0.0</td>\n",
       "    </tr>\n",
       "    <tr>\n",
       "      <th>26</th>\n",
       "      <td>2022-03-19 13:26:00</td>\n",
       "      <td>108</td>\n",
       "      <td>0.0</td>\n",
       "    </tr>\n",
       "    <tr>\n",
       "      <th>27</th>\n",
       "      <td>2022-03-19 13:27:00</td>\n",
       "      <td>108</td>\n",
       "      <td>0.0</td>\n",
       "    </tr>\n",
       "    <tr>\n",
       "      <th>28</th>\n",
       "      <td>2022-03-19 13:28:00</td>\n",
       "      <td>216</td>\n",
       "      <td>-10.0</td>\n",
       "    </tr>\n",
       "    <tr>\n",
       "      <th>29</th>\n",
       "      <td>2022-03-19 13:29:00</td>\n",
       "      <td>1188</td>\n",
       "      <td>3060.0</td>\n",
       "    </tr>\n",
       "    <tr>\n",
       "      <th>30</th>\n",
       "      <td>2022-03-19 13:30:00</td>\n",
       "      <td>38394</td>\n",
       "      <td>946.0</td>\n",
       "    </tr>\n",
       "  </tbody>\n",
       "</table>\n",
       "</div>"
      ],
      "text/plain": [
       "                  Time  Settlement Period   Level\n",
       "0  2022-03-19 13:00:00              38394   986.0\n",
       "1  2022-03-19 13:01:00                864   968.0\n",
       "2  2022-03-19 13:02:00                324  -324.0\n",
       "3  2022-03-19 13:03:00                108     0.0\n",
       "4  2022-03-19 13:04:00                216     2.0\n",
       "5  2022-03-19 13:05:00                162     0.0\n",
       "6  2022-03-19 13:06:00                162     0.0\n",
       "7  2022-03-19 13:07:00                108     0.0\n",
       "8  2022-03-19 13:08:00                108     0.0\n",
       "9  2022-03-19 13:09:00                108     0.0\n",
       "10 2022-03-19 13:10:00                216    -8.0\n",
       "11 2022-03-19 13:11:00                162    -6.0\n",
       "12 2022-03-19 13:12:00                108     0.0\n",
       "13 2022-03-19 13:13:00                108     0.0\n",
       "14 2022-03-19 13:14:00                108     0.0\n",
       "15 2022-03-19 13:15:00                648  1289.0\n",
       "16 2022-03-19 13:16:00                108     0.0\n",
       "17 2022-03-19 13:17:00                108     0.0\n",
       "18 2022-03-19 13:18:00                108     0.0\n",
       "19 2022-03-19 13:19:00                108     0.0\n",
       "20 2022-03-19 13:20:00                216    -6.0\n",
       "21 2022-03-19 13:21:00                162    -4.0\n",
       "22 2022-03-19 13:22:00                108     0.0\n",
       "23 2022-03-19 13:23:00                108     0.0\n",
       "24 2022-03-19 13:24:00                108     0.0\n",
       "25 2022-03-19 13:25:00                162     0.0\n",
       "26 2022-03-19 13:26:00                108     0.0\n",
       "27 2022-03-19 13:27:00                108     0.0\n",
       "28 2022-03-19 13:28:00                216   -10.0\n",
       "29 2022-03-19 13:29:00               1188  3060.0\n",
       "30 2022-03-19 13:30:00              38394   946.0"
      ]
     },
     "execution_count": 156,
     "metadata": {},
     "output_type": "execute_result"
    }
   ],
   "source": [
    "total_fpn_linearized = total_fpn_linearized.groupby([\"Time\"]).sum().reset_index()\n",
    "total_fpn_linearized"
   ]
  },
  {
   "cell_type": "markdown",
   "metadata": {},
   "source": [
    "This doesn't look as I expect, must be doing something wrong"
   ]
  },
  {
   "cell_type": "code",
   "execution_count": 157,
   "metadata": {},
   "outputs": [
    {
     "data": {
      "application/vnd.plotly.v1+json": {
       "config": {
        "plotlyServerURL": "https://plot.ly"
       },
       "data": [
        {
         "hovertemplate": "Time=%{x}<br>Level=%{y}<extra></extra>",
         "legendgroup": "",
         "line": {
          "color": "#636efa",
          "dash": "solid"
         },
         "marker": {
          "symbol": "circle"
         },
         "mode": "lines",
         "name": "",
         "orientation": "v",
         "showlegend": false,
         "type": "scatter",
         "x": [
          "2022-03-19T13:00:00",
          "2022-03-19T13:01:00",
          "2022-03-19T13:02:00",
          "2022-03-19T13:03:00",
          "2022-03-19T13:04:00",
          "2022-03-19T13:05:00",
          "2022-03-19T13:06:00",
          "2022-03-19T13:07:00",
          "2022-03-19T13:08:00",
          "2022-03-19T13:09:00",
          "2022-03-19T13:10:00",
          "2022-03-19T13:11:00",
          "2022-03-19T13:12:00",
          "2022-03-19T13:13:00",
          "2022-03-19T13:14:00",
          "2022-03-19T13:15:00",
          "2022-03-19T13:16:00",
          "2022-03-19T13:17:00",
          "2022-03-19T13:18:00",
          "2022-03-19T13:19:00",
          "2022-03-19T13:20:00",
          "2022-03-19T13:21:00",
          "2022-03-19T13:22:00",
          "2022-03-19T13:23:00",
          "2022-03-19T13:24:00",
          "2022-03-19T13:25:00",
          "2022-03-19T13:26:00",
          "2022-03-19T13:27:00",
          "2022-03-19T13:28:00",
          "2022-03-19T13:29:00",
          "2022-03-19T13:30:00"
         ],
         "xaxis": "x",
         "y": [
          986,
          968,
          -324,
          0,
          2,
          0,
          0,
          0,
          0,
          0,
          -8,
          -6,
          0,
          0,
          0,
          1289,
          0,
          0,
          0,
          0,
          -6,
          -4,
          0,
          0,
          0,
          0,
          0,
          0,
          -10,
          3060,
          946
         ],
         "yaxis": "y"
        }
       ],
       "layout": {
        "legend": {
         "tracegroupgap": 0
        },
        "margin": {
         "t": 60
        },
        "template": {
         "data": {
          "bar": [
           {
            "error_x": {
             "color": "#2a3f5f"
            },
            "error_y": {
             "color": "#2a3f5f"
            },
            "marker": {
             "line": {
              "color": "#E5ECF6",
              "width": 0.5
             },
             "pattern": {
              "fillmode": "overlay",
              "size": 10,
              "solidity": 0.2
             }
            },
            "type": "bar"
           }
          ],
          "barpolar": [
           {
            "marker": {
             "line": {
              "color": "#E5ECF6",
              "width": 0.5
             },
             "pattern": {
              "fillmode": "overlay",
              "size": 10,
              "solidity": 0.2
             }
            },
            "type": "barpolar"
           }
          ],
          "carpet": [
           {
            "aaxis": {
             "endlinecolor": "#2a3f5f",
             "gridcolor": "white",
             "linecolor": "white",
             "minorgridcolor": "white",
             "startlinecolor": "#2a3f5f"
            },
            "baxis": {
             "endlinecolor": "#2a3f5f",
             "gridcolor": "white",
             "linecolor": "white",
             "minorgridcolor": "white",
             "startlinecolor": "#2a3f5f"
            },
            "type": "carpet"
           }
          ],
          "choropleth": [
           {
            "colorbar": {
             "outlinewidth": 0,
             "ticks": ""
            },
            "type": "choropleth"
           }
          ],
          "contour": [
           {
            "colorbar": {
             "outlinewidth": 0,
             "ticks": ""
            },
            "colorscale": [
             [
              0,
              "#0d0887"
             ],
             [
              0.1111111111111111,
              "#46039f"
             ],
             [
              0.2222222222222222,
              "#7201a8"
             ],
             [
              0.3333333333333333,
              "#9c179e"
             ],
             [
              0.4444444444444444,
              "#bd3786"
             ],
             [
              0.5555555555555556,
              "#d8576b"
             ],
             [
              0.6666666666666666,
              "#ed7953"
             ],
             [
              0.7777777777777778,
              "#fb9f3a"
             ],
             [
              0.8888888888888888,
              "#fdca26"
             ],
             [
              1,
              "#f0f921"
             ]
            ],
            "type": "contour"
           }
          ],
          "contourcarpet": [
           {
            "colorbar": {
             "outlinewidth": 0,
             "ticks": ""
            },
            "type": "contourcarpet"
           }
          ],
          "heatmap": [
           {
            "colorbar": {
             "outlinewidth": 0,
             "ticks": ""
            },
            "colorscale": [
             [
              0,
              "#0d0887"
             ],
             [
              0.1111111111111111,
              "#46039f"
             ],
             [
              0.2222222222222222,
              "#7201a8"
             ],
             [
              0.3333333333333333,
              "#9c179e"
             ],
             [
              0.4444444444444444,
              "#bd3786"
             ],
             [
              0.5555555555555556,
              "#d8576b"
             ],
             [
              0.6666666666666666,
              "#ed7953"
             ],
             [
              0.7777777777777778,
              "#fb9f3a"
             ],
             [
              0.8888888888888888,
              "#fdca26"
             ],
             [
              1,
              "#f0f921"
             ]
            ],
            "type": "heatmap"
           }
          ],
          "heatmapgl": [
           {
            "colorbar": {
             "outlinewidth": 0,
             "ticks": ""
            },
            "colorscale": [
             [
              0,
              "#0d0887"
             ],
             [
              0.1111111111111111,
              "#46039f"
             ],
             [
              0.2222222222222222,
              "#7201a8"
             ],
             [
              0.3333333333333333,
              "#9c179e"
             ],
             [
              0.4444444444444444,
              "#bd3786"
             ],
             [
              0.5555555555555556,
              "#d8576b"
             ],
             [
              0.6666666666666666,
              "#ed7953"
             ],
             [
              0.7777777777777778,
              "#fb9f3a"
             ],
             [
              0.8888888888888888,
              "#fdca26"
             ],
             [
              1,
              "#f0f921"
             ]
            ],
            "type": "heatmapgl"
           }
          ],
          "histogram": [
           {
            "marker": {
             "pattern": {
              "fillmode": "overlay",
              "size": 10,
              "solidity": 0.2
             }
            },
            "type": "histogram"
           }
          ],
          "histogram2d": [
           {
            "colorbar": {
             "outlinewidth": 0,
             "ticks": ""
            },
            "colorscale": [
             [
              0,
              "#0d0887"
             ],
             [
              0.1111111111111111,
              "#46039f"
             ],
             [
              0.2222222222222222,
              "#7201a8"
             ],
             [
              0.3333333333333333,
              "#9c179e"
             ],
             [
              0.4444444444444444,
              "#bd3786"
             ],
             [
              0.5555555555555556,
              "#d8576b"
             ],
             [
              0.6666666666666666,
              "#ed7953"
             ],
             [
              0.7777777777777778,
              "#fb9f3a"
             ],
             [
              0.8888888888888888,
              "#fdca26"
             ],
             [
              1,
              "#f0f921"
             ]
            ],
            "type": "histogram2d"
           }
          ],
          "histogram2dcontour": [
           {
            "colorbar": {
             "outlinewidth": 0,
             "ticks": ""
            },
            "colorscale": [
             [
              0,
              "#0d0887"
             ],
             [
              0.1111111111111111,
              "#46039f"
             ],
             [
              0.2222222222222222,
              "#7201a8"
             ],
             [
              0.3333333333333333,
              "#9c179e"
             ],
             [
              0.4444444444444444,
              "#bd3786"
             ],
             [
              0.5555555555555556,
              "#d8576b"
             ],
             [
              0.6666666666666666,
              "#ed7953"
             ],
             [
              0.7777777777777778,
              "#fb9f3a"
             ],
             [
              0.8888888888888888,
              "#fdca26"
             ],
             [
              1,
              "#f0f921"
             ]
            ],
            "type": "histogram2dcontour"
           }
          ],
          "mesh3d": [
           {
            "colorbar": {
             "outlinewidth": 0,
             "ticks": ""
            },
            "type": "mesh3d"
           }
          ],
          "parcoords": [
           {
            "line": {
             "colorbar": {
              "outlinewidth": 0,
              "ticks": ""
             }
            },
            "type": "parcoords"
           }
          ],
          "pie": [
           {
            "automargin": true,
            "type": "pie"
           }
          ],
          "scatter": [
           {
            "fillpattern": {
             "fillmode": "overlay",
             "size": 10,
             "solidity": 0.2
            },
            "type": "scatter"
           }
          ],
          "scatter3d": [
           {
            "line": {
             "colorbar": {
              "outlinewidth": 0,
              "ticks": ""
             }
            },
            "marker": {
             "colorbar": {
              "outlinewidth": 0,
              "ticks": ""
             }
            },
            "type": "scatter3d"
           }
          ],
          "scattercarpet": [
           {
            "marker": {
             "colorbar": {
              "outlinewidth": 0,
              "ticks": ""
             }
            },
            "type": "scattercarpet"
           }
          ],
          "scattergeo": [
           {
            "marker": {
             "colorbar": {
              "outlinewidth": 0,
              "ticks": ""
             }
            },
            "type": "scattergeo"
           }
          ],
          "scattergl": [
           {
            "marker": {
             "colorbar": {
              "outlinewidth": 0,
              "ticks": ""
             }
            },
            "type": "scattergl"
           }
          ],
          "scattermapbox": [
           {
            "marker": {
             "colorbar": {
              "outlinewidth": 0,
              "ticks": ""
             }
            },
            "type": "scattermapbox"
           }
          ],
          "scatterpolar": [
           {
            "marker": {
             "colorbar": {
              "outlinewidth": 0,
              "ticks": ""
             }
            },
            "type": "scatterpolar"
           }
          ],
          "scatterpolargl": [
           {
            "marker": {
             "colorbar": {
              "outlinewidth": 0,
              "ticks": ""
             }
            },
            "type": "scatterpolargl"
           }
          ],
          "scatterternary": [
           {
            "marker": {
             "colorbar": {
              "outlinewidth": 0,
              "ticks": ""
             }
            },
            "type": "scatterternary"
           }
          ],
          "surface": [
           {
            "colorbar": {
             "outlinewidth": 0,
             "ticks": ""
            },
            "colorscale": [
             [
              0,
              "#0d0887"
             ],
             [
              0.1111111111111111,
              "#46039f"
             ],
             [
              0.2222222222222222,
              "#7201a8"
             ],
             [
              0.3333333333333333,
              "#9c179e"
             ],
             [
              0.4444444444444444,
              "#bd3786"
             ],
             [
              0.5555555555555556,
              "#d8576b"
             ],
             [
              0.6666666666666666,
              "#ed7953"
             ],
             [
              0.7777777777777778,
              "#fb9f3a"
             ],
             [
              0.8888888888888888,
              "#fdca26"
             ],
             [
              1,
              "#f0f921"
             ]
            ],
            "type": "surface"
           }
          ],
          "table": [
           {
            "cells": {
             "fill": {
              "color": "#EBF0F8"
             },
             "line": {
              "color": "white"
             }
            },
            "header": {
             "fill": {
              "color": "#C8D4E3"
             },
             "line": {
              "color": "white"
             }
            },
            "type": "table"
           }
          ]
         },
         "layout": {
          "annotationdefaults": {
           "arrowcolor": "#2a3f5f",
           "arrowhead": 0,
           "arrowwidth": 1
          },
          "autotypenumbers": "strict",
          "coloraxis": {
           "colorbar": {
            "outlinewidth": 0,
            "ticks": ""
           }
          },
          "colorscale": {
           "diverging": [
            [
             0,
             "#8e0152"
            ],
            [
             0.1,
             "#c51b7d"
            ],
            [
             0.2,
             "#de77ae"
            ],
            [
             0.3,
             "#f1b6da"
            ],
            [
             0.4,
             "#fde0ef"
            ],
            [
             0.5,
             "#f7f7f7"
            ],
            [
             0.6,
             "#e6f5d0"
            ],
            [
             0.7,
             "#b8e186"
            ],
            [
             0.8,
             "#7fbc41"
            ],
            [
             0.9,
             "#4d9221"
            ],
            [
             1,
             "#276419"
            ]
           ],
           "sequential": [
            [
             0,
             "#0d0887"
            ],
            [
             0.1111111111111111,
             "#46039f"
            ],
            [
             0.2222222222222222,
             "#7201a8"
            ],
            [
             0.3333333333333333,
             "#9c179e"
            ],
            [
             0.4444444444444444,
             "#bd3786"
            ],
            [
             0.5555555555555556,
             "#d8576b"
            ],
            [
             0.6666666666666666,
             "#ed7953"
            ],
            [
             0.7777777777777778,
             "#fb9f3a"
            ],
            [
             0.8888888888888888,
             "#fdca26"
            ],
            [
             1,
             "#f0f921"
            ]
           ],
           "sequentialminus": [
            [
             0,
             "#0d0887"
            ],
            [
             0.1111111111111111,
             "#46039f"
            ],
            [
             0.2222222222222222,
             "#7201a8"
            ],
            [
             0.3333333333333333,
             "#9c179e"
            ],
            [
             0.4444444444444444,
             "#bd3786"
            ],
            [
             0.5555555555555556,
             "#d8576b"
            ],
            [
             0.6666666666666666,
             "#ed7953"
            ],
            [
             0.7777777777777778,
             "#fb9f3a"
            ],
            [
             0.8888888888888888,
             "#fdca26"
            ],
            [
             1,
             "#f0f921"
            ]
           ]
          },
          "colorway": [
           "#636efa",
           "#EF553B",
           "#00cc96",
           "#ab63fa",
           "#FFA15A",
           "#19d3f3",
           "#FF6692",
           "#B6E880",
           "#FF97FF",
           "#FECB52"
          ],
          "font": {
           "color": "#2a3f5f"
          },
          "geo": {
           "bgcolor": "white",
           "lakecolor": "white",
           "landcolor": "#E5ECF6",
           "showlakes": true,
           "showland": true,
           "subunitcolor": "white"
          },
          "hoverlabel": {
           "align": "left"
          },
          "hovermode": "closest",
          "mapbox": {
           "style": "light"
          },
          "paper_bgcolor": "white",
          "plot_bgcolor": "#E5ECF6",
          "polar": {
           "angularaxis": {
            "gridcolor": "white",
            "linecolor": "white",
            "ticks": ""
           },
           "bgcolor": "#E5ECF6",
           "radialaxis": {
            "gridcolor": "white",
            "linecolor": "white",
            "ticks": ""
           }
          },
          "scene": {
           "xaxis": {
            "backgroundcolor": "#E5ECF6",
            "gridcolor": "white",
            "gridwidth": 2,
            "linecolor": "white",
            "showbackground": true,
            "ticks": "",
            "zerolinecolor": "white"
           },
           "yaxis": {
            "backgroundcolor": "#E5ECF6",
            "gridcolor": "white",
            "gridwidth": 2,
            "linecolor": "white",
            "showbackground": true,
            "ticks": "",
            "zerolinecolor": "white"
           },
           "zaxis": {
            "backgroundcolor": "#E5ECF6",
            "gridcolor": "white",
            "gridwidth": 2,
            "linecolor": "white",
            "showbackground": true,
            "ticks": "",
            "zerolinecolor": "white"
           }
          },
          "shapedefaults": {
           "line": {
            "color": "#2a3f5f"
           }
          },
          "ternary": {
           "aaxis": {
            "gridcolor": "white",
            "linecolor": "white",
            "ticks": ""
           },
           "baxis": {
            "gridcolor": "white",
            "linecolor": "white",
            "ticks": ""
           },
           "bgcolor": "#E5ECF6",
           "caxis": {
            "gridcolor": "white",
            "linecolor": "white",
            "ticks": ""
           }
          },
          "title": {
           "x": 0.05
          },
          "xaxis": {
           "automargin": true,
           "gridcolor": "white",
           "linecolor": "white",
           "ticks": "",
           "title": {
            "standoff": 15
           },
           "zerolinecolor": "white",
           "zerolinewidth": 2
          },
          "yaxis": {
           "automargin": true,
           "gridcolor": "white",
           "linecolor": "white",
           "ticks": "",
           "title": {
            "standoff": 15
           },
           "zerolinecolor": "white",
           "zerolinewidth": 2
          }
         }
        },
        "xaxis": {
         "anchor": "y",
         "domain": [
          0,
          1
         ],
         "title": {
          "text": "Time"
         }
        },
        "yaxis": {
         "anchor": "x",
         "domain": [
          0,
          1
         ],
         "title": {
          "text": "Level"
         }
        }
       }
      }
     },
     "metadata": {},
     "output_type": "display_data"
    }
   ],
   "source": [
    "px.line(total_fpn_linearized, x=\"Time\", y=\"Level\")"
   ]
  },
  {
   "cell_type": "code",
   "execution_count": 271,
   "metadata": {},
   "outputs": [],
   "source": [
    "all_data = []\n",
    "\n",
    "for unit, data in (\n",
    "    df_fpn.sort_values(by=\"To Level\", ascending=False).reset_index().groupby(\"index\")\n",
    "):\n",
    "\n",
    "    linearized = (\n",
    "        linearize_physical_data(data)\n",
    "        .set_index(\"Time\")\n",
    "        .resample(\"T\")\n",
    "        .mean()\n",
    "        .interpolate()\n",
    "    )\n",
    "    linearized[\"Unit\"], linearized[\"Fuel Type\"] = unit, data[\"Fuel Type\"].iloc[0]\n",
    "    all_data.append(linearized)\n",
    "\n",
    "\n",
    "df_combined = pd.concat(all_data)"
   ]
  },
  {
   "cell_type": "code",
   "execution_count": 274,
   "metadata": {},
   "outputs": [],
   "source": [
    "df_combined.head(5)\n",
    "df_combined[\"Fuel Type\"].fillna(\"Battery\", inplace=True)"
   ]
  },
  {
   "cell_type": "code",
   "execution_count": 278,
   "metadata": {},
   "outputs": [
    {
     "data": {
      "application/vnd.plotly.v1+json": {
       "config": {
        "plotlyServerURL": "https://plot.ly"
       },
       "data": [
        {
         "fillpattern": {
          "shape": ""
         },
         "hovertemplate": "Fuel Type=BIOMASS<br>Time=%{x}<br>Level=%{y}<extra></extra>",
         "legendgroup": "BIOMASS",
         "line": {
          "color": "#636efa"
         },
         "marker": {
          "symbol": "circle"
         },
         "mode": "lines",
         "name": "BIOMASS",
         "orientation": "v",
         "showlegend": true,
         "stackgroup": "1",
         "type": "scatter",
         "x": [
          "2022-03-19T13:00:00",
          "2022-03-19T13:01:00",
          "2022-03-19T13:02:00",
          "2022-03-19T13:03:00",
          "2022-03-19T13:04:00",
          "2022-03-19T13:05:00",
          "2022-03-19T13:06:00",
          "2022-03-19T13:07:00",
          "2022-03-19T13:08:00",
          "2022-03-19T13:09:00",
          "2022-03-19T13:10:00",
          "2022-03-19T13:11:00",
          "2022-03-19T13:12:00",
          "2022-03-19T13:13:00",
          "2022-03-19T13:14:00",
          "2022-03-19T13:15:00",
          "2022-03-19T13:16:00",
          "2022-03-19T13:17:00",
          "2022-03-19T13:18:00",
          "2022-03-19T13:19:00",
          "2022-03-19T13:20:00",
          "2022-03-19T13:21:00",
          "2022-03-19T13:22:00",
          "2022-03-19T13:23:00",
          "2022-03-19T13:24:00",
          "2022-03-19T13:25:00",
          "2022-03-19T13:26:00",
          "2022-03-19T13:27:00",
          "2022-03-19T13:28:00",
          "2022-03-19T13:29:00",
          "2022-03-19T13:30:00"
         ],
         "xaxis": "x",
         "y": [
          734,
          734,
          734,
          734,
          734,
          734,
          734,
          734,
          734,
          734,
          734,
          734,
          734,
          734,
          734,
          734,
          734,
          734,
          734,
          734,
          734,
          734,
          734,
          734,
          734,
          734,
          734,
          734,
          734,
          734,
          734
         ],
         "yaxis": "y"
        },
        {
         "fillpattern": {
          "shape": ""
         },
         "hovertemplate": "Fuel Type=Battery<br>Time=%{x}<br>Level=%{y}<extra></extra>",
         "legendgroup": "Battery",
         "line": {
          "color": "#EF553B"
         },
         "marker": {
          "symbol": "circle"
         },
         "mode": "lines",
         "name": "Battery",
         "orientation": "v",
         "showlegend": true,
         "stackgroup": "1",
         "type": "scatter",
         "x": [
          "2022-03-19T13:00:00",
          "2022-03-19T13:01:00",
          "2022-03-19T13:02:00",
          "2022-03-19T13:03:00",
          "2022-03-19T13:04:00",
          "2022-03-19T13:05:00",
          "2022-03-19T13:06:00",
          "2022-03-19T13:07:00",
          "2022-03-19T13:08:00",
          "2022-03-19T13:09:00",
          "2022-03-19T13:10:00",
          "2022-03-19T13:11:00",
          "2022-03-19T13:12:00",
          "2022-03-19T13:13:00",
          "2022-03-19T13:14:00",
          "2022-03-19T13:15:00",
          "2022-03-19T13:16:00",
          "2022-03-19T13:17:00",
          "2022-03-19T13:18:00",
          "2022-03-19T13:19:00",
          "2022-03-19T13:20:00",
          "2022-03-19T13:21:00",
          "2022-03-19T13:22:00",
          "2022-03-19T13:23:00",
          "2022-03-19T13:24:00",
          "2022-03-19T13:25:00",
          "2022-03-19T13:26:00",
          "2022-03-19T13:27:00",
          "2022-03-19T13:28:00",
          "2022-03-19T13:29:00",
          "2022-03-19T13:30:00"
         ],
         "xaxis": "x",
         "y": [
          4742,
          4742.366666666667,
          4742.733333333334,
          4743.099999999999,
          4745.466666666666,
          4745.833333333333,
          4746.2,
          4746.566666666667,
          4746.933333333333,
          4747.3,
          4747.666666666667,
          4748.033333333334,
          4748.400000000001,
          4748.766666666666,
          4749.133333333333,
          4749.5,
          4749.866666666667,
          4750.233333333334,
          4750.599999999999,
          4750.966666666666,
          4751.333333333333,
          4751.7,
          4752.066666666667,
          4752.433333333333,
          4752.8,
          4753.166666666667,
          4753.533333333334,
          4753.900000000001,
          4754.266666666666,
          4754.633333333333,
          4755
         ],
         "yaxis": "y"
        },
        {
         "fillpattern": {
          "shape": ""
         },
         "hovertemplate": "Fuel Type=CCGT<br>Time=%{x}<br>Level=%{y}<extra></extra>",
         "legendgroup": "CCGT",
         "line": {
          "color": "#00cc96"
         },
         "marker": {
          "symbol": "circle"
         },
         "mode": "lines",
         "name": "CCGT",
         "orientation": "v",
         "showlegend": true,
         "stackgroup": "1",
         "type": "scatter",
         "x": [
          "2022-03-19T13:00:00",
          "2022-03-19T13:01:00",
          "2022-03-19T13:02:00",
          "2022-03-19T13:03:00",
          "2022-03-19T13:04:00",
          "2022-03-19T13:05:00",
          "2022-03-19T13:06:00",
          "2022-03-19T13:07:00",
          "2022-03-19T13:08:00",
          "2022-03-19T13:09:00",
          "2022-03-19T13:10:00",
          "2022-03-19T13:11:00",
          "2022-03-19T13:12:00",
          "2022-03-19T13:13:00",
          "2022-03-19T13:14:00",
          "2022-03-19T13:15:00",
          "2022-03-19T13:16:00",
          "2022-03-19T13:17:00",
          "2022-03-19T13:18:00",
          "2022-03-19T13:19:00",
          "2022-03-19T13:20:00",
          "2022-03-19T13:21:00",
          "2022-03-19T13:22:00",
          "2022-03-19T13:23:00",
          "2022-03-19T13:24:00",
          "2022-03-19T13:25:00",
          "2022-03-19T13:26:00",
          "2022-03-19T13:27:00",
          "2022-03-19T13:28:00",
          "2022-03-19T13:29:00",
          "2022-03-19T13:30:00"
         ],
         "xaxis": "x",
         "y": [
          967,
          967,
          967,
          967,
          967,
          967,
          967,
          967,
          967,
          967,
          967,
          967,
          967,
          967,
          967,
          967,
          967,
          967,
          967,
          967,
          967,
          967,
          967,
          967,
          967,
          967,
          967,
          967,
          967,
          967,
          967
         ],
         "yaxis": "y"
        },
        {
         "fillpattern": {
          "shape": ""
         },
         "hovertemplate": "Fuel Type=NPSHYD<br>Time=%{x}<br>Level=%{y}<extra></extra>",
         "legendgroup": "NPSHYD",
         "line": {
          "color": "#ab63fa"
         },
         "marker": {
          "symbol": "circle"
         },
         "mode": "lines",
         "name": "NPSHYD",
         "orientation": "v",
         "showlegend": true,
         "stackgroup": "1",
         "type": "scatter",
         "x": [
          "2022-03-19T13:00:00",
          "2022-03-19T13:01:00",
          "2022-03-19T13:02:00",
          "2022-03-19T13:03:00",
          "2022-03-19T13:04:00",
          "2022-03-19T13:05:00",
          "2022-03-19T13:06:00",
          "2022-03-19T13:07:00",
          "2022-03-19T13:08:00",
          "2022-03-19T13:09:00",
          "2022-03-19T13:10:00",
          "2022-03-19T13:11:00",
          "2022-03-19T13:12:00",
          "2022-03-19T13:13:00",
          "2022-03-19T13:14:00",
          "2022-03-19T13:15:00",
          "2022-03-19T13:16:00",
          "2022-03-19T13:17:00",
          "2022-03-19T13:18:00",
          "2022-03-19T13:19:00",
          "2022-03-19T13:20:00",
          "2022-03-19T13:21:00",
          "2022-03-19T13:22:00",
          "2022-03-19T13:23:00",
          "2022-03-19T13:24:00",
          "2022-03-19T13:25:00",
          "2022-03-19T13:26:00",
          "2022-03-19T13:27:00",
          "2022-03-19T13:28:00",
          "2022-03-19T13:29:00",
          "2022-03-19T13:30:00"
         ],
         "xaxis": "x",
         "y": [
          136,
          136,
          136,
          136,
          136,
          136,
          136,
          136,
          136,
          136,
          136,
          136,
          136,
          136,
          136,
          136,
          136,
          136,
          136,
          136,
          136,
          136,
          136,
          136,
          136,
          136,
          136,
          136,
          136,
          136,
          136
         ],
         "yaxis": "y"
        },
        {
         "fillpattern": {
          "shape": ""
         },
         "hovertemplate": "Fuel Type=NUCLEAR<br>Time=%{x}<br>Level=%{y}<extra></extra>",
         "legendgroup": "NUCLEAR",
         "line": {
          "color": "#FFA15A"
         },
         "marker": {
          "symbol": "circle"
         },
         "mode": "lines",
         "name": "NUCLEAR",
         "orientation": "v",
         "showlegend": true,
         "stackgroup": "1",
         "type": "scatter",
         "x": [
          "2022-03-19T13:00:00",
          "2022-03-19T13:01:00",
          "2022-03-19T13:02:00",
          "2022-03-19T13:03:00",
          "2022-03-19T13:04:00",
          "2022-03-19T13:05:00",
          "2022-03-19T13:06:00",
          "2022-03-19T13:07:00",
          "2022-03-19T13:08:00",
          "2022-03-19T13:09:00",
          "2022-03-19T13:10:00",
          "2022-03-19T13:11:00",
          "2022-03-19T13:12:00",
          "2022-03-19T13:13:00",
          "2022-03-19T13:14:00",
          "2022-03-19T13:15:00",
          "2022-03-19T13:16:00",
          "2022-03-19T13:17:00",
          "2022-03-19T13:18:00",
          "2022-03-19T13:19:00",
          "2022-03-19T13:20:00",
          "2022-03-19T13:21:00",
          "2022-03-19T13:22:00",
          "2022-03-19T13:23:00",
          "2022-03-19T13:24:00",
          "2022-03-19T13:25:00",
          "2022-03-19T13:26:00",
          "2022-03-19T13:27:00",
          "2022-03-19T13:28:00",
          "2022-03-19T13:29:00",
          "2022-03-19T13:30:00"
         ],
         "xaxis": "x",
         "y": [
          5812,
          5812,
          5812,
          5812,
          5812,
          5812,
          5812,
          5812,
          5812,
          5812,
          5812,
          5812,
          5812,
          5812,
          5812,
          5812,
          5812,
          5812,
          5812,
          5812,
          5812,
          5812,
          5812,
          5812,
          5812,
          5812,
          5812,
          5812,
          5812,
          5812,
          5812
         ],
         "yaxis": "y"
        },
        {
         "fillpattern": {
          "shape": ""
         },
         "hovertemplate": "Fuel Type=WIND<br>Time=%{x}<br>Level=%{y}<extra></extra>",
         "legendgroup": "WIND",
         "line": {
          "color": "#19d3f3"
         },
         "marker": {
          "symbol": "circle"
         },
         "mode": "lines",
         "name": "WIND",
         "orientation": "v",
         "showlegend": true,
         "stackgroup": "1",
         "type": "scatter",
         "x": [
          "2022-03-19T13:00:00",
          "2022-03-19T13:01:00",
          "2022-03-19T13:02:00",
          "2022-03-19T13:03:00",
          "2022-03-19T13:04:00",
          "2022-03-19T13:05:00",
          "2022-03-19T13:06:00",
          "2022-03-19T13:07:00",
          "2022-03-19T13:08:00",
          "2022-03-19T13:09:00",
          "2022-03-19T13:10:00",
          "2022-03-19T13:11:00",
          "2022-03-19T13:12:00",
          "2022-03-19T13:13:00",
          "2022-03-19T13:14:00",
          "2022-03-19T13:15:00",
          "2022-03-19T13:16:00",
          "2022-03-19T13:17:00",
          "2022-03-19T13:18:00",
          "2022-03-19T13:19:00",
          "2022-03-19T13:20:00",
          "2022-03-19T13:21:00",
          "2022-03-19T13:22:00",
          "2022-03-19T13:23:00",
          "2022-03-19T13:24:00",
          "2022-03-19T13:25:00",
          "2022-03-19T13:26:00",
          "2022-03-19T13:27:00",
          "2022-03-19T13:28:00",
          "2022-03-19T13:29:00",
          "2022-03-19T13:30:00"
         ],
         "xaxis": "x",
         "y": [
          11562,
          11589.199999999999,
          11588.400000000001,
          11587.600000000002,
          11586.800000000001,
          11586,
          11585.200000000004,
          11584.400000000001,
          11583.599999999999,
          11582.799999999996,
          11582,
          11581.199999999999,
          11580.399999999998,
          11579.599999999999,
          11578.800000000001,
          11578,
          11577.199999999999,
          11576.400000000001,
          11575.600000000002,
          11574.800000000001,
          11574,
          11573.200000000004,
          11572.400000000001,
          11571.599999999999,
          11570.799999999996,
          11570,
          11569.199999999999,
          11568.399999999998,
          11567.599999999999,
          11566.800000000001,
          11582
         ],
         "yaxis": "y"
        },
        {
         "fillpattern": {
          "shape": ""
         },
         "hovertemplate": "Fuel Type=Wind<br>Time=%{x}<br>Level=%{y}<extra></extra>",
         "legendgroup": "Wind",
         "line": {
          "color": "#FF6692"
         },
         "marker": {
          "symbol": "circle"
         },
         "mode": "lines",
         "name": "Wind",
         "orientation": "v",
         "showlegend": true,
         "stackgroup": "1",
         "type": "scatter",
         "x": [
          "2022-03-19T13:00:00",
          "2022-03-19T13:01:00",
          "2022-03-19T13:02:00",
          "2022-03-19T13:03:00",
          "2022-03-19T13:04:00",
          "2022-03-19T13:05:00",
          "2022-03-19T13:06:00",
          "2022-03-19T13:07:00",
          "2022-03-19T13:08:00",
          "2022-03-19T13:09:00",
          "2022-03-19T13:10:00",
          "2022-03-19T13:11:00",
          "2022-03-19T13:12:00",
          "2022-03-19T13:13:00",
          "2022-03-19T13:14:00",
          "2022-03-19T13:15:00",
          "2022-03-19T13:16:00",
          "2022-03-19T13:17:00",
          "2022-03-19T13:18:00",
          "2022-03-19T13:19:00",
          "2022-03-19T13:20:00",
          "2022-03-19T13:21:00",
          "2022-03-19T13:22:00",
          "2022-03-19T13:23:00",
          "2022-03-19T13:24:00",
          "2022-03-19T13:25:00",
          "2022-03-19T13:26:00",
          "2022-03-19T13:27:00",
          "2022-03-19T13:28:00",
          "2022-03-19T13:29:00",
          "2022-03-19T13:30:00"
         ],
         "xaxis": "x",
         "y": [
          37,
          37.1,
          37.2,
          37.3,
          37.4,
          37.5,
          37.6,
          37.7,
          37.8,
          37.9,
          38,
          38.1,
          38.2,
          38.3,
          38.4,
          38.5,
          38.6,
          38.7,
          38.8,
          38.9,
          39,
          39.1,
          39.2,
          39.3,
          39.4,
          39.5,
          39.6,
          39.7,
          39.8,
          39.9,
          40
         ],
         "yaxis": "y"
        }
       ],
       "layout": {
        "legend": {
         "title": {
          "text": "Fuel Type"
         },
         "tracegroupgap": 0
        },
        "margin": {
         "t": 60
        },
        "template": {
         "data": {
          "bar": [
           {
            "error_x": {
             "color": "#2a3f5f"
            },
            "error_y": {
             "color": "#2a3f5f"
            },
            "marker": {
             "line": {
              "color": "#E5ECF6",
              "width": 0.5
             },
             "pattern": {
              "fillmode": "overlay",
              "size": 10,
              "solidity": 0.2
             }
            },
            "type": "bar"
           }
          ],
          "barpolar": [
           {
            "marker": {
             "line": {
              "color": "#E5ECF6",
              "width": 0.5
             },
             "pattern": {
              "fillmode": "overlay",
              "size": 10,
              "solidity": 0.2
             }
            },
            "type": "barpolar"
           }
          ],
          "carpet": [
           {
            "aaxis": {
             "endlinecolor": "#2a3f5f",
             "gridcolor": "white",
             "linecolor": "white",
             "minorgridcolor": "white",
             "startlinecolor": "#2a3f5f"
            },
            "baxis": {
             "endlinecolor": "#2a3f5f",
             "gridcolor": "white",
             "linecolor": "white",
             "minorgridcolor": "white",
             "startlinecolor": "#2a3f5f"
            },
            "type": "carpet"
           }
          ],
          "choropleth": [
           {
            "colorbar": {
             "outlinewidth": 0,
             "ticks": ""
            },
            "type": "choropleth"
           }
          ],
          "contour": [
           {
            "colorbar": {
             "outlinewidth": 0,
             "ticks": ""
            },
            "colorscale": [
             [
              0,
              "#0d0887"
             ],
             [
              0.1111111111111111,
              "#46039f"
             ],
             [
              0.2222222222222222,
              "#7201a8"
             ],
             [
              0.3333333333333333,
              "#9c179e"
             ],
             [
              0.4444444444444444,
              "#bd3786"
             ],
             [
              0.5555555555555556,
              "#d8576b"
             ],
             [
              0.6666666666666666,
              "#ed7953"
             ],
             [
              0.7777777777777778,
              "#fb9f3a"
             ],
             [
              0.8888888888888888,
              "#fdca26"
             ],
             [
              1,
              "#f0f921"
             ]
            ],
            "type": "contour"
           }
          ],
          "contourcarpet": [
           {
            "colorbar": {
             "outlinewidth": 0,
             "ticks": ""
            },
            "type": "contourcarpet"
           }
          ],
          "heatmap": [
           {
            "colorbar": {
             "outlinewidth": 0,
             "ticks": ""
            },
            "colorscale": [
             [
              0,
              "#0d0887"
             ],
             [
              0.1111111111111111,
              "#46039f"
             ],
             [
              0.2222222222222222,
              "#7201a8"
             ],
             [
              0.3333333333333333,
              "#9c179e"
             ],
             [
              0.4444444444444444,
              "#bd3786"
             ],
             [
              0.5555555555555556,
              "#d8576b"
             ],
             [
              0.6666666666666666,
              "#ed7953"
             ],
             [
              0.7777777777777778,
              "#fb9f3a"
             ],
             [
              0.8888888888888888,
              "#fdca26"
             ],
             [
              1,
              "#f0f921"
             ]
            ],
            "type": "heatmap"
           }
          ],
          "heatmapgl": [
           {
            "colorbar": {
             "outlinewidth": 0,
             "ticks": ""
            },
            "colorscale": [
             [
              0,
              "#0d0887"
             ],
             [
              0.1111111111111111,
              "#46039f"
             ],
             [
              0.2222222222222222,
              "#7201a8"
             ],
             [
              0.3333333333333333,
              "#9c179e"
             ],
             [
              0.4444444444444444,
              "#bd3786"
             ],
             [
              0.5555555555555556,
              "#d8576b"
             ],
             [
              0.6666666666666666,
              "#ed7953"
             ],
             [
              0.7777777777777778,
              "#fb9f3a"
             ],
             [
              0.8888888888888888,
              "#fdca26"
             ],
             [
              1,
              "#f0f921"
             ]
            ],
            "type": "heatmapgl"
           }
          ],
          "histogram": [
           {
            "marker": {
             "pattern": {
              "fillmode": "overlay",
              "size": 10,
              "solidity": 0.2
             }
            },
            "type": "histogram"
           }
          ],
          "histogram2d": [
           {
            "colorbar": {
             "outlinewidth": 0,
             "ticks": ""
            },
            "colorscale": [
             [
              0,
              "#0d0887"
             ],
             [
              0.1111111111111111,
              "#46039f"
             ],
             [
              0.2222222222222222,
              "#7201a8"
             ],
             [
              0.3333333333333333,
              "#9c179e"
             ],
             [
              0.4444444444444444,
              "#bd3786"
             ],
             [
              0.5555555555555556,
              "#d8576b"
             ],
             [
              0.6666666666666666,
              "#ed7953"
             ],
             [
              0.7777777777777778,
              "#fb9f3a"
             ],
             [
              0.8888888888888888,
              "#fdca26"
             ],
             [
              1,
              "#f0f921"
             ]
            ],
            "type": "histogram2d"
           }
          ],
          "histogram2dcontour": [
           {
            "colorbar": {
             "outlinewidth": 0,
             "ticks": ""
            },
            "colorscale": [
             [
              0,
              "#0d0887"
             ],
             [
              0.1111111111111111,
              "#46039f"
             ],
             [
              0.2222222222222222,
              "#7201a8"
             ],
             [
              0.3333333333333333,
              "#9c179e"
             ],
             [
              0.4444444444444444,
              "#bd3786"
             ],
             [
              0.5555555555555556,
              "#d8576b"
             ],
             [
              0.6666666666666666,
              "#ed7953"
             ],
             [
              0.7777777777777778,
              "#fb9f3a"
             ],
             [
              0.8888888888888888,
              "#fdca26"
             ],
             [
              1,
              "#f0f921"
             ]
            ],
            "type": "histogram2dcontour"
           }
          ],
          "mesh3d": [
           {
            "colorbar": {
             "outlinewidth": 0,
             "ticks": ""
            },
            "type": "mesh3d"
           }
          ],
          "parcoords": [
           {
            "line": {
             "colorbar": {
              "outlinewidth": 0,
              "ticks": ""
             }
            },
            "type": "parcoords"
           }
          ],
          "pie": [
           {
            "automargin": true,
            "type": "pie"
           }
          ],
          "scatter": [
           {
            "fillpattern": {
             "fillmode": "overlay",
             "size": 10,
             "solidity": 0.2
            },
            "type": "scatter"
           }
          ],
          "scatter3d": [
           {
            "line": {
             "colorbar": {
              "outlinewidth": 0,
              "ticks": ""
             }
            },
            "marker": {
             "colorbar": {
              "outlinewidth": 0,
              "ticks": ""
             }
            },
            "type": "scatter3d"
           }
          ],
          "scattercarpet": [
           {
            "marker": {
             "colorbar": {
              "outlinewidth": 0,
              "ticks": ""
             }
            },
            "type": "scattercarpet"
           }
          ],
          "scattergeo": [
           {
            "marker": {
             "colorbar": {
              "outlinewidth": 0,
              "ticks": ""
             }
            },
            "type": "scattergeo"
           }
          ],
          "scattergl": [
           {
            "marker": {
             "colorbar": {
              "outlinewidth": 0,
              "ticks": ""
             }
            },
            "type": "scattergl"
           }
          ],
          "scattermapbox": [
           {
            "marker": {
             "colorbar": {
              "outlinewidth": 0,
              "ticks": ""
             }
            },
            "type": "scattermapbox"
           }
          ],
          "scatterpolar": [
           {
            "marker": {
             "colorbar": {
              "outlinewidth": 0,
              "ticks": ""
             }
            },
            "type": "scatterpolar"
           }
          ],
          "scatterpolargl": [
           {
            "marker": {
             "colorbar": {
              "outlinewidth": 0,
              "ticks": ""
             }
            },
            "type": "scatterpolargl"
           }
          ],
          "scatterternary": [
           {
            "marker": {
             "colorbar": {
              "outlinewidth": 0,
              "ticks": ""
             }
            },
            "type": "scatterternary"
           }
          ],
          "surface": [
           {
            "colorbar": {
             "outlinewidth": 0,
             "ticks": ""
            },
            "colorscale": [
             [
              0,
              "#0d0887"
             ],
             [
              0.1111111111111111,
              "#46039f"
             ],
             [
              0.2222222222222222,
              "#7201a8"
             ],
             [
              0.3333333333333333,
              "#9c179e"
             ],
             [
              0.4444444444444444,
              "#bd3786"
             ],
             [
              0.5555555555555556,
              "#d8576b"
             ],
             [
              0.6666666666666666,
              "#ed7953"
             ],
             [
              0.7777777777777778,
              "#fb9f3a"
             ],
             [
              0.8888888888888888,
              "#fdca26"
             ],
             [
              1,
              "#f0f921"
             ]
            ],
            "type": "surface"
           }
          ],
          "table": [
           {
            "cells": {
             "fill": {
              "color": "#EBF0F8"
             },
             "line": {
              "color": "white"
             }
            },
            "header": {
             "fill": {
              "color": "#C8D4E3"
             },
             "line": {
              "color": "white"
             }
            },
            "type": "table"
           }
          ]
         },
         "layout": {
          "annotationdefaults": {
           "arrowcolor": "#2a3f5f",
           "arrowhead": 0,
           "arrowwidth": 1
          },
          "autotypenumbers": "strict",
          "coloraxis": {
           "colorbar": {
            "outlinewidth": 0,
            "ticks": ""
           }
          },
          "colorscale": {
           "diverging": [
            [
             0,
             "#8e0152"
            ],
            [
             0.1,
             "#c51b7d"
            ],
            [
             0.2,
             "#de77ae"
            ],
            [
             0.3,
             "#f1b6da"
            ],
            [
             0.4,
             "#fde0ef"
            ],
            [
             0.5,
             "#f7f7f7"
            ],
            [
             0.6,
             "#e6f5d0"
            ],
            [
             0.7,
             "#b8e186"
            ],
            [
             0.8,
             "#7fbc41"
            ],
            [
             0.9,
             "#4d9221"
            ],
            [
             1,
             "#276419"
            ]
           ],
           "sequential": [
            [
             0,
             "#0d0887"
            ],
            [
             0.1111111111111111,
             "#46039f"
            ],
            [
             0.2222222222222222,
             "#7201a8"
            ],
            [
             0.3333333333333333,
             "#9c179e"
            ],
            [
             0.4444444444444444,
             "#bd3786"
            ],
            [
             0.5555555555555556,
             "#d8576b"
            ],
            [
             0.6666666666666666,
             "#ed7953"
            ],
            [
             0.7777777777777778,
             "#fb9f3a"
            ],
            [
             0.8888888888888888,
             "#fdca26"
            ],
            [
             1,
             "#f0f921"
            ]
           ],
           "sequentialminus": [
            [
             0,
             "#0d0887"
            ],
            [
             0.1111111111111111,
             "#46039f"
            ],
            [
             0.2222222222222222,
             "#7201a8"
            ],
            [
             0.3333333333333333,
             "#9c179e"
            ],
            [
             0.4444444444444444,
             "#bd3786"
            ],
            [
             0.5555555555555556,
             "#d8576b"
            ],
            [
             0.6666666666666666,
             "#ed7953"
            ],
            [
             0.7777777777777778,
             "#fb9f3a"
            ],
            [
             0.8888888888888888,
             "#fdca26"
            ],
            [
             1,
             "#f0f921"
            ]
           ]
          },
          "colorway": [
           "#636efa",
           "#EF553B",
           "#00cc96",
           "#ab63fa",
           "#FFA15A",
           "#19d3f3",
           "#FF6692",
           "#B6E880",
           "#FF97FF",
           "#FECB52"
          ],
          "font": {
           "color": "#2a3f5f"
          },
          "geo": {
           "bgcolor": "white",
           "lakecolor": "white",
           "landcolor": "#E5ECF6",
           "showlakes": true,
           "showland": true,
           "subunitcolor": "white"
          },
          "hoverlabel": {
           "align": "left"
          },
          "hovermode": "closest",
          "mapbox": {
           "style": "light"
          },
          "paper_bgcolor": "white",
          "plot_bgcolor": "#E5ECF6",
          "polar": {
           "angularaxis": {
            "gridcolor": "white",
            "linecolor": "white",
            "ticks": ""
           },
           "bgcolor": "#E5ECF6",
           "radialaxis": {
            "gridcolor": "white",
            "linecolor": "white",
            "ticks": ""
           }
          },
          "scene": {
           "xaxis": {
            "backgroundcolor": "#E5ECF6",
            "gridcolor": "white",
            "gridwidth": 2,
            "linecolor": "white",
            "showbackground": true,
            "ticks": "",
            "zerolinecolor": "white"
           },
           "yaxis": {
            "backgroundcolor": "#E5ECF6",
            "gridcolor": "white",
            "gridwidth": 2,
            "linecolor": "white",
            "showbackground": true,
            "ticks": "",
            "zerolinecolor": "white"
           },
           "zaxis": {
            "backgroundcolor": "#E5ECF6",
            "gridcolor": "white",
            "gridwidth": 2,
            "linecolor": "white",
            "showbackground": true,
            "ticks": "",
            "zerolinecolor": "white"
           }
          },
          "shapedefaults": {
           "line": {
            "color": "#2a3f5f"
           }
          },
          "ternary": {
           "aaxis": {
            "gridcolor": "white",
            "linecolor": "white",
            "ticks": ""
           },
           "baxis": {
            "gridcolor": "white",
            "linecolor": "white",
            "ticks": ""
           },
           "bgcolor": "#E5ECF6",
           "caxis": {
            "gridcolor": "white",
            "linecolor": "white",
            "ticks": ""
           }
          },
          "title": {
           "x": 0.05
          },
          "xaxis": {
           "automargin": true,
           "gridcolor": "white",
           "linecolor": "white",
           "ticks": "",
           "title": {
            "standoff": 15
           },
           "zerolinecolor": "white",
           "zerolinewidth": 2
          },
          "yaxis": {
           "automargin": true,
           "gridcolor": "white",
           "linecolor": "white",
           "ticks": "",
           "title": {
            "standoff": 15
           },
           "zerolinecolor": "white",
           "zerolinewidth": 2
          }
         }
        },
        "xaxis": {
         "anchor": "y",
         "domain": [
          0,
          1
         ],
         "title": {
          "text": "Time"
         }
        },
        "yaxis": {
         "anchor": "x",
         "domain": [
          0,
          1
         ],
         "title": {
          "text": "Level"
         }
        }
       }
      }
     },
     "metadata": {},
     "output_type": "display_data"
    }
   ],
   "source": [
    "df_generation = df_combined[df_combined[\"Level\"] > 0]\n",
    "\n",
    "df_ = df_generation.groupby([\"Time\", \"Fuel Type\"]).sum().reset_index()\n",
    "px.area(df_, x=\"Time\", y=\"Level\", color=\"Fuel Type\")"
   ]
  },
  {
   "cell_type": "code",
   "execution_count": 261,
   "metadata": {},
   "outputs": [
    {
     "data": {
      "application/vnd.plotly.v1+json": {
       "config": {
        "plotlyServerURL": "https://plot.ly"
       },
       "data": [
        {
         "fillpattern": {
          "shape": ""
         },
         "hovertemplate": "Time=%{x}<br>Level=%{y}<extra></extra>",
         "legendgroup": "",
         "line": {
          "color": "#636efa"
         },
         "marker": {
          "symbol": "circle"
         },
         "mode": "lines",
         "name": "",
         "orientation": "v",
         "showlegend": false,
         "stackgroup": "1",
         "type": "scatter",
         "x": [
          "2022-03-19T13:00:00",
          "2022-03-19T13:01:00",
          "2022-03-19T13:02:00",
          "2022-03-19T13:03:00",
          "2022-03-19T13:04:00",
          "2022-03-19T13:05:00",
          "2022-03-19T13:06:00",
          "2022-03-19T13:07:00",
          "2022-03-19T13:08:00",
          "2022-03-19T13:09:00",
          "2022-03-19T13:10:00",
          "2022-03-19T13:11:00",
          "2022-03-19T13:12:00",
          "2022-03-19T13:13:00",
          "2022-03-19T13:14:00",
          "2022-03-19T13:15:00",
          "2022-03-19T13:16:00",
          "2022-03-19T13:17:00",
          "2022-03-19T13:18:00",
          "2022-03-19T13:19:00",
          "2022-03-19T13:20:00",
          "2022-03-19T13:21:00",
          "2022-03-19T13:22:00",
          "2022-03-19T13:23:00",
          "2022-03-19T13:24:00",
          "2022-03-19T13:25:00",
          "2022-03-19T13:26:00",
          "2022-03-19T13:27:00",
          "2022-03-19T13:28:00",
          "2022-03-19T13:29:00",
          "2022-03-19T13:30:00"
         ],
         "xaxis": "x",
         "y": [
          23990,
          24017.666666666668,
          24017.333333333332,
          24016.999999999996,
          24018.666666666668,
          24018.333333333336,
          24018.000000000004,
          24017.666666666668,
          24017.333333333332,
          24016.999999999996,
          24016.666666666664,
          24016.333333333332,
          24016.000000000004,
          24015.66666666667,
          24015.333333333332,
          24015,
          24014.666666666668,
          24014.33333333333,
          24013.999999999993,
          24013.66666666667,
          24013.33333333334,
          24013,
          24012.666666666668,
          24012.333333333332,
          24012,
          24011.66666666666,
          24011.33333333333,
          24011.000000000007,
          24010.66666666667,
          24010.333333333332,
          24026
         ],
         "yaxis": "y"
        }
       ],
       "layout": {
        "legend": {
         "tracegroupgap": 0
        },
        "margin": {
         "t": 60
        },
        "template": {
         "data": {
          "bar": [
           {
            "error_x": {
             "color": "#2a3f5f"
            },
            "error_y": {
             "color": "#2a3f5f"
            },
            "marker": {
             "line": {
              "color": "#E5ECF6",
              "width": 0.5
             },
             "pattern": {
              "fillmode": "overlay",
              "size": 10,
              "solidity": 0.2
             }
            },
            "type": "bar"
           }
          ],
          "barpolar": [
           {
            "marker": {
             "line": {
              "color": "#E5ECF6",
              "width": 0.5
             },
             "pattern": {
              "fillmode": "overlay",
              "size": 10,
              "solidity": 0.2
             }
            },
            "type": "barpolar"
           }
          ],
          "carpet": [
           {
            "aaxis": {
             "endlinecolor": "#2a3f5f",
             "gridcolor": "white",
             "linecolor": "white",
             "minorgridcolor": "white",
             "startlinecolor": "#2a3f5f"
            },
            "baxis": {
             "endlinecolor": "#2a3f5f",
             "gridcolor": "white",
             "linecolor": "white",
             "minorgridcolor": "white",
             "startlinecolor": "#2a3f5f"
            },
            "type": "carpet"
           }
          ],
          "choropleth": [
           {
            "colorbar": {
             "outlinewidth": 0,
             "ticks": ""
            },
            "type": "choropleth"
           }
          ],
          "contour": [
           {
            "colorbar": {
             "outlinewidth": 0,
             "ticks": ""
            },
            "colorscale": [
             [
              0,
              "#0d0887"
             ],
             [
              0.1111111111111111,
              "#46039f"
             ],
             [
              0.2222222222222222,
              "#7201a8"
             ],
             [
              0.3333333333333333,
              "#9c179e"
             ],
             [
              0.4444444444444444,
              "#bd3786"
             ],
             [
              0.5555555555555556,
              "#d8576b"
             ],
             [
              0.6666666666666666,
              "#ed7953"
             ],
             [
              0.7777777777777778,
              "#fb9f3a"
             ],
             [
              0.8888888888888888,
              "#fdca26"
             ],
             [
              1,
              "#f0f921"
             ]
            ],
            "type": "contour"
           }
          ],
          "contourcarpet": [
           {
            "colorbar": {
             "outlinewidth": 0,
             "ticks": ""
            },
            "type": "contourcarpet"
           }
          ],
          "heatmap": [
           {
            "colorbar": {
             "outlinewidth": 0,
             "ticks": ""
            },
            "colorscale": [
             [
              0,
              "#0d0887"
             ],
             [
              0.1111111111111111,
              "#46039f"
             ],
             [
              0.2222222222222222,
              "#7201a8"
             ],
             [
              0.3333333333333333,
              "#9c179e"
             ],
             [
              0.4444444444444444,
              "#bd3786"
             ],
             [
              0.5555555555555556,
              "#d8576b"
             ],
             [
              0.6666666666666666,
              "#ed7953"
             ],
             [
              0.7777777777777778,
              "#fb9f3a"
             ],
             [
              0.8888888888888888,
              "#fdca26"
             ],
             [
              1,
              "#f0f921"
             ]
            ],
            "type": "heatmap"
           }
          ],
          "heatmapgl": [
           {
            "colorbar": {
             "outlinewidth": 0,
             "ticks": ""
            },
            "colorscale": [
             [
              0,
              "#0d0887"
             ],
             [
              0.1111111111111111,
              "#46039f"
             ],
             [
              0.2222222222222222,
              "#7201a8"
             ],
             [
              0.3333333333333333,
              "#9c179e"
             ],
             [
              0.4444444444444444,
              "#bd3786"
             ],
             [
              0.5555555555555556,
              "#d8576b"
             ],
             [
              0.6666666666666666,
              "#ed7953"
             ],
             [
              0.7777777777777778,
              "#fb9f3a"
             ],
             [
              0.8888888888888888,
              "#fdca26"
             ],
             [
              1,
              "#f0f921"
             ]
            ],
            "type": "heatmapgl"
           }
          ],
          "histogram": [
           {
            "marker": {
             "pattern": {
              "fillmode": "overlay",
              "size": 10,
              "solidity": 0.2
             }
            },
            "type": "histogram"
           }
          ],
          "histogram2d": [
           {
            "colorbar": {
             "outlinewidth": 0,
             "ticks": ""
            },
            "colorscale": [
             [
              0,
              "#0d0887"
             ],
             [
              0.1111111111111111,
              "#46039f"
             ],
             [
              0.2222222222222222,
              "#7201a8"
             ],
             [
              0.3333333333333333,
              "#9c179e"
             ],
             [
              0.4444444444444444,
              "#bd3786"
             ],
             [
              0.5555555555555556,
              "#d8576b"
             ],
             [
              0.6666666666666666,
              "#ed7953"
             ],
             [
              0.7777777777777778,
              "#fb9f3a"
             ],
             [
              0.8888888888888888,
              "#fdca26"
             ],
             [
              1,
              "#f0f921"
             ]
            ],
            "type": "histogram2d"
           }
          ],
          "histogram2dcontour": [
           {
            "colorbar": {
             "outlinewidth": 0,
             "ticks": ""
            },
            "colorscale": [
             [
              0,
              "#0d0887"
             ],
             [
              0.1111111111111111,
              "#46039f"
             ],
             [
              0.2222222222222222,
              "#7201a8"
             ],
             [
              0.3333333333333333,
              "#9c179e"
             ],
             [
              0.4444444444444444,
              "#bd3786"
             ],
             [
              0.5555555555555556,
              "#d8576b"
             ],
             [
              0.6666666666666666,
              "#ed7953"
             ],
             [
              0.7777777777777778,
              "#fb9f3a"
             ],
             [
              0.8888888888888888,
              "#fdca26"
             ],
             [
              1,
              "#f0f921"
             ]
            ],
            "type": "histogram2dcontour"
           }
          ],
          "mesh3d": [
           {
            "colorbar": {
             "outlinewidth": 0,
             "ticks": ""
            },
            "type": "mesh3d"
           }
          ],
          "parcoords": [
           {
            "line": {
             "colorbar": {
              "outlinewidth": 0,
              "ticks": ""
             }
            },
            "type": "parcoords"
           }
          ],
          "pie": [
           {
            "automargin": true,
            "type": "pie"
           }
          ],
          "scatter": [
           {
            "fillpattern": {
             "fillmode": "overlay",
             "size": 10,
             "solidity": 0.2
            },
            "type": "scatter"
           }
          ],
          "scatter3d": [
           {
            "line": {
             "colorbar": {
              "outlinewidth": 0,
              "ticks": ""
             }
            },
            "marker": {
             "colorbar": {
              "outlinewidth": 0,
              "ticks": ""
             }
            },
            "type": "scatter3d"
           }
          ],
          "scattercarpet": [
           {
            "marker": {
             "colorbar": {
              "outlinewidth": 0,
              "ticks": ""
             }
            },
            "type": "scattercarpet"
           }
          ],
          "scattergeo": [
           {
            "marker": {
             "colorbar": {
              "outlinewidth": 0,
              "ticks": ""
             }
            },
            "type": "scattergeo"
           }
          ],
          "scattergl": [
           {
            "marker": {
             "colorbar": {
              "outlinewidth": 0,
              "ticks": ""
             }
            },
            "type": "scattergl"
           }
          ],
          "scattermapbox": [
           {
            "marker": {
             "colorbar": {
              "outlinewidth": 0,
              "ticks": ""
             }
            },
            "type": "scattermapbox"
           }
          ],
          "scatterpolar": [
           {
            "marker": {
             "colorbar": {
              "outlinewidth": 0,
              "ticks": ""
             }
            },
            "type": "scatterpolar"
           }
          ],
          "scatterpolargl": [
           {
            "marker": {
             "colorbar": {
              "outlinewidth": 0,
              "ticks": ""
             }
            },
            "type": "scatterpolargl"
           }
          ],
          "scatterternary": [
           {
            "marker": {
             "colorbar": {
              "outlinewidth": 0,
              "ticks": ""
             }
            },
            "type": "scatterternary"
           }
          ],
          "surface": [
           {
            "colorbar": {
             "outlinewidth": 0,
             "ticks": ""
            },
            "colorscale": [
             [
              0,
              "#0d0887"
             ],
             [
              0.1111111111111111,
              "#46039f"
             ],
             [
              0.2222222222222222,
              "#7201a8"
             ],
             [
              0.3333333333333333,
              "#9c179e"
             ],
             [
              0.4444444444444444,
              "#bd3786"
             ],
             [
              0.5555555555555556,
              "#d8576b"
             ],
             [
              0.6666666666666666,
              "#ed7953"
             ],
             [
              0.7777777777777778,
              "#fb9f3a"
             ],
             [
              0.8888888888888888,
              "#fdca26"
             ],
             [
              1,
              "#f0f921"
             ]
            ],
            "type": "surface"
           }
          ],
          "table": [
           {
            "cells": {
             "fill": {
              "color": "#EBF0F8"
             },
             "line": {
              "color": "white"
             }
            },
            "header": {
             "fill": {
              "color": "#C8D4E3"
             },
             "line": {
              "color": "white"
             }
            },
            "type": "table"
           }
          ]
         },
         "layout": {
          "annotationdefaults": {
           "arrowcolor": "#2a3f5f",
           "arrowhead": 0,
           "arrowwidth": 1
          },
          "autotypenumbers": "strict",
          "coloraxis": {
           "colorbar": {
            "outlinewidth": 0,
            "ticks": ""
           }
          },
          "colorscale": {
           "diverging": [
            [
             0,
             "#8e0152"
            ],
            [
             0.1,
             "#c51b7d"
            ],
            [
             0.2,
             "#de77ae"
            ],
            [
             0.3,
             "#f1b6da"
            ],
            [
             0.4,
             "#fde0ef"
            ],
            [
             0.5,
             "#f7f7f7"
            ],
            [
             0.6,
             "#e6f5d0"
            ],
            [
             0.7,
             "#b8e186"
            ],
            [
             0.8,
             "#7fbc41"
            ],
            [
             0.9,
             "#4d9221"
            ],
            [
             1,
             "#276419"
            ]
           ],
           "sequential": [
            [
             0,
             "#0d0887"
            ],
            [
             0.1111111111111111,
             "#46039f"
            ],
            [
             0.2222222222222222,
             "#7201a8"
            ],
            [
             0.3333333333333333,
             "#9c179e"
            ],
            [
             0.4444444444444444,
             "#bd3786"
            ],
            [
             0.5555555555555556,
             "#d8576b"
            ],
            [
             0.6666666666666666,
             "#ed7953"
            ],
            [
             0.7777777777777778,
             "#fb9f3a"
            ],
            [
             0.8888888888888888,
             "#fdca26"
            ],
            [
             1,
             "#f0f921"
            ]
           ],
           "sequentialminus": [
            [
             0,
             "#0d0887"
            ],
            [
             0.1111111111111111,
             "#46039f"
            ],
            [
             0.2222222222222222,
             "#7201a8"
            ],
            [
             0.3333333333333333,
             "#9c179e"
            ],
            [
             0.4444444444444444,
             "#bd3786"
            ],
            [
             0.5555555555555556,
             "#d8576b"
            ],
            [
             0.6666666666666666,
             "#ed7953"
            ],
            [
             0.7777777777777778,
             "#fb9f3a"
            ],
            [
             0.8888888888888888,
             "#fdca26"
            ],
            [
             1,
             "#f0f921"
            ]
           ]
          },
          "colorway": [
           "#636efa",
           "#EF553B",
           "#00cc96",
           "#ab63fa",
           "#FFA15A",
           "#19d3f3",
           "#FF6692",
           "#B6E880",
           "#FF97FF",
           "#FECB52"
          ],
          "font": {
           "color": "#2a3f5f"
          },
          "geo": {
           "bgcolor": "white",
           "lakecolor": "white",
           "landcolor": "#E5ECF6",
           "showlakes": true,
           "showland": true,
           "subunitcolor": "white"
          },
          "hoverlabel": {
           "align": "left"
          },
          "hovermode": "closest",
          "mapbox": {
           "style": "light"
          },
          "paper_bgcolor": "white",
          "plot_bgcolor": "#E5ECF6",
          "polar": {
           "angularaxis": {
            "gridcolor": "white",
            "linecolor": "white",
            "ticks": ""
           },
           "bgcolor": "#E5ECF6",
           "radialaxis": {
            "gridcolor": "white",
            "linecolor": "white",
            "ticks": ""
           }
          },
          "scene": {
           "xaxis": {
            "backgroundcolor": "#E5ECF6",
            "gridcolor": "white",
            "gridwidth": 2,
            "linecolor": "white",
            "showbackground": true,
            "ticks": "",
            "zerolinecolor": "white"
           },
           "yaxis": {
            "backgroundcolor": "#E5ECF6",
            "gridcolor": "white",
            "gridwidth": 2,
            "linecolor": "white",
            "showbackground": true,
            "ticks": "",
            "zerolinecolor": "white"
           },
           "zaxis": {
            "backgroundcolor": "#E5ECF6",
            "gridcolor": "white",
            "gridwidth": 2,
            "linecolor": "white",
            "showbackground": true,
            "ticks": "",
            "zerolinecolor": "white"
           }
          },
          "shapedefaults": {
           "line": {
            "color": "#2a3f5f"
           }
          },
          "ternary": {
           "aaxis": {
            "gridcolor": "white",
            "linecolor": "white",
            "ticks": ""
           },
           "baxis": {
            "gridcolor": "white",
            "linecolor": "white",
            "ticks": ""
           },
           "bgcolor": "#E5ECF6",
           "caxis": {
            "gridcolor": "white",
            "linecolor": "white",
            "ticks": ""
           }
          },
          "title": {
           "x": 0.05
          },
          "xaxis": {
           "automargin": true,
           "gridcolor": "white",
           "linecolor": "white",
           "ticks": "",
           "title": {
            "standoff": 15
           },
           "zerolinecolor": "white",
           "zerolinewidth": 2
          },
          "yaxis": {
           "automargin": true,
           "gridcolor": "white",
           "linecolor": "white",
           "ticks": "",
           "title": {
            "standoff": 15
           },
           "zerolinecolor": "white",
           "zerolinewidth": 2
          }
         }
        },
        "xaxis": {
         "anchor": "y",
         "domain": [
          0,
          1
         ],
         "title": {
          "text": "Time"
         }
        },
        "yaxis": {
         "anchor": "x",
         "domain": [
          0,
          1
         ],
         "title": {
          "text": "Level"
         }
        }
       }
      }
     },
     "metadata": {},
     "output_type": "display_data"
    }
   ],
   "source": [
    "df_generation_sum = df_generation.groupby(\"Time\").sum().reset_index()\n",
    "px.area(df_generation_sum, \"Time\", \"Level\")"
   ]
  },
  {
   "cell_type": "code",
   "execution_count": 264,
   "metadata": {},
   "outputs": [],
   "source": [
    "df_generation_with_curtailment = df_generation_sum.set_index(\"Time\").join(\n",
    "    df_curtailment_all.groupby(\"Time\").sum()[\"delta\"], how=\"left\"\n",
    ")\n",
    "df_generation_with_curtailment[\"inverted_delta\"] = -df_generation_with_curtailment[\n",
    "    \"delta\"\n",
    "]"
   ]
  },
  {
   "cell_type": "code",
   "execution_count": 268,
   "metadata": {},
   "outputs": [],
   "source": []
  },
  {
   "cell_type": "code",
   "execution_count": 270,
   "metadata": {},
   "outputs": [
    {
     "data": {
      "application/vnd.plotly.v1+json": {
       "config": {
        "plotlyServerURL": "https://plot.ly"
       },
       "data": [
        {
         "fillpattern": {
          "shape": ""
         },
         "hovertemplate": "variable=Level<br>Time=%{x}<br>value=%{y}<extra></extra>",
         "legendgroup": "Level",
         "line": {
          "color": "#636efa"
         },
         "marker": {
          "symbol": "circle"
         },
         "mode": "lines",
         "name": "Level",
         "orientation": "v",
         "showlegend": true,
         "stackgroup": "1",
         "type": "scatter",
         "x": [
          "2022-03-19T13:00:00",
          "2022-03-19T13:01:00",
          "2022-03-19T13:02:00",
          "2022-03-19T13:03:00",
          "2022-03-19T13:04:00",
          "2022-03-19T13:05:00",
          "2022-03-19T13:06:00",
          "2022-03-19T13:07:00",
          "2022-03-19T13:08:00",
          "2022-03-19T13:09:00",
          "2022-03-19T13:10:00",
          "2022-03-19T13:11:00",
          "2022-03-19T13:12:00",
          "2022-03-19T13:13:00",
          "2022-03-19T13:14:00",
          "2022-03-19T13:15:00",
          "2022-03-19T13:16:00",
          "2022-03-19T13:17:00",
          "2022-03-19T13:18:00",
          "2022-03-19T13:19:00",
          "2022-03-19T13:20:00",
          "2022-03-19T13:21:00",
          "2022-03-19T13:22:00",
          "2022-03-19T13:23:00",
          "2022-03-19T13:24:00",
          "2022-03-19T13:25:00",
          "2022-03-19T13:26:00",
          "2022-03-19T13:27:00",
          "2022-03-19T13:28:00",
          "2022-03-19T13:29:00",
          "2022-03-19T13:30:00"
         ],
         "xaxis": "x",
         "y": [
          23990,
          24017.666666666668,
          24017.333333333332,
          24016.999999999996,
          24018.666666666668,
          24018.333333333336,
          24018.000000000004,
          24017.666666666668,
          24017.333333333332,
          24016.999999999996,
          24016.666666666664,
          24016.333333333332,
          24016.000000000004,
          24015.66666666667,
          24015.333333333332,
          24015,
          24014.666666666668,
          24014.33333333333,
          24013.999999999993,
          24013.66666666667,
          24013.33333333334,
          24013,
          24012.666666666668,
          24012.333333333332,
          24012,
          24011.66666666666,
          24011.33333333333,
          24011.000000000007,
          24010.66666666667,
          24010.333333333332,
          24026
         ],
         "yaxis": "y"
        },
        {
         "fillpattern": {
          "shape": ""
         },
         "hovertemplate": "variable=inverted_delta<br>Time=%{x}<br>value=%{y}<extra></extra>",
         "legendgroup": "inverted_delta",
         "line": {
          "color": "#EF553B"
         },
         "marker": {
          "symbol": "circle"
         },
         "mode": "lines",
         "name": "inverted_delta",
         "orientation": "v",
         "showlegend": true,
         "stackgroup": "1",
         "type": "scatter",
         "x": [
          "2022-03-19T13:00:00",
          "2022-03-19T13:01:00",
          "2022-03-19T13:02:00",
          "2022-03-19T13:03:00",
          "2022-03-19T13:04:00",
          "2022-03-19T13:05:00",
          "2022-03-19T13:06:00",
          "2022-03-19T13:07:00",
          "2022-03-19T13:08:00",
          "2022-03-19T13:09:00",
          "2022-03-19T13:10:00",
          "2022-03-19T13:11:00",
          "2022-03-19T13:12:00",
          "2022-03-19T13:13:00",
          "2022-03-19T13:14:00",
          "2022-03-19T13:15:00",
          "2022-03-19T13:16:00",
          "2022-03-19T13:17:00",
          "2022-03-19T13:18:00",
          "2022-03-19T13:19:00",
          "2022-03-19T13:20:00",
          "2022-03-19T13:21:00",
          "2022-03-19T13:22:00",
          "2022-03-19T13:23:00",
          "2022-03-19T13:24:00",
          "2022-03-19T13:25:00",
          "2022-03-19T13:26:00",
          "2022-03-19T13:27:00",
          "2022-03-19T13:28:00",
          "2022-03-19T13:29:00",
          "2022-03-19T13:30:00"
         ],
         "xaxis": "x",
         "y": [
          -1186,
          -1185.6,
          -1086.2,
          -1086.8,
          -1151.4,
          -1152,
          -1152.6,
          -1153.2,
          -1252.8,
          -1253.3999999999999,
          -1254,
          -1287.6,
          -1352.2,
          -1352.8000000000002,
          -1353.4,
          -1377,
          -1377.6,
          -1378.1999999999998,
          -1378.8,
          -1379.4,
          -1423,
          -1423.6000000000001,
          -1434.2,
          -1462.8,
          -1579.3999999999999,
          -1580,
          -1580.6,
          -1581.2,
          -1690.7999999999997,
          -1675.4,
          -1696
         ],
         "yaxis": "y"
        }
       ],
       "layout": {
        "legend": {
         "title": {
          "text": "variable"
         },
         "tracegroupgap": 0
        },
        "template": {
         "data": {
          "bar": [
           {
            "error_x": {
             "color": "#2a3f5f"
            },
            "error_y": {
             "color": "#2a3f5f"
            },
            "marker": {
             "line": {
              "color": "#E5ECF6",
              "width": 0.5
             },
             "pattern": {
              "fillmode": "overlay",
              "size": 10,
              "solidity": 0.2
             }
            },
            "type": "bar"
           }
          ],
          "barpolar": [
           {
            "marker": {
             "line": {
              "color": "#E5ECF6",
              "width": 0.5
             },
             "pattern": {
              "fillmode": "overlay",
              "size": 10,
              "solidity": 0.2
             }
            },
            "type": "barpolar"
           }
          ],
          "carpet": [
           {
            "aaxis": {
             "endlinecolor": "#2a3f5f",
             "gridcolor": "white",
             "linecolor": "white",
             "minorgridcolor": "white",
             "startlinecolor": "#2a3f5f"
            },
            "baxis": {
             "endlinecolor": "#2a3f5f",
             "gridcolor": "white",
             "linecolor": "white",
             "minorgridcolor": "white",
             "startlinecolor": "#2a3f5f"
            },
            "type": "carpet"
           }
          ],
          "choropleth": [
           {
            "colorbar": {
             "outlinewidth": 0,
             "ticks": ""
            },
            "type": "choropleth"
           }
          ],
          "contour": [
           {
            "colorbar": {
             "outlinewidth": 0,
             "ticks": ""
            },
            "colorscale": [
             [
              0,
              "#0d0887"
             ],
             [
              0.1111111111111111,
              "#46039f"
             ],
             [
              0.2222222222222222,
              "#7201a8"
             ],
             [
              0.3333333333333333,
              "#9c179e"
             ],
             [
              0.4444444444444444,
              "#bd3786"
             ],
             [
              0.5555555555555556,
              "#d8576b"
             ],
             [
              0.6666666666666666,
              "#ed7953"
             ],
             [
              0.7777777777777778,
              "#fb9f3a"
             ],
             [
              0.8888888888888888,
              "#fdca26"
             ],
             [
              1,
              "#f0f921"
             ]
            ],
            "type": "contour"
           }
          ],
          "contourcarpet": [
           {
            "colorbar": {
             "outlinewidth": 0,
             "ticks": ""
            },
            "type": "contourcarpet"
           }
          ],
          "heatmap": [
           {
            "colorbar": {
             "outlinewidth": 0,
             "ticks": ""
            },
            "colorscale": [
             [
              0,
              "#0d0887"
             ],
             [
              0.1111111111111111,
              "#46039f"
             ],
             [
              0.2222222222222222,
              "#7201a8"
             ],
             [
              0.3333333333333333,
              "#9c179e"
             ],
             [
              0.4444444444444444,
              "#bd3786"
             ],
             [
              0.5555555555555556,
              "#d8576b"
             ],
             [
              0.6666666666666666,
              "#ed7953"
             ],
             [
              0.7777777777777778,
              "#fb9f3a"
             ],
             [
              0.8888888888888888,
              "#fdca26"
             ],
             [
              1,
              "#f0f921"
             ]
            ],
            "type": "heatmap"
           }
          ],
          "heatmapgl": [
           {
            "colorbar": {
             "outlinewidth": 0,
             "ticks": ""
            },
            "colorscale": [
             [
              0,
              "#0d0887"
             ],
             [
              0.1111111111111111,
              "#46039f"
             ],
             [
              0.2222222222222222,
              "#7201a8"
             ],
             [
              0.3333333333333333,
              "#9c179e"
             ],
             [
              0.4444444444444444,
              "#bd3786"
             ],
             [
              0.5555555555555556,
              "#d8576b"
             ],
             [
              0.6666666666666666,
              "#ed7953"
             ],
             [
              0.7777777777777778,
              "#fb9f3a"
             ],
             [
              0.8888888888888888,
              "#fdca26"
             ],
             [
              1,
              "#f0f921"
             ]
            ],
            "type": "heatmapgl"
           }
          ],
          "histogram": [
           {
            "marker": {
             "pattern": {
              "fillmode": "overlay",
              "size": 10,
              "solidity": 0.2
             }
            },
            "type": "histogram"
           }
          ],
          "histogram2d": [
           {
            "colorbar": {
             "outlinewidth": 0,
             "ticks": ""
            },
            "colorscale": [
             [
              0,
              "#0d0887"
             ],
             [
              0.1111111111111111,
              "#46039f"
             ],
             [
              0.2222222222222222,
              "#7201a8"
             ],
             [
              0.3333333333333333,
              "#9c179e"
             ],
             [
              0.4444444444444444,
              "#bd3786"
             ],
             [
              0.5555555555555556,
              "#d8576b"
             ],
             [
              0.6666666666666666,
              "#ed7953"
             ],
             [
              0.7777777777777778,
              "#fb9f3a"
             ],
             [
              0.8888888888888888,
              "#fdca26"
             ],
             [
              1,
              "#f0f921"
             ]
            ],
            "type": "histogram2d"
           }
          ],
          "histogram2dcontour": [
           {
            "colorbar": {
             "outlinewidth": 0,
             "ticks": ""
            },
            "colorscale": [
             [
              0,
              "#0d0887"
             ],
             [
              0.1111111111111111,
              "#46039f"
             ],
             [
              0.2222222222222222,
              "#7201a8"
             ],
             [
              0.3333333333333333,
              "#9c179e"
             ],
             [
              0.4444444444444444,
              "#bd3786"
             ],
             [
              0.5555555555555556,
              "#d8576b"
             ],
             [
              0.6666666666666666,
              "#ed7953"
             ],
             [
              0.7777777777777778,
              "#fb9f3a"
             ],
             [
              0.8888888888888888,
              "#fdca26"
             ],
             [
              1,
              "#f0f921"
             ]
            ],
            "type": "histogram2dcontour"
           }
          ],
          "mesh3d": [
           {
            "colorbar": {
             "outlinewidth": 0,
             "ticks": ""
            },
            "type": "mesh3d"
           }
          ],
          "parcoords": [
           {
            "line": {
             "colorbar": {
              "outlinewidth": 0,
              "ticks": ""
             }
            },
            "type": "parcoords"
           }
          ],
          "pie": [
           {
            "automargin": true,
            "type": "pie"
           }
          ],
          "scatter": [
           {
            "fillpattern": {
             "fillmode": "overlay",
             "size": 10,
             "solidity": 0.2
            },
            "type": "scatter"
           }
          ],
          "scatter3d": [
           {
            "line": {
             "colorbar": {
              "outlinewidth": 0,
              "ticks": ""
             }
            },
            "marker": {
             "colorbar": {
              "outlinewidth": 0,
              "ticks": ""
             }
            },
            "type": "scatter3d"
           }
          ],
          "scattercarpet": [
           {
            "marker": {
             "colorbar": {
              "outlinewidth": 0,
              "ticks": ""
             }
            },
            "type": "scattercarpet"
           }
          ],
          "scattergeo": [
           {
            "marker": {
             "colorbar": {
              "outlinewidth": 0,
              "ticks": ""
             }
            },
            "type": "scattergeo"
           }
          ],
          "scattergl": [
           {
            "marker": {
             "colorbar": {
              "outlinewidth": 0,
              "ticks": ""
             }
            },
            "type": "scattergl"
           }
          ],
          "scattermapbox": [
           {
            "marker": {
             "colorbar": {
              "outlinewidth": 0,
              "ticks": ""
             }
            },
            "type": "scattermapbox"
           }
          ],
          "scatterpolar": [
           {
            "marker": {
             "colorbar": {
              "outlinewidth": 0,
              "ticks": ""
             }
            },
            "type": "scatterpolar"
           }
          ],
          "scatterpolargl": [
           {
            "marker": {
             "colorbar": {
              "outlinewidth": 0,
              "ticks": ""
             }
            },
            "type": "scatterpolargl"
           }
          ],
          "scatterternary": [
           {
            "marker": {
             "colorbar": {
              "outlinewidth": 0,
              "ticks": ""
             }
            },
            "type": "scatterternary"
           }
          ],
          "surface": [
           {
            "colorbar": {
             "outlinewidth": 0,
             "ticks": ""
            },
            "colorscale": [
             [
              0,
              "#0d0887"
             ],
             [
              0.1111111111111111,
              "#46039f"
             ],
             [
              0.2222222222222222,
              "#7201a8"
             ],
             [
              0.3333333333333333,
              "#9c179e"
             ],
             [
              0.4444444444444444,
              "#bd3786"
             ],
             [
              0.5555555555555556,
              "#d8576b"
             ],
             [
              0.6666666666666666,
              "#ed7953"
             ],
             [
              0.7777777777777778,
              "#fb9f3a"
             ],
             [
              0.8888888888888888,
              "#fdca26"
             ],
             [
              1,
              "#f0f921"
             ]
            ],
            "type": "surface"
           }
          ],
          "table": [
           {
            "cells": {
             "fill": {
              "color": "#EBF0F8"
             },
             "line": {
              "color": "white"
             }
            },
            "header": {
             "fill": {
              "color": "#C8D4E3"
             },
             "line": {
              "color": "white"
             }
            },
            "type": "table"
           }
          ]
         },
         "layout": {
          "annotationdefaults": {
           "arrowcolor": "#2a3f5f",
           "arrowhead": 0,
           "arrowwidth": 1
          },
          "autotypenumbers": "strict",
          "coloraxis": {
           "colorbar": {
            "outlinewidth": 0,
            "ticks": ""
           }
          },
          "colorscale": {
           "diverging": [
            [
             0,
             "#8e0152"
            ],
            [
             0.1,
             "#c51b7d"
            ],
            [
             0.2,
             "#de77ae"
            ],
            [
             0.3,
             "#f1b6da"
            ],
            [
             0.4,
             "#fde0ef"
            ],
            [
             0.5,
             "#f7f7f7"
            ],
            [
             0.6,
             "#e6f5d0"
            ],
            [
             0.7,
             "#b8e186"
            ],
            [
             0.8,
             "#7fbc41"
            ],
            [
             0.9,
             "#4d9221"
            ],
            [
             1,
             "#276419"
            ]
           ],
           "sequential": [
            [
             0,
             "#0d0887"
            ],
            [
             0.1111111111111111,
             "#46039f"
            ],
            [
             0.2222222222222222,
             "#7201a8"
            ],
            [
             0.3333333333333333,
             "#9c179e"
            ],
            [
             0.4444444444444444,
             "#bd3786"
            ],
            [
             0.5555555555555556,
             "#d8576b"
            ],
            [
             0.6666666666666666,
             "#ed7953"
            ],
            [
             0.7777777777777778,
             "#fb9f3a"
            ],
            [
             0.8888888888888888,
             "#fdca26"
            ],
            [
             1,
             "#f0f921"
            ]
           ],
           "sequentialminus": [
            [
             0,
             "#0d0887"
            ],
            [
             0.1111111111111111,
             "#46039f"
            ],
            [
             0.2222222222222222,
             "#7201a8"
            ],
            [
             0.3333333333333333,
             "#9c179e"
            ],
            [
             0.4444444444444444,
             "#bd3786"
            ],
            [
             0.5555555555555556,
             "#d8576b"
            ],
            [
             0.6666666666666666,
             "#ed7953"
            ],
            [
             0.7777777777777778,
             "#fb9f3a"
            ],
            [
             0.8888888888888888,
             "#fdca26"
            ],
            [
             1,
             "#f0f921"
            ]
           ]
          },
          "colorway": [
           "#636efa",
           "#EF553B",
           "#00cc96",
           "#ab63fa",
           "#FFA15A",
           "#19d3f3",
           "#FF6692",
           "#B6E880",
           "#FF97FF",
           "#FECB52"
          ],
          "font": {
           "color": "#2a3f5f"
          },
          "geo": {
           "bgcolor": "white",
           "lakecolor": "white",
           "landcolor": "#E5ECF6",
           "showlakes": true,
           "showland": true,
           "subunitcolor": "white"
          },
          "hoverlabel": {
           "align": "left"
          },
          "hovermode": "closest",
          "mapbox": {
           "style": "light"
          },
          "paper_bgcolor": "white",
          "plot_bgcolor": "#E5ECF6",
          "polar": {
           "angularaxis": {
            "gridcolor": "white",
            "linecolor": "white",
            "ticks": ""
           },
           "bgcolor": "#E5ECF6",
           "radialaxis": {
            "gridcolor": "white",
            "linecolor": "white",
            "ticks": ""
           }
          },
          "scene": {
           "xaxis": {
            "backgroundcolor": "#E5ECF6",
            "gridcolor": "white",
            "gridwidth": 2,
            "linecolor": "white",
            "showbackground": true,
            "ticks": "",
            "zerolinecolor": "white"
           },
           "yaxis": {
            "backgroundcolor": "#E5ECF6",
            "gridcolor": "white",
            "gridwidth": 2,
            "linecolor": "white",
            "showbackground": true,
            "ticks": "",
            "zerolinecolor": "white"
           },
           "zaxis": {
            "backgroundcolor": "#E5ECF6",
            "gridcolor": "white",
            "gridwidth": 2,
            "linecolor": "white",
            "showbackground": true,
            "ticks": "",
            "zerolinecolor": "white"
           }
          },
          "shapedefaults": {
           "line": {
            "color": "#2a3f5f"
           }
          },
          "ternary": {
           "aaxis": {
            "gridcolor": "white",
            "linecolor": "white",
            "ticks": ""
           },
           "baxis": {
            "gridcolor": "white",
            "linecolor": "white",
            "ticks": ""
           },
           "bgcolor": "#E5ECF6",
           "caxis": {
            "gridcolor": "white",
            "linecolor": "white",
            "ticks": ""
           }
          },
          "title": {
           "x": 0.05
          },
          "xaxis": {
           "automargin": true,
           "gridcolor": "white",
           "linecolor": "white",
           "ticks": "",
           "title": {
            "standoff": 15
           },
           "zerolinecolor": "white",
           "zerolinewidth": 2
          },
          "yaxis": {
           "automargin": true,
           "gridcolor": "white",
           "linecolor": "white",
           "ticks": "",
           "title": {
            "standoff": 15
           },
           "zerolinecolor": "white",
           "zerolinewidth": 2
          }
         }
        },
        "title": {
         "text": "Curtailment was about 3% of notified generation"
        },
        "xaxis": {
         "anchor": "y",
         "domain": [
          0,
          1
         ],
         "title": {
          "text": "Time"
         }
        },
        "yaxis": {
         "anchor": "x",
         "domain": [
          0,
          1
         ],
         "title": {
          "text": "value"
         }
        }
       }
      }
     },
     "metadata": {},
     "output_type": "display_data"
    }
   ],
   "source": [
    "px.area(\n",
    "    df_generation_with_curtailment,\n",
    "    y=[\"Level\", \"inverted_delta\"],\n",
    "    title=\"Curtailment was about 3% of notified generation\",\n",
    ")"
   ]
  },
  {
   "cell_type": "markdown",
   "metadata": {},
   "source": [
    "Comparing just to wind, this is about 10% of wind power:\n",
    "\n"
   ]
  },
  {
   "cell_type": "code",
   "execution_count": 286,
   "metadata": {},
   "outputs": [
    {
     "data": {
      "application/vnd.plotly.v1+json": {
       "config": {
        "plotlyServerURL": "https://plot.ly"
       },
       "data": [
        {
         "fillpattern": {
          "shape": ""
         },
         "hovertemplate": "variable=Level<br>Time=%{x}<br>value=%{y}<extra></extra>",
         "legendgroup": "Level",
         "line": {
          "color": "#636efa"
         },
         "marker": {
          "symbol": "circle"
         },
         "mode": "lines",
         "name": "Level",
         "orientation": "v",
         "showlegend": true,
         "stackgroup": "1",
         "type": "scatter",
         "x": [
          "2022-03-19T13:00:00",
          "2022-03-19T13:01:00",
          "2022-03-19T13:02:00",
          "2022-03-19T13:03:00",
          "2022-03-19T13:04:00",
          "2022-03-19T13:05:00",
          "2022-03-19T13:06:00",
          "2022-03-19T13:07:00",
          "2022-03-19T13:08:00",
          "2022-03-19T13:09:00",
          "2022-03-19T13:10:00",
          "2022-03-19T13:11:00",
          "2022-03-19T13:12:00",
          "2022-03-19T13:13:00",
          "2022-03-19T13:14:00",
          "2022-03-19T13:15:00",
          "2022-03-19T13:16:00",
          "2022-03-19T13:17:00",
          "2022-03-19T13:18:00",
          "2022-03-19T13:19:00",
          "2022-03-19T13:20:00",
          "2022-03-19T13:21:00",
          "2022-03-19T13:22:00",
          "2022-03-19T13:23:00",
          "2022-03-19T13:24:00",
          "2022-03-19T13:25:00",
          "2022-03-19T13:26:00",
          "2022-03-19T13:27:00",
          "2022-03-19T13:28:00",
          "2022-03-19T13:29:00",
          "2022-03-19T13:30:00"
         ],
         "xaxis": "x",
         "y": [
          11562,
          11589.199999999999,
          11588.400000000001,
          11587.600000000002,
          11586.800000000001,
          11586,
          11585.200000000004,
          11584.400000000001,
          11583.599999999999,
          11582.799999999996,
          11582,
          11581.199999999999,
          11580.399999999998,
          11579.599999999999,
          11578.800000000001,
          11578,
          11577.199999999999,
          11576.400000000001,
          11575.600000000002,
          11574.800000000001,
          11574,
          11573.200000000004,
          11572.400000000001,
          11571.599999999999,
          11570.799999999996,
          11570,
          11569.199999999999,
          11568.399999999998,
          11567.599999999999,
          11566.800000000001,
          11582
         ],
         "yaxis": "y"
        },
        {
         "fillpattern": {
          "shape": ""
         },
         "hovertemplate": "variable=inverted_delta<br>Time=%{x}<br>value=%{y}<extra></extra>",
         "legendgroup": "inverted_delta",
         "line": {
          "color": "#EF553B"
         },
         "marker": {
          "symbol": "circle"
         },
         "mode": "lines",
         "name": "inverted_delta",
         "orientation": "v",
         "showlegend": true,
         "stackgroup": "1",
         "type": "scatter",
         "x": [
          "2022-03-19T13:00:00",
          "2022-03-19T13:01:00",
          "2022-03-19T13:02:00",
          "2022-03-19T13:03:00",
          "2022-03-19T13:04:00",
          "2022-03-19T13:05:00",
          "2022-03-19T13:06:00",
          "2022-03-19T13:07:00",
          "2022-03-19T13:08:00",
          "2022-03-19T13:09:00",
          "2022-03-19T13:10:00",
          "2022-03-19T13:11:00",
          "2022-03-19T13:12:00",
          "2022-03-19T13:13:00",
          "2022-03-19T13:14:00",
          "2022-03-19T13:15:00",
          "2022-03-19T13:16:00",
          "2022-03-19T13:17:00",
          "2022-03-19T13:18:00",
          "2022-03-19T13:19:00",
          "2022-03-19T13:20:00",
          "2022-03-19T13:21:00",
          "2022-03-19T13:22:00",
          "2022-03-19T13:23:00",
          "2022-03-19T13:24:00",
          "2022-03-19T13:25:00",
          "2022-03-19T13:26:00",
          "2022-03-19T13:27:00",
          "2022-03-19T13:28:00",
          "2022-03-19T13:29:00",
          "2022-03-19T13:30:00"
         ],
         "xaxis": "x",
         "y": [
          -1186,
          -1185.6,
          -1086.2,
          -1086.8,
          -1151.4,
          -1152,
          -1152.6,
          -1153.2,
          -1252.8,
          -1253.3999999999999,
          -1254,
          -1287.6,
          -1352.2,
          -1352.8000000000002,
          -1353.4,
          -1377,
          -1377.6,
          -1378.1999999999998,
          -1378.8,
          -1379.4,
          -1423,
          -1423.6000000000001,
          -1434.2,
          -1462.8,
          -1579.3999999999999,
          -1580,
          -1580.6,
          -1581.2,
          -1690.7999999999997,
          -1675.4,
          -1696
         ],
         "yaxis": "y"
        }
       ],
       "layout": {
        "legend": {
         "title": {
          "text": "variable"
         },
         "tracegroupgap": 0
        },
        "template": {
         "data": {
          "bar": [
           {
            "error_x": {
             "color": "#2a3f5f"
            },
            "error_y": {
             "color": "#2a3f5f"
            },
            "marker": {
             "line": {
              "color": "#E5ECF6",
              "width": 0.5
             },
             "pattern": {
              "fillmode": "overlay",
              "size": 10,
              "solidity": 0.2
             }
            },
            "type": "bar"
           }
          ],
          "barpolar": [
           {
            "marker": {
             "line": {
              "color": "#E5ECF6",
              "width": 0.5
             },
             "pattern": {
              "fillmode": "overlay",
              "size": 10,
              "solidity": 0.2
             }
            },
            "type": "barpolar"
           }
          ],
          "carpet": [
           {
            "aaxis": {
             "endlinecolor": "#2a3f5f",
             "gridcolor": "white",
             "linecolor": "white",
             "minorgridcolor": "white",
             "startlinecolor": "#2a3f5f"
            },
            "baxis": {
             "endlinecolor": "#2a3f5f",
             "gridcolor": "white",
             "linecolor": "white",
             "minorgridcolor": "white",
             "startlinecolor": "#2a3f5f"
            },
            "type": "carpet"
           }
          ],
          "choropleth": [
           {
            "colorbar": {
             "outlinewidth": 0,
             "ticks": ""
            },
            "type": "choropleth"
           }
          ],
          "contour": [
           {
            "colorbar": {
             "outlinewidth": 0,
             "ticks": ""
            },
            "colorscale": [
             [
              0,
              "#0d0887"
             ],
             [
              0.1111111111111111,
              "#46039f"
             ],
             [
              0.2222222222222222,
              "#7201a8"
             ],
             [
              0.3333333333333333,
              "#9c179e"
             ],
             [
              0.4444444444444444,
              "#bd3786"
             ],
             [
              0.5555555555555556,
              "#d8576b"
             ],
             [
              0.6666666666666666,
              "#ed7953"
             ],
             [
              0.7777777777777778,
              "#fb9f3a"
             ],
             [
              0.8888888888888888,
              "#fdca26"
             ],
             [
              1,
              "#f0f921"
             ]
            ],
            "type": "contour"
           }
          ],
          "contourcarpet": [
           {
            "colorbar": {
             "outlinewidth": 0,
             "ticks": ""
            },
            "type": "contourcarpet"
           }
          ],
          "heatmap": [
           {
            "colorbar": {
             "outlinewidth": 0,
             "ticks": ""
            },
            "colorscale": [
             [
              0,
              "#0d0887"
             ],
             [
              0.1111111111111111,
              "#46039f"
             ],
             [
              0.2222222222222222,
              "#7201a8"
             ],
             [
              0.3333333333333333,
              "#9c179e"
             ],
             [
              0.4444444444444444,
              "#bd3786"
             ],
             [
              0.5555555555555556,
              "#d8576b"
             ],
             [
              0.6666666666666666,
              "#ed7953"
             ],
             [
              0.7777777777777778,
              "#fb9f3a"
             ],
             [
              0.8888888888888888,
              "#fdca26"
             ],
             [
              1,
              "#f0f921"
             ]
            ],
            "type": "heatmap"
           }
          ],
          "heatmapgl": [
           {
            "colorbar": {
             "outlinewidth": 0,
             "ticks": ""
            },
            "colorscale": [
             [
              0,
              "#0d0887"
             ],
             [
              0.1111111111111111,
              "#46039f"
             ],
             [
              0.2222222222222222,
              "#7201a8"
             ],
             [
              0.3333333333333333,
              "#9c179e"
             ],
             [
              0.4444444444444444,
              "#bd3786"
             ],
             [
              0.5555555555555556,
              "#d8576b"
             ],
             [
              0.6666666666666666,
              "#ed7953"
             ],
             [
              0.7777777777777778,
              "#fb9f3a"
             ],
             [
              0.8888888888888888,
              "#fdca26"
             ],
             [
              1,
              "#f0f921"
             ]
            ],
            "type": "heatmapgl"
           }
          ],
          "histogram": [
           {
            "marker": {
             "pattern": {
              "fillmode": "overlay",
              "size": 10,
              "solidity": 0.2
             }
            },
            "type": "histogram"
           }
          ],
          "histogram2d": [
           {
            "colorbar": {
             "outlinewidth": 0,
             "ticks": ""
            },
            "colorscale": [
             [
              0,
              "#0d0887"
             ],
             [
              0.1111111111111111,
              "#46039f"
             ],
             [
              0.2222222222222222,
              "#7201a8"
             ],
             [
              0.3333333333333333,
              "#9c179e"
             ],
             [
              0.4444444444444444,
              "#bd3786"
             ],
             [
              0.5555555555555556,
              "#d8576b"
             ],
             [
              0.6666666666666666,
              "#ed7953"
             ],
             [
              0.7777777777777778,
              "#fb9f3a"
             ],
             [
              0.8888888888888888,
              "#fdca26"
             ],
             [
              1,
              "#f0f921"
             ]
            ],
            "type": "histogram2d"
           }
          ],
          "histogram2dcontour": [
           {
            "colorbar": {
             "outlinewidth": 0,
             "ticks": ""
            },
            "colorscale": [
             [
              0,
              "#0d0887"
             ],
             [
              0.1111111111111111,
              "#46039f"
             ],
             [
              0.2222222222222222,
              "#7201a8"
             ],
             [
              0.3333333333333333,
              "#9c179e"
             ],
             [
              0.4444444444444444,
              "#bd3786"
             ],
             [
              0.5555555555555556,
              "#d8576b"
             ],
             [
              0.6666666666666666,
              "#ed7953"
             ],
             [
              0.7777777777777778,
              "#fb9f3a"
             ],
             [
              0.8888888888888888,
              "#fdca26"
             ],
             [
              1,
              "#f0f921"
             ]
            ],
            "type": "histogram2dcontour"
           }
          ],
          "mesh3d": [
           {
            "colorbar": {
             "outlinewidth": 0,
             "ticks": ""
            },
            "type": "mesh3d"
           }
          ],
          "parcoords": [
           {
            "line": {
             "colorbar": {
              "outlinewidth": 0,
              "ticks": ""
             }
            },
            "type": "parcoords"
           }
          ],
          "pie": [
           {
            "automargin": true,
            "type": "pie"
           }
          ],
          "scatter": [
           {
            "fillpattern": {
             "fillmode": "overlay",
             "size": 10,
             "solidity": 0.2
            },
            "type": "scatter"
           }
          ],
          "scatter3d": [
           {
            "line": {
             "colorbar": {
              "outlinewidth": 0,
              "ticks": ""
             }
            },
            "marker": {
             "colorbar": {
              "outlinewidth": 0,
              "ticks": ""
             }
            },
            "type": "scatter3d"
           }
          ],
          "scattercarpet": [
           {
            "marker": {
             "colorbar": {
              "outlinewidth": 0,
              "ticks": ""
             }
            },
            "type": "scattercarpet"
           }
          ],
          "scattergeo": [
           {
            "marker": {
             "colorbar": {
              "outlinewidth": 0,
              "ticks": ""
             }
            },
            "type": "scattergeo"
           }
          ],
          "scattergl": [
           {
            "marker": {
             "colorbar": {
              "outlinewidth": 0,
              "ticks": ""
             }
            },
            "type": "scattergl"
           }
          ],
          "scattermapbox": [
           {
            "marker": {
             "colorbar": {
              "outlinewidth": 0,
              "ticks": ""
             }
            },
            "type": "scattermapbox"
           }
          ],
          "scatterpolar": [
           {
            "marker": {
             "colorbar": {
              "outlinewidth": 0,
              "ticks": ""
             }
            },
            "type": "scatterpolar"
           }
          ],
          "scatterpolargl": [
           {
            "marker": {
             "colorbar": {
              "outlinewidth": 0,
              "ticks": ""
             }
            },
            "type": "scatterpolargl"
           }
          ],
          "scatterternary": [
           {
            "marker": {
             "colorbar": {
              "outlinewidth": 0,
              "ticks": ""
             }
            },
            "type": "scatterternary"
           }
          ],
          "surface": [
           {
            "colorbar": {
             "outlinewidth": 0,
             "ticks": ""
            },
            "colorscale": [
             [
              0,
              "#0d0887"
             ],
             [
              0.1111111111111111,
              "#46039f"
             ],
             [
              0.2222222222222222,
              "#7201a8"
             ],
             [
              0.3333333333333333,
              "#9c179e"
             ],
             [
              0.4444444444444444,
              "#bd3786"
             ],
             [
              0.5555555555555556,
              "#d8576b"
             ],
             [
              0.6666666666666666,
              "#ed7953"
             ],
             [
              0.7777777777777778,
              "#fb9f3a"
             ],
             [
              0.8888888888888888,
              "#fdca26"
             ],
             [
              1,
              "#f0f921"
             ]
            ],
            "type": "surface"
           }
          ],
          "table": [
           {
            "cells": {
             "fill": {
              "color": "#EBF0F8"
             },
             "line": {
              "color": "white"
             }
            },
            "header": {
             "fill": {
              "color": "#C8D4E3"
             },
             "line": {
              "color": "white"
             }
            },
            "type": "table"
           }
          ]
         },
         "layout": {
          "annotationdefaults": {
           "arrowcolor": "#2a3f5f",
           "arrowhead": 0,
           "arrowwidth": 1
          },
          "autotypenumbers": "strict",
          "coloraxis": {
           "colorbar": {
            "outlinewidth": 0,
            "ticks": ""
           }
          },
          "colorscale": {
           "diverging": [
            [
             0,
             "#8e0152"
            ],
            [
             0.1,
             "#c51b7d"
            ],
            [
             0.2,
             "#de77ae"
            ],
            [
             0.3,
             "#f1b6da"
            ],
            [
             0.4,
             "#fde0ef"
            ],
            [
             0.5,
             "#f7f7f7"
            ],
            [
             0.6,
             "#e6f5d0"
            ],
            [
             0.7,
             "#b8e186"
            ],
            [
             0.8,
             "#7fbc41"
            ],
            [
             0.9,
             "#4d9221"
            ],
            [
             1,
             "#276419"
            ]
           ],
           "sequential": [
            [
             0,
             "#0d0887"
            ],
            [
             0.1111111111111111,
             "#46039f"
            ],
            [
             0.2222222222222222,
             "#7201a8"
            ],
            [
             0.3333333333333333,
             "#9c179e"
            ],
            [
             0.4444444444444444,
             "#bd3786"
            ],
            [
             0.5555555555555556,
             "#d8576b"
            ],
            [
             0.6666666666666666,
             "#ed7953"
            ],
            [
             0.7777777777777778,
             "#fb9f3a"
            ],
            [
             0.8888888888888888,
             "#fdca26"
            ],
            [
             1,
             "#f0f921"
            ]
           ],
           "sequentialminus": [
            [
             0,
             "#0d0887"
            ],
            [
             0.1111111111111111,
             "#46039f"
            ],
            [
             0.2222222222222222,
             "#7201a8"
            ],
            [
             0.3333333333333333,
             "#9c179e"
            ],
            [
             0.4444444444444444,
             "#bd3786"
            ],
            [
             0.5555555555555556,
             "#d8576b"
            ],
            [
             0.6666666666666666,
             "#ed7953"
            ],
            [
             0.7777777777777778,
             "#fb9f3a"
            ],
            [
             0.8888888888888888,
             "#fdca26"
            ],
            [
             1,
             "#f0f921"
            ]
           ]
          },
          "colorway": [
           "#636efa",
           "#EF553B",
           "#00cc96",
           "#ab63fa",
           "#FFA15A",
           "#19d3f3",
           "#FF6692",
           "#B6E880",
           "#FF97FF",
           "#FECB52"
          ],
          "font": {
           "color": "#2a3f5f"
          },
          "geo": {
           "bgcolor": "white",
           "lakecolor": "white",
           "landcolor": "#E5ECF6",
           "showlakes": true,
           "showland": true,
           "subunitcolor": "white"
          },
          "hoverlabel": {
           "align": "left"
          },
          "hovermode": "closest",
          "mapbox": {
           "style": "light"
          },
          "paper_bgcolor": "white",
          "plot_bgcolor": "#E5ECF6",
          "polar": {
           "angularaxis": {
            "gridcolor": "white",
            "linecolor": "white",
            "ticks": ""
           },
           "bgcolor": "#E5ECF6",
           "radialaxis": {
            "gridcolor": "white",
            "linecolor": "white",
            "ticks": ""
           }
          },
          "scene": {
           "xaxis": {
            "backgroundcolor": "#E5ECF6",
            "gridcolor": "white",
            "gridwidth": 2,
            "linecolor": "white",
            "showbackground": true,
            "ticks": "",
            "zerolinecolor": "white"
           },
           "yaxis": {
            "backgroundcolor": "#E5ECF6",
            "gridcolor": "white",
            "gridwidth": 2,
            "linecolor": "white",
            "showbackground": true,
            "ticks": "",
            "zerolinecolor": "white"
           },
           "zaxis": {
            "backgroundcolor": "#E5ECF6",
            "gridcolor": "white",
            "gridwidth": 2,
            "linecolor": "white",
            "showbackground": true,
            "ticks": "",
            "zerolinecolor": "white"
           }
          },
          "shapedefaults": {
           "line": {
            "color": "#2a3f5f"
           }
          },
          "ternary": {
           "aaxis": {
            "gridcolor": "white",
            "linecolor": "white",
            "ticks": ""
           },
           "baxis": {
            "gridcolor": "white",
            "linecolor": "white",
            "ticks": ""
           },
           "bgcolor": "#E5ECF6",
           "caxis": {
            "gridcolor": "white",
            "linecolor": "white",
            "ticks": ""
           }
          },
          "title": {
           "x": 0.05
          },
          "xaxis": {
           "automargin": true,
           "gridcolor": "white",
           "linecolor": "white",
           "ticks": "",
           "title": {
            "standoff": 15
           },
           "zerolinecolor": "white",
           "zerolinewidth": 2
          },
          "yaxis": {
           "automargin": true,
           "gridcolor": "white",
           "linecolor": "white",
           "ticks": "",
           "title": {
            "standoff": 15
           },
           "zerolinecolor": "white",
           "zerolinewidth": 2
          }
         }
        },
        "title": {
         "text": "11.78% of power was curtailed"
        },
        "xaxis": {
         "anchor": "y",
         "domain": [
          0,
          1
         ],
         "title": {
          "text": "Time"
         }
        },
        "yaxis": {
         "anchor": "x",
         "domain": [
          0,
          1
         ],
         "title": {
          "text": "value"
         }
        }
       }
      }
     },
     "metadata": {},
     "output_type": "display_data"
    }
   ],
   "source": [
    "wind_sum = (\n",
    "    df_generation[df_generation[\"Fuel Type\"] == \"WIND\"]\n",
    "    .groupby(\"Time\")\n",
    "    .sum()\n",
    "    .reset_index()\n",
    ")\n",
    "\n",
    "df_generation_with_curtailment = (\n",
    "    wind_sum.set_index(\"Time\")\n",
    "    .join(df_curtailment_all.groupby(\"Time\").sum()[\"delta\"], how=\"left\")\n",
    "    .reset_index()\n",
    ")\n",
    "df_generation_with_curtailment[\"inverted_delta\"] = -df_generation_with_curtailment[\n",
    "    \"delta\"\n",
    "]\n",
    "\n",
    "pct_curtailment = (\n",
    "    df_generation_with_curtailment[\"delta\"].sum()\n",
    "    / df_generation_with_curtailment[\"Level\"].sum()\n",
    "    * 100\n",
    ")\n",
    "px.area(\n",
    "    df_generation_with_curtailment,\n",
    "    \"Time\",\n",
    "    [\"Level\", \"inverted_delta\"],\n",
    "    title=f\"{pct_curtailment:.2f}% of power was curtailed\",\n",
    ")"
   ]
  },
  {
   "cell_type": "markdown",
   "metadata": {},
   "source": [
    "Roughly lines up with https://reports.electricinsights.co.uk/q4-2020/record-wind-output-and-curtailment/"
   ]
  },
  {
   "cell_type": "markdown",
   "metadata": {},
   "source": [
    "# TODO\n",
    "\n",
    "- run over on day\n",
    "- run over 1 year"
   ]
  }
 ],
 "metadata": {
  "interpreter": {
   "hash": "9ea56def47d7b993b4fa4448f50e9a1ad0c40747e90fa0876361919c4770db48"
  },
  "kernelspec": {
   "display_name": "Python 3 (ipykernel)",
   "language": "python",
   "name": "python3"
  },
  "language_info": {
   "codemirror_mode": {
    "name": "ipython",
    "version": 3
   },
   "file_extension": ".py",
   "mimetype": "text/x-python",
   "name": "python",
   "nbconvert_exporter": "python",
   "pygments_lexer": "ipython3",
   "version": "3.9.0"
  }
 },
 "nbformat": 4,
 "nbformat_minor": 2
}
